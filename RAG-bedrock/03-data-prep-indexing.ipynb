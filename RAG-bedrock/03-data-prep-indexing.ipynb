{
 "cells": [
  {
   "cell_type": "markdown",
   "id": "905bc12e-e919-4889-82f2-c9de8f67892c",
   "metadata": {},
   "source": [
    "## AOSS에 데이터 인덱싱\n",
    "\n",
    "- AOSS에 데이터를 인덱싱해 봅니다.\n",
    "- Langchain 등의 라이브러리를 활용할 수도 있지만, 여기서는 간단한 데이터 전처리에만 활용하였습니다.\n",
    "- AOSS에 데이터를 인덱싱하고 검색하는 부분은 boto3 와 opensearch-py를 활용하였습니다."
   ]
  },
  {
   "cell_type": "code",
   "execution_count": null,
   "id": "c68f0b14-27d5-4032-bac4-22a6f954c4f9",
   "metadata": {},
   "outputs": [],
   "source": []
  },
  {
   "cell_type": "code",
   "execution_count": null,
   "id": "7b6cd92a-dd75-4517-ace9-35f97ac33493",
   "metadata": {
    "tags": []
   },
   "outputs": [],
   "source": [
    "!pip install -q pypdf"
   ]
  },
  {
   "cell_type": "code",
   "execution_count": 33,
   "id": "64a4645e-6455-4291-9591-0c285ff8d803",
   "metadata": {
    "tags": []
   },
   "outputs": [
    {
     "name": "stdout",
     "output_type": "stream",
     "text": [
      "langchain                 0.2.5\n",
      "langchain-aws             0.1.7\n",
      "langchain-community       0.2.5\n",
      "langchain-core            0.2.9\n",
      "langchain-text-splitters  0.2.1\n",
      "pypdf                     4.2.0\n"
     ]
    }
   ],
   "source": [
    "!pip list | grep 'pypdf\\|langchain'"
   ]
  },
  {
   "cell_type": "code",
   "execution_count": null,
   "id": "23ff3968-f910-4134-91bc-afa129fdc7a2",
   "metadata": {
    "tags": []
   },
   "outputs": [],
   "source": [
    "import os\n",
    "\n",
    "# data_path = os.path.join(\"sample-data\", \"mortgage_kr_guide.pdf\")\n",
    "# data_path = os.path.join(\"sample-data\", \"school_edu_guide.pdf\")\n",
    "data_path = os.path.join(\"sample-data\", \"cs50_with_ai.pdf\")"
   ]
  },
  {
   "cell_type": "code",
   "execution_count": null,
   "id": "c3537664-a463-4cb4-9acc-eaa5e159908f",
   "metadata": {
    "tags": []
   },
   "outputs": [],
   "source": [
    "from langchain_community.document_loaders import PyPDFLoader\n",
    "\n",
    "loader = PyPDFLoader(data_path)"
   ]
  },
  {
   "cell_type": "code",
   "execution_count": null,
   "id": "94fc1d5e-a263-4db1-b9b9-a63db63e64eb",
   "metadata": {
    "tags": []
   },
   "outputs": [],
   "source": [
    "pages = loader.load_and_split()"
   ]
  },
  {
   "cell_type": "code",
   "execution_count": null,
   "id": "534ff673-b742-4d76-a0a7-e6d2d52b3934",
   "metadata": {
    "tags": []
   },
   "outputs": [],
   "source": [
    "len(pages)\n",
    "# print(pages[20].page_content)"
   ]
  },
  {
   "cell_type": "code",
   "execution_count": null,
   "id": "89251edd-2d96-482c-80c6-42baf457e606",
   "metadata": {
    "tags": []
   },
   "outputs": [],
   "source": [
    "from langchain_text_splitters import RecursiveCharacterTextSplitter"
   ]
  },
  {
   "cell_type": "code",
   "execution_count": null,
   "id": "00174239-2e1b-43b1-a84a-6e9264ed66ac",
   "metadata": {
    "tags": []
   },
   "outputs": [],
   "source": [
    "text_splitter = RecursiveCharacterTextSplitter(\n",
    "    chunk_size=1000,\n",
    "    chunk_overlap=200,\n",
    "    length_function=len,\n",
    "    is_separator_regex=False,\n",
    ")"
   ]
  },
  {
   "cell_type": "code",
   "execution_count": null,
   "id": "a5f84eeb-9799-42ba-aef8-e8323a0b9d88",
   "metadata": {
    "tags": []
   },
   "outputs": [],
   "source": [
    "documents = text_splitter.split_documents(pages)"
   ]
  },
  {
   "cell_type": "code",
   "execution_count": null,
   "id": "e19548ac-f1b2-4b9f-b2da-2ddeee8f5ac1",
   "metadata": {
    "tags": []
   },
   "outputs": [],
   "source": [
    "print(f\"Number of splitted data: {len(documents)}\")\n",
    "print(f\"Text sample: {documents[10].page_content}\")"
   ]
  },
  {
   "cell_type": "code",
   "execution_count": null,
   "id": "3ec8c30f-1ce6-4128-a868-ce68a8069b3b",
   "metadata": {
    "tags": []
   },
   "outputs": [],
   "source": [
    "print(documents[10].metadata[\"source\"])\n",
    "print(documents[10].metadata[\"page\"])"
   ]
  },
  {
   "cell_type": "code",
   "execution_count": null,
   "id": "4ce31a24-c47d-44e9-9bb3-507526035677",
   "metadata": {},
   "outputs": [],
   "source": []
  },
  {
   "cell_type": "code",
   "execution_count": null,
   "id": "c94e5800-7c68-466b-9ca1-e3e4010dcfbf",
   "metadata": {},
   "outputs": [],
   "source": []
  },
  {
   "cell_type": "code",
   "execution_count": null,
   "id": "db4a6c03-c847-4599-ae22-f28f59fadb74",
   "metadata": {
    "tags": []
   },
   "outputs": [],
   "source": [
    "import json\n",
    "import boto3\n",
    "\n",
    "bedrock = boto3.client(\"bedrock-runtime\")\n",
    "embedding_model_id = \"amazon.titan-embed-text-v2:0\"\n",
    "embedding_dimension = 1024\n",
    "\n",
    "def get_embedding_output(query):\n",
    "    \n",
    "    try:\n",
    "        body = {\n",
    "            \"inputText\": query,\n",
    "            \"dimensions\": embedding_dimension,\n",
    "            \"normalize\": True\n",
    "        }\n",
    "\n",
    "        response = bedrock.invoke_model(\n",
    "            body=json.dumps(body), \n",
    "            modelId=embedding_model_id,\n",
    "            accept='application/json',\n",
    "            contentType='application/json')\n",
    "\n",
    "        response_body = json.loads(response.get(\"body\").read())\n",
    "        embedding = response_body.get(\"embedding\")\n",
    "        return embedding\n",
    "    except Exception as e:\n",
    "        print(f\"Error: {e}\")\n",
    "        return False"
   ]
  },
  {
   "cell_type": "code",
   "execution_count": null,
   "id": "3ae4e3a9-6e5b-4b06-a58b-978f21165fac",
   "metadata": {
    "tags": []
   },
   "outputs": [],
   "source": []
  },
  {
   "cell_type": "code",
   "execution_count": null,
   "id": "4e8c553e-2ffa-4860-a8c9-4a33e07677de",
   "metadata": {
    "tags": []
   },
   "outputs": [],
   "source": [
    "data_list = []\n",
    "\n",
    "for doc in documents:\n",
    "    content = doc.page_content\n",
    "    meta = doc.metadata\n",
    "    embedding = get_embedding_output(content)\n",
    "    \n",
    "    if embedding and len(embedding) == embedding_dimension:\n",
    "        data_list.append({\n",
    "            \"content\": content,\n",
    "            \"content_embeddings\": embedding,\n",
    "            \"metadata\": meta,\n",
    "        })\n",
    "        print(\"Success to get index\")\n",
    "    else:\n",
    "        print(f\"Error: {content}\")"
   ]
  },
  {
   "cell_type": "code",
   "execution_count": null,
   "id": "5b55bd5f-6a00-4435-8230-a0a876cad734",
   "metadata": {
    "tags": []
   },
   "outputs": [],
   "source": [
    "print(f\"Raw doc size: {len(documents)}\")\n",
    "print(f\"Data to index size: {len(data_list)}\")"
   ]
  },
  {
   "cell_type": "code",
   "execution_count": null,
   "id": "e89aedaa-38d7-4060-bc93-4790dadf9b8b",
   "metadata": {},
   "outputs": [],
   "source": []
  },
  {
   "cell_type": "code",
   "execution_count": null,
   "id": "f3f900fd-1d3d-4301-8215-83bafc9d3b05",
   "metadata": {
    "tags": []
   },
   "outputs": [],
   "source": [
    "%store -r"
   ]
  },
  {
   "cell_type": "code",
   "execution_count": null,
   "id": "b7d473c9-e1d1-4f90-89ee-44991b1b24de",
   "metadata": {
    "tags": []
   },
   "outputs": [],
   "source": [
    "try:\n",
    "    print(collection_name)\n",
    "    print(vector_index_name)\n",
    "    print(aoss_endpoint)\n",
    "except:\n",
    "    collection_name = \"rag-hol-aoss-collection\"\n",
    "    vector_index_name = \"rag-hol-index-vector\"\n",
    "    aoss_endpoint = \"1zo3f6fuhn7vowcv1ld7.us-west-2.aoss.amazonaws.com\"\n",
    "    "
   ]
  },
  {
   "cell_type": "code",
   "execution_count": null,
   "id": "fbee0f51-d581-4d50-83d5-75838d42ac2f",
   "metadata": {
    "tags": []
   },
   "outputs": [],
   "source": [
    "from opensearchpy import OpenSearch, RequestsHttpConnection\n",
    "from requests_aws4auth import AWS4Auth\n",
    "import boto3\n",
    "import botocore\n",
    "import time\n",
    "\n",
    "import sagemaker\n",
    "\n",
    "sess = sagemaker.Session()\n",
    "role = sagemaker.get_execution_role()\n",
    "region = boto3.Session().region_name\n",
    "\n",
    "service = 'aoss'\n",
    "credentials = boto3.Session().get_credentials()\n",
    "awsauth = AWS4Auth(credentials.access_key, credentials.secret_key,\n",
    "                   region, service, session_token=credentials.token)\n"
   ]
  },
  {
   "cell_type": "code",
   "execution_count": null,
   "id": "f744f47b-63d1-48f8-9e1e-c8fd6e8d0f42",
   "metadata": {
    "tags": []
   },
   "outputs": [],
   "source": [
    "def get_aoss_client(host):\n",
    "    client = OpenSearch(\n",
    "        hosts=[{'host': host, 'port': 443}],\n",
    "        http_auth=awsauth,\n",
    "        use_ssl=True,\n",
    "        verify_certs=True,\n",
    "        connection_class=RequestsHttpConnection,\n",
    "        timeout=6000\n",
    "    )\n",
    "    return client"
   ]
  },
  {
   "cell_type": "code",
   "execution_count": null,
   "id": "bd3aa57e-5a1d-4322-afef-c0b0fe7837b1",
   "metadata": {
    "tags": []
   },
   "outputs": [],
   "source": [
    "aoss_client = get_aoss_client(aoss_endpoint)\n"
   ]
  },
  {
   "cell_type": "code",
   "execution_count": null,
   "id": "39dcf80c-696c-443b-bdaa-b40b964ba524",
   "metadata": {
    "tags": []
   },
   "outputs": [],
   "source": [
    "for data in data_list:\n",
    "    try:\n",
    "        response = aoss_client.index(index=vector_index_name, body=data)\n",
    "        print(response)\n",
    "    except Exception as e:\n",
    "        print(f\"Error: {e}\")"
   ]
  },
  {
   "cell_type": "markdown",
   "id": "fa1a2d4a-da9e-48b8-ad50-d6a9d6f83600",
   "metadata": {},
   "source": [
    "### 데이터 검색\n",
    "\n",
    "- 위의 과정을 거치면 데이터가 인덱싱되게 됩니다. 여기서는 item을 하나씩 넣었지만, 실제 환경에서는 필요한 경우 [bulk](https://github.com/opensearch-project/opensearch-py/blob/main/guides/bulk.md) 로 넣는 것도 고려할 필요가 있습니다.\n",
    "- 인덱싱이 정상적으로 되었다면, 검색을 해 볼 수 있습니다.\n",
    "- 아래에서 semantic search와 lexical search의 가장 기본적인 방식을 테스트해 볼 수 있습니다.\n"
   ]
  },
  {
   "cell_type": "code",
   "execution_count": null,
   "id": "928815b0-c4f1-4dd2-8ab5-c7d2a342ce53",
   "metadata": {
    "tags": []
   },
   "outputs": [],
   "source": [
    "# It could takes more than 1 min to indexing\n",
    "sample_out = aoss_client.get(index=vector_index_name, id=\"1%3A0%3AlaHCR5ABWp_sIC9zthBC\")\n",
    "print(sample_out)"
   ]
  },
  {
   "cell_type": "code",
   "execution_count": null,
   "id": "efef57eb-055f-482e-8bfb-9145608f23ca",
   "metadata": {},
   "outputs": [],
   "source": []
  },
  {
   "cell_type": "code",
   "execution_count": null,
   "id": "91c0d312-d401-4b22-ab56-e2ca51393b4e",
   "metadata": {
    "tags": []
   },
   "outputs": [],
   "source": [
    "vector = get_embedding_output(\"교육에서 챗봇을 어떻게 활용해야 하나요\")"
   ]
  },
  {
   "cell_type": "code",
   "execution_count": null,
   "id": "63b9e337-fc0e-4256-a57d-b6c788b1abda",
   "metadata": {
    "tags": []
   },
   "outputs": [],
   "source": [
    "vector_query = {\n",
    "  \"query\": {\n",
    "    \"knn\": {\n",
    "      \"content_embeddings\": {\n",
    "        \"vector\": vector,\n",
    "        \"k\": 5\n",
    "      }\n",
    "    }\n",
    "  }\n",
    "}"
   ]
  },
  {
   "cell_type": "code",
   "execution_count": null,
   "id": "44fbf7da-97af-49bd-80a0-958a46d79139",
   "metadata": {
    "tags": []
   },
   "outputs": [],
   "source": [
    "response = aoss_client.search(index=vector_index_name, body=vector_query, size=3)"
   ]
  },
  {
   "cell_type": "code",
   "execution_count": null,
   "id": "766f2b31-239e-4851-b8af-821404c6790c",
   "metadata": {
    "tags": []
   },
   "outputs": [],
   "source": [
    "vector_search_result = [result[\"_source\"][\"content\"] for result in response[\"hits\"][\"hits\"]]"
   ]
  },
  {
   "cell_type": "code",
   "execution_count": null,
   "id": "f41df3aa-e313-4683-bcb7-dc1e5abc67a7",
   "metadata": {
    "tags": []
   },
   "outputs": [],
   "source": [
    "vector_search_result"
   ]
  },
  {
   "cell_type": "code",
   "execution_count": null,
   "id": "224c514a-497b-4d16-a58d-6f644ef10e39",
   "metadata": {
    "tags": []
   },
   "outputs": [],
   "source": [
    "# query_text = \"교육에서 챗봇을 어떻게 활용해야 하나요\"\n",
    "query_text = \"How to use chatbot for education?\"\n",
    "keyword_query = {\"query\": {\"match\": {\"content\": query_text}}}"
   ]
  },
  {
   "cell_type": "code",
   "execution_count": null,
   "id": "eabda7e5-9023-47a7-9e5a-abc67e7d557b",
   "metadata": {
    "tags": []
   },
   "outputs": [],
   "source": [
    "response = aoss_client.search(index=vector_index_name, body=keyword_query, size=3)"
   ]
  },
  {
   "cell_type": "code",
   "execution_count": null,
   "id": "010f29bf-de03-4d7a-9f75-f4604ece10d7",
   "metadata": {
    "tags": []
   },
   "outputs": [],
   "source": [
    "keyword_search_results = [result[\"_source\"][\"content\"] for result in response[\"hits\"][\"hits\"]]"
   ]
  },
  {
   "cell_type": "code",
   "execution_count": null,
   "id": "ce33c64d-74a9-4c0e-b5bc-26f8a0681177",
   "metadata": {
    "tags": []
   },
   "outputs": [],
   "source": [
    "keyword_search_results"
   ]
  },
  {
   "cell_type": "code",
   "execution_count": null,
   "id": "2d848899-36cd-486a-8ce0-f71d42e76313",
   "metadata": {},
   "outputs": [],
   "source": []
  },
  {
   "cell_type": "code",
   "execution_count": null,
   "id": "530610df-4a77-4fbf-a8bd-ebb0536ce9e0",
   "metadata": {
    "tags": []
   },
   "outputs": [],
   "source": [
    "%store aoss_client"
   ]
  },
  {
   "cell_type": "code",
   "execution_count": null,
   "id": "51b2bac7-6dd3-4f81-8b67-338cccf93f31",
   "metadata": {},
   "outputs": [],
   "source": []
  }
 ],
 "metadata": {
  "kernelspec": {
   "display_name": "conda_pytorch_p310",
   "language": "python",
   "name": "conda_pytorch_p310"
  },
  "language_info": {
   "codemirror_mode": {
    "name": "ipython",
    "version": 3
   },
   "file_extension": ".py",
   "mimetype": "text/x-python",
   "name": "python",
   "nbconvert_exporter": "python",
   "pygments_lexer": "ipython3",
   "version": "3.10.14"
  }
 },
 "nbformat": 4,
 "nbformat_minor": 5
}
