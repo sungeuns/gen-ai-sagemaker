{
 "cells": [
  {
   "cell_type": "markdown",
   "id": "0eef85dc-cb79-403d-8583-161f67ba04f6",
   "metadata": {},
   "source": [
    "## Amazon Opensearch 테스트\n",
    "\n",
    "여기에서는 AOSS (amazon opensearch serverless) 를 활용합니다.\n",
    "\n",
    "### 사전 준비사항\n",
    "\n",
    "- SageMaker notebook 에서 사용하는 IAM role에 아래 권한을 추가해야 합니다.\n",
    "  - `AmazonOpenSearchServiceFullAccess`\n"
   ]
  },
  {
   "cell_type": "code",
   "execution_count": null,
   "id": "09067741-91ac-43d4-8602-57135e7c3af8",
   "metadata": {
    "tags": []
   },
   "outputs": [],
   "source": [
    "!pip install -q opensearch-py requests-aws4auth"
   ]
  },
  {
   "cell_type": "code",
   "execution_count": null,
   "id": "b7055320-5f92-48a6-ae89-1a68b45b12b7",
   "metadata": {
    "tags": []
   },
   "outputs": [],
   "source": [
    "!pip list | grep 'opensearch-py\\|requests-aws4auth'"
   ]
  },
  {
   "cell_type": "code",
   "execution_count": null,
   "id": "9525d6a5-104c-4d27-aa6c-d07e33c7973d",
   "metadata": {
    "tags": []
   },
   "outputs": [],
   "source": [
    "from opensearchpy import OpenSearch, RequestsHttpConnection\n",
    "from requests_aws4auth import AWS4Auth\n",
    "import boto3\n",
    "import botocore\n",
    "import time\n",
    "\n",
    "import sagemaker\n",
    "\n",
    "sess = sagemaker.Session()\n",
    "role = sagemaker.get_execution_role()\n",
    "region = boto3.Session().region_name\n",
    "\n",
    "\n",
    "client = boto3.client('opensearchserverless')\n",
    "service = 'aoss'\n",
    "credentials = boto3.Session().get_credentials()\n",
    "awsauth = AWS4Auth(credentials.access_key, credentials.secret_key,\n",
    "                   region, service, session_token=credentials.token)"
   ]
  },
  {
   "cell_type": "code",
   "execution_count": null,
   "id": "95caf162-ade9-47e1-8f45-148b19e3335b",
   "metadata": {
    "tags": []
   },
   "outputs": [],
   "source": []
  },
  {
   "cell_type": "code",
   "execution_count": null,
   "id": "10fd6633-9492-4741-9378-faede735e2f0",
   "metadata": {
    "tags": []
   },
   "outputs": [],
   "source": [
    "collection_name = \"rag-hol-aoss-collection\""
   ]
  },
  {
   "cell_type": "code",
   "execution_count": null,
   "id": "2c9602a5-11dc-43b7-bb38-7ee4e7b26b04",
   "metadata": {},
   "outputs": [],
   "source": []
  },
  {
   "cell_type": "code",
   "execution_count": null,
   "id": "2791c0eb-b742-4e72-a2b4-91ef1f0ccd21",
   "metadata": {
    "tags": []
   },
   "outputs": [],
   "source": [
    "def createEncryptionPolicy(client, collection):\n",
    "    try:\n",
    "        policy_format = \"\"\"\n",
    "                {\n",
    "                    \\\"Rules\\\":[\n",
    "                        {\n",
    "                            \\\"ResourceType\\\":\\\"collection\\\",\n",
    "                            \\\"Resource\\\":[\n",
    "                                \\\"collection\\/{collection_name}*\\\"\n",
    "                            ]\n",
    "                        }\n",
    "                    ],\n",
    "                    \\\"AWSOwnedKey\\\":true\n",
    "                }\n",
    "                \"\"\"\n",
    "        \n",
    "        policy_string = policy_format.replace(\"{collection_name}\", collection)\n",
    "\n",
    "        response = client.create_security_policy(\n",
    "            description=f'Encryption policy for {collection}',\n",
    "            name=f'{collection}-policy',\n",
    "            policy=policy_string,\n",
    "            type='encryption'\n",
    "        )\n",
    "        print('\\nEncryption policy created:')\n",
    "        print(response)\n",
    "        return response\n",
    "    except botocore.exceptions.ClientError as error:\n",
    "        if error.response['Error']['Code'] == 'ConflictException':\n",
    "            print(\n",
    "                '[ConflictException] The policy name or rules conflict with an existing policy.')\n",
    "        else:\n",
    "            raise error\n",
    "\n",
    "\n",
    "def createNetworkPolicy(client, collection):\n",
    "    try:\n",
    "        policy_format = \"\"\"\n",
    "                [{\n",
    "                    \\\"Description\\\":\\\"Public access for {collection_name}\\\",\n",
    "                    \\\"Rules\\\":[\n",
    "                        {\n",
    "                            \\\"ResourceType\\\":\\\"dashboard\\\",\n",
    "                            \\\"Resource\\\":[\\\"collection\\/{collection_name}*\\\"]\n",
    "                        },\n",
    "                        {\n",
    "                            \\\"ResourceType\\\":\\\"collection\\\",\n",
    "                            \\\"Resource\\\":[\\\"collection\\/{collection_name}*\\\"]\n",
    "                        }\n",
    "                    ],\n",
    "                    \\\"AllowFromPublic\\\":true\n",
    "                }]\n",
    "                \"\"\"\n",
    "        \n",
    "        policy_string = policy_format.replace(\"{collection_name}\", collection)\n",
    "        \n",
    "        response = client.create_security_policy(\n",
    "            description=f'Network policy for {collection}',\n",
    "            name=f'{collection}-policy',\n",
    "            policy=policy_string,\n",
    "            type='network'\n",
    "        )\n",
    "        print('\\nNetwork policy created:')\n",
    "        print(response)\n",
    "        return response\n",
    "    except botocore.exceptions.ClientError as error:\n",
    "        if error.response['Error']['Code'] == 'ConflictException':\n",
    "            print(\n",
    "                '[ConflictException] A network policy with this name already exists.')\n",
    "        else:\n",
    "            raise error\n",
    "\n",
    "\n",
    "def createAccessPolicy(client, collection, role):\n",
    "    try:\n",
    "        policy_format = \"\"\"\n",
    "                [{\n",
    "                    \\\"Rules\\\":[\n",
    "                        {\n",
    "                            \\\"Resource\\\":[\n",
    "                                \\\"index\\/{collection_name}*\\/*\\\"\n",
    "                            ],\n",
    "                            \\\"Permission\\\":[\n",
    "                                \\\"aoss:CreateIndex\\\",\n",
    "                                \\\"aoss:DeleteIndex\\\",\n",
    "                                \\\"aoss:UpdateIndex\\\",\n",
    "                                \\\"aoss:DescribeIndex\\\",\n",
    "                                \\\"aoss:ReadDocument\\\",\n",
    "                                \\\"aoss:WriteDocument\\\"\n",
    "                            ],\n",
    "                            \\\"ResourceType\\\": \\\"index\\\"\n",
    "                        },\n",
    "                        {\n",
    "                            \\\"Resource\\\":[\n",
    "                                \\\"collection\\/{collection_name}*\\\"\n",
    "                            ],\n",
    "                            \\\"Permission\\\":[\n",
    "                                \\\"aoss:CreateCollectionItems\\\"\n",
    "                            ],\n",
    "                            \\\"ResourceType\\\": \\\"collection\\\"\n",
    "                        }\n",
    "                    ],\n",
    "                    \\\"Principal\\\":[\n",
    "                        \\\"{role_arn}\\\"\n",
    "                    ]\n",
    "                }]\n",
    "                \"\"\"\n",
    "        policy_string = policy_format.replace(\"{collection_name}\", collection)\n",
    "        policy_string = policy_string.replace(\"{role_arn}\", role)\n",
    "        \n",
    "        response = client.create_access_policy(\n",
    "            description=f'Data access policy for {collection}',\n",
    "            name=f'{collection}-policy',\n",
    "            policy=policy_string,\n",
    "            type='data'\n",
    "        )\n",
    "        print('\\nAccess policy created:')\n",
    "        print(response)\n",
    "        return response\n",
    "    except botocore.exceptions.ClientError as error:\n",
    "        if error.response['Error']['Code'] == 'ConflictException':\n",
    "            print(\n",
    "                '[ConflictException] An access policy with this name already exists.')\n",
    "        else:\n",
    "            raise error\n",
    "\n",
    "\n",
    "def createCollection(client, collection):\n",
    "    try:\n",
    "        response = client.create_collection(\n",
    "            name=collection,\n",
    "            type='VECTORSEARCH'\n",
    "        )\n",
    "        print(response)\n",
    "        return response\n",
    "    except botocore.exceptions.ClientError as error:\n",
    "        if error.response['Error']['Code'] == 'ConflictException':\n",
    "            print(\n",
    "                '[ConflictException] A collection with this name already exists. Try another name.')\n",
    "        else:\n",
    "            raise error\n",
    "\n",
    "\n",
    "def waitForCollectionCreation(client, collection):\n",
    "    \"\"\"Waits for the collection to become active\"\"\"\n",
    "    response = client.batch_get_collection(\n",
    "        names=[collection])\n",
    "    # Periodically check collection status\n",
    "    while (response['collectionDetails'][0]['status']) == 'CREATING':\n",
    "        print('Creating collection...')\n",
    "        time.sleep(30)\n",
    "        response = client.batch_get_collection(\n",
    "            names=[collection])\n",
    "    print('\\nCollection successfully created:')\n",
    "    print(response[\"collectionDetails\"])\n",
    "    # Extract the collection endpoint from the response\n",
    "    host = (response['collectionDetails'][0]['collectionEndpoint'])\n",
    "    final_host = host.replace(\"https://\", \"\")\n",
    "    return final_host\n",
    "    # indexData(final_host)\n"
   ]
  },
  {
   "cell_type": "code",
   "execution_count": null,
   "id": "340f0835-7751-4ee2-bf10-5639b7b6fa00",
   "metadata": {},
   "outputs": [],
   "source": []
  },
  {
   "cell_type": "code",
   "execution_count": null,
   "id": "d7b00f07-7311-4028-b453-19fe2a977a0a",
   "metadata": {
    "tags": []
   },
   "outputs": [],
   "source": [
    "createEncryptionPolicy(aoss_client, collection_name)\n",
    "createNetworkPolicy(client, collection_name)\n",
    "createAccessPolicy(client, collection_name, role)\n",
    "createCollection(client, collection_name)\n",
    "aoss_endpoint = waitForCollectionCreation(client, collection_name)\n",
    "\n",
    "# It can take up to a minute for data access rules to be enforced"
   ]
  },
  {
   "cell_type": "code",
   "execution_count": null,
   "id": "df786a19-952d-4a18-ac41-1ba62cbdeb62",
   "metadata": {
    "tags": []
   },
   "outputs": [],
   "source": [
    "print(aoss_endpoint)"
   ]
  },
  {
   "cell_type": "code",
   "execution_count": null,
   "id": "916db5ac-bc47-4e6f-ac83-19103e46f33d",
   "metadata": {
    "tags": []
   },
   "outputs": [],
   "source": [
    "\n",
    "def getOpenSearchClient(host):\n",
    "    client = OpenSearch(\n",
    "        hosts=[{'host': host, 'port': 443}],\n",
    "        http_auth=awsauth,\n",
    "        use_ssl=True,\n",
    "        verify_certs=True,\n",
    "        connection_class=RequestsHttpConnection,\n",
    "        timeout=6000\n",
    "    )\n",
    "    return client\n",
    "    \n",
    "    \n",
    "def getIndex(host, index_name):\n",
    "    try:\n",
    "        client = getOpenSearchClient(host)\n",
    "        response = client.indices.get(index_name)\n",
    "        print(response)\n",
    "        return response\n",
    "    except Exception as e:\n",
    "        print(f\"Error: {e}\")\n",
    "\n",
    "        \n",
    "def deleteIndex(host, index_name):\n",
    "    client = getOpenSearchClient(host)\n",
    "    response = client.indices.delete(index_name)\n",
    "    print('\\nDeleting index:')\n",
    "    print(response)\n",
    "    \n",
    "    return response\n",
    "    \n",
    "\n",
    "# Note that it can take up to a minute for data access rules to be enforced\n",
    "def createIndex(host, index_name, index_schema=None):\n",
    "    client = getOpenSearchClient(host)\n",
    "    \n",
    "    if index_schema:\n",
    "        response = client.indices.create(index_name, body=index_schema)\n",
    "    else:\n",
    "        response = client.indices.create(index_name)\n",
    "    print('\\nCreating index:')\n",
    "    print(response)\n",
    "    \n",
    "    return response\n",
    "\n",
    "\n",
    "def addSampleData(host, index_name, data):\n",
    "    client = getOpenSearchClient(host)\n",
    "\n",
    "    response = client.index(\n",
    "        index=index_name,\n",
    "        body=data,\n",
    "    )\n",
    "    print('\\nDocument added:')\n",
    "    print(response)\n",
    "    return response\n",
    "\n",
    "\n",
    "def getSampleData(host, index_name, doc_id):\n",
    "    client = getOpenSearchClient(host)\n",
    "    \n",
    "    response = client.get(index=index_name, id=doc_id)\n",
    "    print(response)\n",
    "    return response"
   ]
  },
  {
   "cell_type": "code",
   "execution_count": null,
   "id": "dc664594-5fc8-45f2-8fbf-a3549bd7b54f",
   "metadata": {
    "tags": []
   },
   "outputs": [],
   "source": [
    "index_name = \"rag-hol-index-simple\"\n",
    "createIndex(aoss_endpoint, index_name)\n",
    "\n",
    "# deleteIndex(aoss_endpoint, index_name)\n"
   ]
  },
  {
   "cell_type": "code",
   "execution_count": null,
   "id": "6c945315-df7a-4f06-93a0-0fd26d241a5b",
   "metadata": {
    "tags": []
   },
   "outputs": [],
   "source": [
    "getIndex(aoss_endpoint, index_name)"
   ]
  },
  {
   "cell_type": "code",
   "execution_count": null,
   "id": "5c1bfcdb-1428-495d-956a-0df3169b8c53",
   "metadata": {
    "tags": []
   },
   "outputs": [],
   "source": [
    "sample_data = {\n",
    "    'title': 'Seinfeld',\n",
    "    'creator': 'Larry David',\n",
    "    'year': 1989\n",
    "}\n",
    "\n",
    "add_result = addSampleData(aoss_endpoint, index_name, sample_data)"
   ]
  },
  {
   "cell_type": "code",
   "execution_count": null,
   "id": "2bcc7f99-c233-40a5-aa58-fdb36042b790",
   "metadata": {
    "tags": []
   },
   "outputs": [],
   "source": [
    "document_id = add_result[\"_id\"]\n",
    "print(document_id)"
   ]
  },
  {
   "cell_type": "code",
   "execution_count": null,
   "id": "167a82db-8d51-4f6d-8df3-5be5344f6037",
   "metadata": {
    "tags": []
   },
   "outputs": [],
   "source": [
    "# It could takes more than 1 min to indexing\n",
    "getSampleData(aoss_endpoint, index_name, document_id)"
   ]
  },
  {
   "cell_type": "code",
   "execution_count": null,
   "id": "818e1b8b-35c5-4da4-b897-2d8eaf790d66",
   "metadata": {
    "tags": []
   },
   "outputs": [],
   "source": []
  },
  {
   "cell_type": "code",
   "execution_count": null,
   "id": "e08d32fd-b17b-4a17-84db-448a5be16bdd",
   "metadata": {},
   "outputs": [],
   "source": []
  },
  {
   "cell_type": "code",
   "execution_count": null,
   "id": "38a2c206-6634-4c10-a233-9695667063de",
   "metadata": {},
   "outputs": [],
   "source": []
  },
  {
   "cell_type": "code",
   "execution_count": null,
   "id": "c7febae2-0a3c-4dc7-a5db-e4618bddfc88",
   "metadata": {},
   "outputs": [],
   "source": [
    "ef_search = 512\n",
    "embedding_model_dimensions = 1024\n",
    "\n",
    "index_schema = {\n",
    "        \"settings\": {\n",
    "            \"index\": {\n",
    "                \"knn\": True,\n",
    "                \"knn.algo_param.ef_search\": ef_search,\n",
    "            }\n",
    "        },\n",
    "        \"mappings\": {\n",
    "            \"properties\": {\n",
    "                \"content_embeddings\": {\n",
    "                    \"type\": \"knn_vector\",\n",
    "                    \"dimension\": embedding_model_dimensions,\n",
    "                    \"method\": {\n",
    "                        \"name\": \"hnsw\",\n",
    "                        \"space_type\": \"cosinesimil\",\n",
    "                        # \"space_type\": \"l2\",\n",
    "                        \"engine\": \"nmslib\",\n",
    "                        \"parameters\": {\"ef_construction\": 512, \"m\": 16},\n",
    "                    },\n",
    "                },\n",
    "                \"content\": {\"type\": \"text\", \"analyzer\": \"nori\"},\n",
    "                \"metadata\": {\"type\": \"object\"},\n",
    "            }\n",
    "        },\n",
    "    }"
   ]
  },
  {
   "cell_type": "code",
   "execution_count": null,
   "id": "69283c13-6e3b-485b-9317-0e7ea41a13b5",
   "metadata": {},
   "outputs": [],
   "source": [
    "vector_index_name = \"rag-hol-index-vector\"\n",
    "createIndex(aoss_endpoint, vector_index_name, index_schema)"
   ]
  },
  {
   "cell_type": "code",
   "execution_count": null,
   "id": "a41a32a7-f662-47fd-b0e1-c5eb885d10ad",
   "metadata": {
    "tags": []
   },
   "outputs": [],
   "source": [
    "getIndex(aoss_endpoint, vector_index_name)"
   ]
  },
  {
   "cell_type": "code",
   "execution_count": null,
   "id": "b209d942-892e-4f09-998c-7456d68d7405",
   "metadata": {},
   "outputs": [],
   "source": []
  },
  {
   "cell_type": "code",
   "execution_count": null,
   "id": "7e65dd2b-1dbf-475d-a077-afa747de74f1",
   "metadata": {
    "tags": []
   },
   "outputs": [],
   "source": [
    "%store collection_name\n",
    "%store vector_index_name\n",
    "%store aoss_endpoint"
   ]
  },
  {
   "cell_type": "code",
   "execution_count": null,
   "id": "a8ac1b0c-91b5-4905-939a-efa6c8bc3410",
   "metadata": {},
   "outputs": [],
   "source": []
  }
 ],
 "metadata": {
  "kernelspec": {
   "display_name": "conda_pytorch_p310",
   "language": "python",
   "name": "conda_pytorch_p310"
  },
  "language_info": {
   "codemirror_mode": {
    "name": "ipython",
    "version": 3
   },
   "file_extension": ".py",
   "mimetype": "text/x-python",
   "name": "python",
   "nbconvert_exporter": "python",
   "pygments_lexer": "ipython3",
   "version": "3.10.14"
  }
 },
 "nbformat": 4,
 "nbformat_minor": 5
}
