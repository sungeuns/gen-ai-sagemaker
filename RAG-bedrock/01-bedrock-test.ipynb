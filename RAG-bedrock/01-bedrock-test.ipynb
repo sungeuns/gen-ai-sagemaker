{
 "cells": [
  {
   "cell_type": "markdown",
   "id": "8fdceef6-f1a9-4138-9db5-809e590982ea",
   "metadata": {},
   "source": [
    "## Bedrock 활용 테스트\n",
    "\n",
    "### 사전 준비사항\n",
    "\n",
    "- bedrock 콘솔에서 `model access` 신청을 해야 합니다.\n",
    "- 여기서는 아래 2가지 모델을 주로 활용합니다.\n",
    "  - `Claude 3 Sonnet` : 한국어를 지원하는 성능이 좋은 LLM입니다.\n",
    "  - `Titan Text Embeddings V2` : Semantic search 등에 필요한 embedding 모델입니다.\n",
    "- SageMaker notebook 에서 사용하는 IAM role에 아래 권한을 추가해야 합니다.\n",
    "  - `AmazonBedrockFullAccess`\n"
   ]
  },
  {
   "cell_type": "code",
   "execution_count": null,
   "id": "e66c04d6-eafe-424b-9ea7-26effa61a2f3",
   "metadata": {
    "tags": []
   },
   "outputs": [],
   "source": [
    "!pip install -q langchain langchain-aws langchain-community"
   ]
  },
  {
   "cell_type": "code",
   "execution_count": null,
   "id": "36db499c-6817-4fc6-bae2-1cf75182cd08",
   "metadata": {
    "tags": []
   },
   "outputs": [],
   "source": [
    "!pip list | grep 'langchain\\|boto3'"
   ]
  },
  {
   "cell_type": "code",
   "execution_count": null,
   "id": "df2e5b6f-c775-47c8-a23f-2f93f53b746a",
   "metadata": {
    "tags": []
   },
   "outputs": [],
   "source": [
    "import boto3\n",
    "import json\n",
    "\n",
    "bedrock = boto3.client('bedrock-runtime')"
   ]
  },
  {
   "cell_type": "markdown",
   "id": "5098bf46-07c6-4d56-9984-11cf6673a9bb",
   "metadata": {},
   "source": [
    "### boto3 를 사용하여 bedrock 활용"
   ]
  },
  {
   "cell_type": "code",
   "execution_count": null,
   "id": "76393167-b1c8-4612-b096-ce04027738a1",
   "metadata": {
    "tags": []
   },
   "outputs": [],
   "source": [
    "bedrock_model_id = \"anthropic.claude-3-sonnet-20240229-v1:0\"\n",
    "\n",
    "def get_llm_output(prompt):\n",
    "    body = json.dumps({\n",
    "                \"anthropic_version\": \"bedrock-2023-05-31\",\n",
    "                \"max_tokens\": 1024,\n",
    "                \"temperature\" : 0.1,\n",
    "                \"top_p\": 0.5,\n",
    "                \"messages\": [\n",
    "                    {\n",
    "                        \"role\": \"user\",\n",
    "                        \"content\": [\n",
    "                            {\"type\": \"text\", \"text\": prompt},\n",
    "                        ],\n",
    "                    }\n",
    "                ],\n",
    "            }) \n",
    "\n",
    "    response = bedrock.invoke_model(\n",
    "        body=body, \n",
    "        modelId=bedrock_model_id,\n",
    "        accept='application/json',\n",
    "        contentType='application/json')\n",
    "\n",
    "    response_body = json.loads(response.get(\"body\").read())\n",
    "    llm_output = response_body.get(\"content\")[0].get(\"text\")\n",
    "    return llm_output"
   ]
  },
  {
   "cell_type": "code",
   "execution_count": null,
   "id": "eb07ce0e-073c-40cb-9ab4-b7381cc60172",
   "metadata": {
    "tags": []
   },
   "outputs": [],
   "source": [
    "prompt = \"미국에서 가장 큰 도시는 어디인가요?\"\n",
    "llm_out = get_llm_output(prompt)\n",
    "print(llm_out)"
   ]
  },
  {
   "cell_type": "markdown",
   "id": "a9b38ef4-481a-4e42-afd4-e2c9b595cf5d",
   "metadata": {},
   "source": [
    "### langchain을 사용하여 bedrock 활용"
   ]
  },
  {
   "cell_type": "code",
   "execution_count": null,
   "id": "3e0f4b0e-5c3c-4465-a5d1-c90f606d1a0a",
   "metadata": {
    "tags": []
   },
   "outputs": [],
   "source": [
    "from langchain_aws import ChatBedrock\n",
    "\n",
    "def get_langchain_llm_output(prompt):\n",
    "\n",
    "    chat = ChatBedrock(\n",
    "        model_id=\"anthropic.claude-3-sonnet-20240229-v1:0\",\n",
    "        model_kwargs={'temperature': 0.1}\n",
    "    )\n",
    "\n",
    "    response_text = chat.invoke(prompt).content\n",
    "    return response_text"
   ]
  },
  {
   "cell_type": "code",
   "execution_count": null,
   "id": "5ebf0a68-dbb5-4ab6-8ceb-0ac6d75bf144",
   "metadata": {
    "tags": []
   },
   "outputs": [],
   "source": [
    "prompt = \"미국에서 가장 큰 도시 10개를 알려주세요.\"\n",
    "llm_out = get_langchain_llm_output(prompt)\n",
    "print(llm_out)"
   ]
  },
  {
   "cell_type": "markdown",
   "id": "43fe3994-40ea-4afe-9d39-b4d58df56759",
   "metadata": {},
   "source": [
    "### Embedding 모델의 역할"
   ]
  },
  {
   "cell_type": "code",
   "execution_count": null,
   "id": "0b87593a-e1a4-473c-8f99-3b80140aa565",
   "metadata": {},
   "outputs": [],
   "source": [
    "embedding_model_id = \"amazon.titan-embed-text-v2:0\"\n",
    "\n",
    "def get_embedding_output(query):\n",
    "    \n",
    "    body = {\n",
    "        \"inputText\": query,\n",
    "        \"dimensions\": 1024,\n",
    "        \"normalize\": True\n",
    "    }\n",
    "    \n",
    "    response = bedrock.invoke_model(\n",
    "        body=json.dumps(body), \n",
    "        modelId=embedding_model_id,\n",
    "        accept='application/json',\n",
    "        contentType='application/json')\n",
    "\n",
    "    response_body = json.loads(response.get(\"body\").read())\n",
    "    embedding = response_body.get(\"embedding\")\n",
    "    return embedding"
   ]
  },
  {
   "cell_type": "code",
   "execution_count": null,
   "id": "9f406e71-e635-4ef9-abe9-19a264f6fbda",
   "metadata": {
    "tags": []
   },
   "outputs": [],
   "source": [
    "emb_out = get_embedding_output(\"토요일에 이마트 영업시간이 어떻게 되나요?\")\n",
    "print(f\"Embedding dim: {len(emb_out)}, Sample: {emb_out[0:20]}\")"
   ]
  },
  {
   "cell_type": "code",
   "execution_count": null,
   "id": "f91c1aad-9f76-4e02-b354-9783c3e84f5c",
   "metadata": {
    "tags": []
   },
   "outputs": [],
   "source": [
    "import numpy as np\n",
    "\n",
    "def cosine_similarity(list1, list2):\n",
    "    vec1 = np.array(list1)\n",
    "    vec2 = np.array(list2)\n",
    "    \n",
    "    dot_product = np.dot(vec1, vec2)\n",
    "    norm_vec1 = np.linalg.norm(vec1)\n",
    "    norm_vec2 = np.linalg.norm(vec2)\n",
    "    cosine_sim = dot_product / (norm_vec1 * norm_vec2)\n",
    "    return cosine_sim\n"
   ]
  },
  {
   "cell_type": "code",
   "execution_count": null,
   "id": "7b923847-bde9-4753-bec1-c9ddb6b154df",
   "metadata": {
    "tags": []
   },
   "outputs": [],
   "source": [
    "sim1 = cosine_similarity(\n",
    "    get_embedding_output(\"토요일에 이마트 영업시간이 어떻게되요?\"),\n",
    "    get_embedding_output(\"주말에 마트 언제까지 문 여나요?\"))\n",
    "sim2 = cosine_similarity(\n",
    "    get_embedding_output(\"토요일에 이마트 영업시간이 어떻게되요?\"),\n",
    "    get_embedding_output(\"토요일에 그 식당에 언제가면 되나요?\"))"
   ]
  },
  {
   "cell_type": "code",
   "execution_count": null,
   "id": "b296ef2b-2583-411f-bf11-9e7b459959f5",
   "metadata": {},
   "outputs": [],
   "source": [
    "print(f\"Sim1 : {sim1}, Sim2: {sim2}\")"
   ]
  },
  {
   "cell_type": "code",
   "execution_count": null,
   "id": "9361d0bb-0faa-4998-ac05-a2fcd23e15ac",
   "metadata": {},
   "outputs": [],
   "source": []
  },
  {
   "cell_type": "code",
   "execution_count": null,
   "id": "1aaf8a12-55bd-41ab-bb0c-56b5d7becec4",
   "metadata": {},
   "outputs": [],
   "source": []
  },
  {
   "cell_type": "code",
   "execution_count": null,
   "id": "ed6621c7-9d5d-487b-89ea-0c3369334372",
   "metadata": {},
   "outputs": [],
   "source": []
  }
 ],
 "metadata": {
  "kernelspec": {
   "display_name": "conda_pytorch_p310",
   "language": "python",
   "name": "conda_pytorch_p310"
  },
  "language_info": {
   "codemirror_mode": {
    "name": "ipython",
    "version": 3
   },
   "file_extension": ".py",
   "mimetype": "text/x-python",
   "name": "python",
   "nbconvert_exporter": "python",
   "pygments_lexer": "ipython3",
   "version": "3.10.14"
  }
 },
 "nbformat": 4,
 "nbformat_minor": 5
}
