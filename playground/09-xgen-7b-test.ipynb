{
 "cells": [
  {
   "cell_type": "markdown",
   "id": "7f97235e-ee55-47b6-93fd-317ae850ecf9",
   "metadata": {},
   "source": [
    "## Testing Salesforce XGen model\n",
    "\n",
    "- XGen blog: https://blog.salesforceairesearch.com/xgen/\n",
    "- XGen 7B : https://huggingface.co/Salesforce/xgen-7b-8k-base?ref=blog.salesforceairesearch.com\n",
    "- XGen 7B instruct (research only) : https://huggingface.co/Salesforce/xgen-7b-8k-inst\n",
    "- vLLM is not support XGen yet"
   ]
  },
  {
   "cell_type": "code",
   "execution_count": null,
   "id": "76c3b589-1ba7-4159-a105-fd7740894fc2",
   "metadata": {
    "tags": []
   },
   "outputs": [],
   "source": [
    "!pip install -q transformers accelerate sentencepiece bitsandbytes tiktoken"
   ]
  },
  {
   "cell_type": "code",
   "execution_count": null,
   "id": "ee7802eb-1b6e-4ebc-8ecf-4aefa945a023",
   "metadata": {
    "tags": []
   },
   "outputs": [],
   "source": [
    "from huggingface_hub import snapshot_download\n",
    "from pathlib import Path\n",
    "import os\n",
    "\n",
    "local_model_path = Path(\"./pretrained-models\")\n",
    "local_model_path.mkdir(exist_ok=True)\n",
    "# model_name = \"Salesforce/xgen-7b-8k-base\"\n",
    "model_name = \"Salesforce/xgen-7b-8k-inst\"\n",
    "allow_patterns = [\"*.json\", \"*.pt\", \"*.bin\", \"*.txt\", \"*.model\", \"*.py\"]\n",
    "\n",
    "model_download_path = snapshot_download(\n",
    "    repo_id=model_name,\n",
    "    cache_dir=local_model_path,\n",
    "    allow_patterns=allow_patterns,\n",
    ")"
   ]
  },
  {
   "cell_type": "code",
   "execution_count": null,
   "id": "6bd8a45a-102b-4cc2-830d-b841e7328770",
   "metadata": {
    "tags": []
   },
   "outputs": [],
   "source": [
    "print(f\"Local model download path: {model_download_path}\")"
   ]
  },
  {
   "cell_type": "code",
   "execution_count": null,
   "id": "3861dd31-b935-468f-98c1-5173b81aed82",
   "metadata": {
    "tags": []
   },
   "outputs": [],
   "source": [
    "import torch\n",
    "from transformers import AutoTokenizer, AutoModelForCausalLM"
   ]
  },
  {
   "cell_type": "code",
   "execution_count": null,
   "id": "c4f31881-a7ad-4153-b685-0797132a23aa",
   "metadata": {
    "tags": []
   },
   "outputs": [],
   "source": [
    "tokenizer = AutoTokenizer.from_pretrained(\n",
    "    model_download_path, trust_remote_code=True)\n",
    "model = AutoModelForCausalLM.from_pretrained(\n",
    "    model_download_path,\n",
    "    torch_dtype=torch.bfloat16,\n",
    "    device_map='auto',\n",
    "    low_cpu_mem_usage=True,\n",
    ")\n",
    "model.eval()"
   ]
  },
  {
   "cell_type": "code",
   "execution_count": null,
   "id": "19acbe25-4ca9-4fad-8a1d-f03a0112c76c",
   "metadata": {
    "tags": []
   },
   "outputs": [],
   "source": []
  },
  {
   "cell_type": "code",
   "execution_count": null,
   "id": "34f4a225-2771-4e70-81eb-6d6a6017a7ee",
   "metadata": {
    "tags": []
   },
   "outputs": [],
   "source": [
    "# # Base model\n",
    "# prompt = \"What is the best food in the world?\""
   ]
  },
  {
   "cell_type": "code",
   "execution_count": null,
   "id": "c7183ca9-8834-4d09-be5e-d04d70c3ae95",
   "metadata": {
    "tags": []
   },
   "outputs": [],
   "source": [
    "# Instruct model\n",
    "instruction = f\"How to implement arbitrage bot for cryptocurrency? please explain step by step.\"\n",
    "\n",
    "prompt = f\"\"\"\n",
    "A chat between a curious human and an artificial intelligence assistant. The assistant gives helpful, detailed, and polite answers to the human's questions.\n",
    "\n",
    "### Human: {instruction}\n",
    "\n",
    "### Assiatant: \n",
    "\"\"\"\n",
    "print(prompt)"
   ]
  },
  {
   "cell_type": "code",
   "execution_count": null,
   "id": "56958506-5b45-4f36-9ad5-cb83ae2e149b",
   "metadata": {
    "tags": []
   },
   "outputs": [],
   "source": []
  },
  {
   "cell_type": "code",
   "execution_count": null,
   "id": "6d5627c4-1e6a-4de0-b539-8f1c840a2767",
   "metadata": {
    "tags": []
   },
   "outputs": [],
   "source": [
    "eos_token = \"<|endoftext|>\"\n",
    "eos_token_id = tokenizer(eos_token)[\"input_ids\"][0]\n",
    "print(eos_token_id)"
   ]
  },
  {
   "cell_type": "code",
   "execution_count": null,
   "id": "05f17aea-a519-4026-b480-9b4134ddecf8",
   "metadata": {
    "tags": []
   },
   "outputs": [],
   "source": [
    "inputs = tokenizer(prompt, return_tensors=\"pt\").to(model.device)"
   ]
  },
  {
   "cell_type": "code",
   "execution_count": null,
   "id": "34d8bc8b-f01c-432b-b134-3ba3bba3324a",
   "metadata": {
    "tags": []
   },
   "outputs": [],
   "source": [
    "%%time\n",
    "sample = model.generate(\n",
    "    **inputs,\n",
    "    temperature=0.7,\n",
    "    top_p=0.8,\n",
    "    max_length=512,\n",
    "    eos_token_id=eos_token_id\n",
    ")"
   ]
  },
  {
   "cell_type": "code",
   "execution_count": null,
   "id": "12fa405e-38ca-49e9-9b51-461394e0c45c",
   "metadata": {
    "tags": []
   },
   "outputs": [],
   "source": [
    "raw_output = tokenizer.decode(sample[0])\n",
    "result = raw_output[len(prompt):-len(eos_token)]"
   ]
  },
  {
   "cell_type": "code",
   "execution_count": null,
   "id": "5581d1c3-c7b7-4cb4-bbc9-d84c372faf52",
   "metadata": {
    "tags": []
   },
   "outputs": [],
   "source": [
    "print(result)"
   ]
  },
  {
   "cell_type": "code",
   "execution_count": null,
   "id": "292a7a2d-f3b6-44f1-aef9-3c2e5f2cb97d",
   "metadata": {},
   "outputs": [],
   "source": []
  },
  {
   "cell_type": "code",
   "execution_count": null,
   "id": "2becde6f-d14c-4200-a5a1-0806cea7f970",
   "metadata": {},
   "outputs": [],
   "source": []
  },
  {
   "cell_type": "code",
   "execution_count": null,
   "id": "ed9dcb79-1533-4198-ad75-bb6ff6ea9824",
   "metadata": {
    "tags": []
   },
   "outputs": [],
   "source": []
  },
  {
   "cell_type": "code",
   "execution_count": null,
   "id": "c4a87af5-0858-43ea-b8f8-0e10c85dd19b",
   "metadata": {
    "tags": []
   },
   "outputs": [],
   "source": []
  },
  {
   "cell_type": "code",
   "execution_count": null,
   "id": "04b63f68-0447-4cfd-8424-049f8229a703",
   "metadata": {
    "tags": []
   },
   "outputs": [],
   "source": []
  },
  {
   "cell_type": "code",
   "execution_count": null,
   "id": "5f3046ee-c06d-446a-b128-fce49bdd455e",
   "metadata": {
    "tags": []
   },
   "outputs": [],
   "source": []
  },
  {
   "cell_type": "code",
   "execution_count": null,
   "id": "0a9dae2a-1fd7-41c5-a27f-aed62c4dd6c1",
   "metadata": {},
   "outputs": [],
   "source": []
  },
  {
   "cell_type": "code",
   "execution_count": null,
   "id": "4c342c53-b110-4940-aff5-f00e61a8af7a",
   "metadata": {},
   "outputs": [],
   "source": []
  }
 ],
 "metadata": {
  "kernelspec": {
   "display_name": "conda_pytorch_p310",
   "language": "python",
   "name": "conda_pytorch_p310"
  },
  "language_info": {
   "codemirror_mode": {
    "name": "ipython",
    "version": 3
   },
   "file_extension": ".py",
   "mimetype": "text/x-python",
   "name": "python",
   "nbconvert_exporter": "python",
   "pygments_lexer": "ipython3",
   "version": "3.10.10"
  }
 },
 "nbformat": 4,
 "nbformat_minor": 5
}
