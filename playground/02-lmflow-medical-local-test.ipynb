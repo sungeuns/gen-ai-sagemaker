{
 "cells": [
  {
   "cell_type": "markdown",
   "id": "297444ea-b478-426a-8c80-6349cd4b9631",
   "metadata": {},
   "source": [
    "## LMFlow medical model test\n",
    "\n",
    "- LMFlow : https://github.com/OptimalScale/LMFlow"
   ]
  },
  {
   "cell_type": "code",
   "execution_count": null,
   "id": "f208a5f6-6947-4e6a-b7b0-d09eee178e5c",
   "metadata": {
    "tags": []
   },
   "outputs": [],
   "source": [
    "# !cd LMFlow; pip install -e ."
   ]
  },
  {
   "cell_type": "code",
   "execution_count": null,
   "id": "6a51ff6e-3115-45a6-b8e7-1286237078da",
   "metadata": {
    "tags": []
   },
   "outputs": [],
   "source": [
    "llama_13b_hf_path = \"/home/ec2-user/SageMaker/efs/aiml/llama/models/13B-hf\""
   ]
  },
  {
   "cell_type": "code",
   "execution_count": null,
   "id": "6ea23f7b-7b70-4648-84f1-df5be1ce5b7a",
   "metadata": {
    "tags": []
   },
   "outputs": [],
   "source": [
    "apply_delta_script = \"./LMFlow/examples/merge_lora.py\""
   ]
  },
  {
   "cell_type": "code",
   "execution_count": null,
   "id": "7a4981d8-8a49-45ce-8451-cc0db7add6db",
   "metadata": {
    "tags": []
   },
   "outputs": [],
   "source": [
    "delta_path = \"./pretrained-models/lmflow-medical/medical_ckpt/llama_13b_lora\""
   ]
  },
  {
   "cell_type": "code",
   "execution_count": null,
   "id": "52abc06c-dd68-46e5-817e-0b5d45caf829",
   "metadata": {
    "tags": []
   },
   "outputs": [],
   "source": [
    "target_path = \"./pretrained-models/lmflow-medical/13b\""
   ]
  },
  {
   "cell_type": "code",
   "execution_count": null,
   "id": "6b3ed752-0a3b-4dd0-87a0-06f594e27081",
   "metadata": {
    "tags": []
   },
   "outputs": [],
   "source": [
    "# This apply_delta script is different with StableVicuna merge script\n",
    "# Merge delta with LLaMA model\n",
    "# !python {apply_delta_script} --base {llama_13b_hf_path} --target {target_path} --delta {delta_path}\n",
    "\n",
    "# Merge LoRA adapter to Base model\n",
    "# LLaMA need to be a HF format first\n",
    "!python {apply_delta_script} \\\n",
    "    --model_name_or_path {llama_13b_hf_path} \\\n",
    "    --lora_model_path {delta_path} \\\n",
    "    --output_model_path {target_path}"
   ]
  },
  {
   "cell_type": "code",
   "execution_count": null,
   "id": "f4ae8d67-b970-40c2-852b-2cadaece1aee",
   "metadata": {
    "tags": []
   },
   "outputs": [],
   "source": [
    "import os\n",
    "os.listdir(target_path)"
   ]
  },
  {
   "cell_type": "code",
   "execution_count": null,
   "id": "f89ab401-0eff-4eba-b721-dc4be3a725ce",
   "metadata": {},
   "outputs": [],
   "source": []
  },
  {
   "cell_type": "code",
   "execution_count": null,
   "id": "6dd6f25e-c728-4b1d-995d-25d8f7c5a383",
   "metadata": {
    "tags": []
   },
   "outputs": [],
   "source": [
    "model_location = target_path"
   ]
  },
  {
   "cell_type": "code",
   "execution_count": null,
   "id": "31f005fe-c0dd-4896-a457-fd27e009ba2c",
   "metadata": {
    "tags": []
   },
   "outputs": [],
   "source": [
    "from transformers import AutoTokenizer, AutoModelForCausalLM\n",
    "\n",
    "tokenizer = AutoTokenizer.from_pretrained(model_location)\n",
    "model = AutoModelForCausalLM.from_pretrained(model_location, low_cpu_mem_usage=True, load_in_8bit=True, device_map=\"auto\")\n"
   ]
  },
  {
   "cell_type": "code",
   "execution_count": null,
   "id": "92d26ddb-29fb-49e1-9491-ef97b7d98039",
   "metadata": {
    "tags": []
   },
   "outputs": [],
   "source": [
    "prompt = \"\"\"\\\n",
    "### Human: I have a patient with bronchial inflammation, and I need you to write a report on the patient's condition that sounds like it was written by a doctor.\n",
    "### Assistant:\n",
    "\"\"\"\n",
    "\n",
    "# prompt = \"I have a patient with bronchial inflammation, and I need you to write a report on the patient's condition that sounds like it was written by a doctor.\"\n"
   ]
  },
  {
   "cell_type": "code",
   "execution_count": null,
   "id": "f3acf7c0-6499-4390-8527-7b1350bdf654",
   "metadata": {
    "tags": []
   },
   "outputs": [],
   "source": [
    "print(prompt)\n",
    "inputs = tokenizer(prompt, return_tensors='pt').to('cuda')"
   ]
  },
  {
   "cell_type": "code",
   "execution_count": null,
   "id": "e64fde30-e44d-45a5-9595-875b195af0b6",
   "metadata": {
    "tags": []
   },
   "outputs": [],
   "source": [
    "%%time\n",
    "tokens = model.generate(\n",
    " **inputs,\n",
    " max_new_tokens=256,\n",
    " do_sample=True,\n",
    " temperature=0.3,\n",
    " top_p=0.3,\n",
    ")\n"
   ]
  },
  {
   "cell_type": "code",
   "execution_count": null,
   "id": "e8dad345-0afe-438e-85b3-fd3de46f86a4",
   "metadata": {
    "tags": []
   },
   "outputs": [],
   "source": [
    "result = tokenizer.decode(tokens[0], skip_special_tokens=True)\n",
    "print(result)"
   ]
  },
  {
   "cell_type": "markdown",
   "id": "d6446487-b76e-4009-a67e-fdc88f4ee523",
   "metadata": {},
   "source": [
    "### Medical 분야 결과\n",
    "\n",
    "- 전혀 좋지 않은데, 프롬프트를 만들어서 넣어야 하는 듯 하는걸까? 어떤 prompt를 넣어야 원하는 게 나오는지 확인이 필요함\n",
    "- 학습 데이터에 있던 예시들을 참고해서 만들어서 넣어야 하는 듯 ?\n"
   ]
  },
  {
   "cell_type": "code",
   "execution_count": null,
   "id": "4c3988e6-e790-4823-af70-d8cee02a8e89",
   "metadata": {},
   "outputs": [],
   "source": []
  },
  {
   "cell_type": "code",
   "execution_count": null,
   "id": "6cd12cd2-0a4f-4170-9623-b4293deee4bb",
   "metadata": {},
   "outputs": [],
   "source": []
  }
 ],
 "metadata": {
  "kernelspec": {
   "display_name": "conda_python3",
   "language": "python",
   "name": "conda_python3"
  },
  "language_info": {
   "codemirror_mode": {
    "name": "ipython",
    "version": 3
   },
   "file_extension": ".py",
   "mimetype": "text/x-python",
   "name": "python",
   "nbconvert_exporter": "python",
   "pygments_lexer": "ipython3",
   "version": "3.10.10"
  }
 },
 "nbformat": 4,
 "nbformat_minor": 5
}
