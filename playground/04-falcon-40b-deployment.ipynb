{
 "cells": [
  {
   "cell_type": "markdown",
   "id": "0672fbf1-ff49-468f-8fee-c476330047ce",
   "metadata": {},
   "source": [
    "## Testing Falcon 40B model\n",
    "\n",
    "- falcon 40b model : https://huggingface.co/tiiuae/falcon-40b\n",
    "- instruction model : https://huggingface.co/tiiuae/falcon-40b-instruct\n",
    "- streaming example : https://github.com/andrewgcodes/FalconStreaming/blob/main/Falcon40B_Instruct_Streaming.ipynb\n",
    "\n",
    "\n",
    "### With HuggingFace LLM container\n",
    "- HF LLM container : https://huggingface.co/blog/sagemaker-huggingface-llm\n",
    "- HF LLM inference server code : https://github.com/huggingface/text-generation-inference\n",
    "\n",
    "\n",
    "### Deploy Falcon 40B on HF LLM conainer\n",
    "- how to deploy it on sagemaker : https://www.philschmid.de/sagemaker-falcon-llm\n",
    "  - It can be easily used, but cannot use model in s3 (only available from HF model hub)\n",
    "- AWS blog : https://aws.amazon.com/ko/blogs/machine-learning/announcing-the-launch-of-new-hugging-face-llm-inference-containers-on-amazon-sagemaker/\n",
    "- Document for HF Model : https://sagemaker.readthedocs.io/en/stable/frameworks/huggingface/sagemaker.huggingface.html#hugging-face-model\n"
   ]
  },
  {
   "cell_type": "code",
   "execution_count": null,
   "id": "62fc867b-c2ba-42e1-a769-95abac420ff3",
   "metadata": {
    "tags": []
   },
   "outputs": [],
   "source": [
    "# # TODO: remove once new version is released\n",
    "# !pip install -q git+https://github.com/aws/sagemaker-python-sdk --upgrade\n",
    "\n",
    "# # install latest sagemaker SDK\n",
    "# !pip install \"sagemaker==2.163.0\" --upgrade --quiet\n",
    "\n",
    "!pip install sagemaker --upgrade -q\n",
    "!pip install -q transformers"
   ]
  },
  {
   "cell_type": "code",
   "execution_count": null,
   "id": "42231890-5271-434b-b130-65dd9eaf613f",
   "metadata": {
    "tags": []
   },
   "outputs": [],
   "source": []
  },
  {
   "cell_type": "code",
   "execution_count": null,
   "id": "33d9bd56-070d-4dea-9162-37237d292373",
   "metadata": {
    "tags": []
   },
   "outputs": [],
   "source": [
    "import boto3\n",
    "import json\n",
    "import sagemaker\n",
    "from sagemaker.utils import name_from_base\n",
    "from sagemaker import image_uris"
   ]
  },
  {
   "cell_type": "code",
   "execution_count": null,
   "id": "17149c75-6cc8-43b5-9260-1e4ec1a96614",
   "metadata": {
    "tags": []
   },
   "outputs": [],
   "source": [
    "sagemaker_session = sagemaker.Session()\n",
    "role = sagemaker.get_execution_role()\n",
    "sm_client = sagemaker_session.sagemaker_client\n",
    "sm_runtime_client = sagemaker_session.sagemaker_runtime_client\n",
    "s3_client = boto3.client('s3')"
   ]
  },
  {
   "cell_type": "code",
   "execution_count": null,
   "id": "7b68320d-775d-4f5b-85e9-148246546d0a",
   "metadata": {
    "tags": []
   },
   "outputs": [],
   "source": [
    "from sagemaker.huggingface import get_huggingface_llm_image_uri\n",
    "\n",
    "# retrieve the llm image uri\n",
    "llm_image = get_huggingface_llm_image_uri(\n",
    "  \"huggingface\",\n",
    "  version=\"0.8.2\"\n",
    ")\n",
    "\n",
    "# print ecr image uri\n",
    "print(f\"llm image uri: {llm_image}\")\n"
   ]
  },
  {
   "cell_type": "code",
   "execution_count": null,
   "id": "52a08487-d518-442c-8232-527e18059f31",
   "metadata": {
    "tags": []
   },
   "outputs": [],
   "source": [
    "from sagemaker.huggingface import HuggingFaceModel\n",
    "\n",
    "# sagemaker config\n",
    "instance_type = \"ml.g5.12xlarge\"\n",
    "# instance_type = \"ml.g5.2xlarge\"\n",
    "# instance_type = \"ml.g4dn.12xlarge\"\n",
    "\n",
    "number_of_gpu = 4\n",
    "# number_of_gpu = 1\n",
    "\n",
    "health_check_timeout = 900\n",
    "\n",
    "# TGI config\n",
    "config = {\n",
    "  'HF_MODEL_ID': \"tiiuae/falcon-40b-instruct\", # model_id from hf.co/models\n",
    "  'SM_NUM_GPUS': json.dumps(number_of_gpu), # Number of GPU used per replica\n",
    "  'MAX_INPUT_LENGTH': json.dumps(1024),  # Max length of input text\n",
    "  'MAX_TOTEL_TOKENS': json.dumps(2048),  # Max length of the generation (including input text)\n",
    "  # 'HF_MODEL_QUANTIZE': \"bitsandbytes\", # comment in to quantize\n",
    "}\n",
    "\n",
    "# create HuggingFaceModel\n",
    "llm_model = HuggingFaceModel(\n",
    "  role=role,\n",
    "  image_uri=llm_image,\n",
    "  env=config\n",
    ")\n"
   ]
  },
  {
   "cell_type": "code",
   "execution_count": null,
   "id": "869039d9-5618-4a21-bec5-0741cc0c56dd",
   "metadata": {
    "tags": []
   },
   "outputs": [],
   "source": [
    "# Deploy model to an endpoint\n",
    "# https://sagemaker.readthedocs.io/en/stable/api/inference/model.html#sagemaker.model.Model.deploy\n",
    "llm = llm_model.deploy(\n",
    "    initial_instance_count=1,\n",
    "    instance_type=instance_type,\n",
    "    # volume_size=400, # If using an instance with local SSD storage, volume_size must be None, e.g. p4 but not p3\n",
    "    container_startup_health_check_timeout=health_check_timeout, # 10 minutes to be able to load the model\n",
    "    # wait=False\n",
    ")\n"
   ]
  },
  {
   "cell_type": "code",
   "execution_count": null,
   "id": "92760b38-ab29-4cbe-9826-1f745817d646",
   "metadata": {
    "tags": []
   },
   "outputs": [],
   "source": [
    "user_utter = \"How can I learn spear fishing in korea?\""
   ]
  },
  {
   "cell_type": "code",
   "execution_count": null,
   "id": "82feb3b3-fe04-4ca2-977e-644d9986319a",
   "metadata": {},
   "outputs": [],
   "source": [
    "# define payload\n",
    "prompt = f\"\"\"You are an helpful Assistant, called Falcon. Knowing everyting about AWS.\n",
    "\n",
    "User: {user_utter}\n",
    "Falcon:\"\"\"\n",
    "\n",
    "# hyperparameters for llm\n",
    "payload = {\n",
    "  \"inputs\": prompt,\n",
    "  \"parameters\": {\n",
    "    \"do_sample\": True,\n",
    "    \"top_p\": 0.9,\n",
    "    \"temperature\": 0.8,\n",
    "    \"max_new_tokens\": 1024,\n",
    "    \"repetition_penalty\": 1.03,\n",
    "    \"stop\": [\"\\nUser:\",\"<|endoftext|>\",\"</s>\"]\n",
    "  }\n",
    "}\n"
   ]
  },
  {
   "cell_type": "code",
   "execution_count": null,
   "id": "b3eb0f35-58ce-4775-812b-cd0009268a94",
   "metadata": {
    "tags": []
   },
   "outputs": [],
   "source": [
    "print(payload)"
   ]
  },
  {
   "cell_type": "code",
   "execution_count": null,
   "id": "873455ad-1bb5-4a9a-a514-5cba1b0657f7",
   "metadata": {},
   "outputs": [],
   "source": [
    "%%time\n",
    "\n",
    "# send request to endpoint\n",
    "response = llm.predict(payload)\n",
    "\n",
    "# print assistant respond\n",
    "assistant = response[0][\"generated_text\"][len(prompt):]"
   ]
  },
  {
   "cell_type": "code",
   "execution_count": null,
   "id": "6ac400dd-2b57-4864-8941-4cc68971248b",
   "metadata": {},
   "outputs": [],
   "source": [
    "print(assistant)"
   ]
  },
  {
   "cell_type": "markdown",
   "id": "08b7bce2-6fa5-4cfd-9b29-b7a4f8740609",
   "metadata": {},
   "source": [
    "### Invoke Falcon model using SageMaker Runtime client\n",
    "\n",
    "- It is easy to invoke model using SageMaker SDK, but it's also possible to use boto3\n",
    "- Here we use sagemaker runtime client to invoke endpoint"
   ]
  },
  {
   "cell_type": "code",
   "execution_count": null,
   "id": "8d75d2ac-8fd7-47b0-add6-ab583ad90b1a",
   "metadata": {
    "tags": []
   },
   "outputs": [],
   "source": [
    "endpoint_name = \"huggingface-pytorch-tgi-inference-2023-06-16-02-46-29-194\""
   ]
  },
  {
   "cell_type": "code",
   "execution_count": null,
   "id": "418931d2-9244-47b3-87ba-2667a04be12d",
   "metadata": {
    "tags": []
   },
   "outputs": [],
   "source": [
    "user_utter = \"How can I buy a great bluetooth earphone in pakistan?\""
   ]
  },
  {
   "cell_type": "code",
   "execution_count": null,
   "id": "6e0b14d3-e8c0-4641-b4a0-9d92650ac7c8",
   "metadata": {
    "tags": []
   },
   "outputs": [],
   "source": [
    "# define payload\n",
    "prompt = f\"\"\"You are an helpful Assistant, called Falcon. Knowing everyting about AWS.\n",
    "\n",
    "User: {user_utter}\n",
    "Falcon:\"\"\"\n",
    "\n",
    "# hyperparameters for llm\n",
    "payload = {\n",
    "  \"inputs\": prompt,\n",
    "  \"parameters\": {\n",
    "    \"do_sample\": True,\n",
    "    \"top_p\": 0.9,\n",
    "    \"temperature\": 0.8,\n",
    "    \"max_new_tokens\": 1024,\n",
    "    \"repetition_penalty\": 1.03,\n",
    "    \"stop\": [\"\\nUser:\",\"<|endoftext|>\",\"</s>\"]\n",
    "  }\n",
    "}\n",
    "\n",
    "print(payload)"
   ]
  },
  {
   "cell_type": "code",
   "execution_count": null,
   "id": "3e23d68c-1da0-494e-8fa1-ee3f1ebe2170",
   "metadata": {
    "tags": []
   },
   "outputs": [],
   "source": [
    "%%time\n",
    "\n",
    "response_model = sm_runtime_client.invoke_endpoint(\n",
    "    EndpointName=endpoint_name,\n",
    "    Body=json.dumps(payload),\n",
    "    ContentType=\"application/json\",\n",
    ")\n"
   ]
  },
  {
   "cell_type": "code",
   "execution_count": null,
   "id": "16d63c05-08ce-499a-a4dc-0b16a3358a55",
   "metadata": {
    "tags": []
   },
   "outputs": [],
   "source": [
    "raw_output = response_model[\"Body\"].read().decode(\"utf8\")"
   ]
  },
  {
   "cell_type": "code",
   "execution_count": null,
   "id": "d3717ed4-f88b-4a75-b38f-cd06d6698b17",
   "metadata": {
    "tags": []
   },
   "outputs": [],
   "source": [
    "output = json.loads(raw_output)[0][\"generated_text\"][len(prompt):]"
   ]
  },
  {
   "cell_type": "code",
   "execution_count": null,
   "id": "38c7a1cf-b866-4b37-9399-341ef0864c2b",
   "metadata": {
    "tags": []
   },
   "outputs": [],
   "source": [
    "print(output)"
   ]
  },
  {
   "cell_type": "code",
   "execution_count": null,
   "id": "efbaca76-5b8f-44ca-ac97-dcac16c5b5d4",
   "metadata": {},
   "outputs": [],
   "source": []
  },
  {
   "cell_type": "markdown",
   "id": "f645d2c9-08ea-404c-859e-7a95bd5dad43",
   "metadata": {
    "tags": []
   },
   "source": [
    "### Inference test result\n",
    "\n",
    "For the FP32:\n",
    "- `g5.12xlarge` : 3~5 sec\n",
    "- `g4dn.12xlarge` : OOM\n",
    "\n",
    "For the int8 (quantization):\n",
    "- `g5.12xlarge` (`$5.672`) : 6~15 sec (It takes more time when quantization)\n",
    "- `g4dn.12xlarge` (`$3.912`) : 20 sec\n",
    "- `g5.2xlarge` (`$1.212`): timeout\n",
    "\n",
    "Deploying falcon 40B using official guide works well. Then how about DJL?\n",
    "\n",
    "### How to deploy it to the DJL?\n",
    "\n",
    "- SageMaker model type DJL : https://sagemaker.readthedocs.io/en/stable/frameworks/djl/using_djl.html\n",
    "- Sample code for deploying Falcon model using DJL : https://github.com/aws/amazon-sagemaker-examples/blob/main/inference/generativeai/llm-workshop/lab10-falcon-40b-and-7b/falcon-40b-accelerate.ipynb\n"
   ]
  },
  {
   "cell_type": "code",
   "execution_count": null,
   "id": "91e5b395-7440-498e-a2cd-521ecd441a9e",
   "metadata": {
    "tags": []
   },
   "outputs": [],
   "source": [
    "from huggingface_hub import snapshot_download\n",
    "from pathlib import Path\n",
    "import os\n",
    "\n",
    "local_model_path = Path(\"./pretrained-models\")\n",
    "local_model_path.mkdir(exist_ok=True)\n",
    "# model_name = \"tiiuae/falcon-40b\"\n",
    "model_name = \"tiiuae/falcon-40b-instruct\"\n",
    "allow_patterns = [\"*.json\", \"*.pt\", \"*.bin\", \"*.txt\", \"*.model\", \"*.py\"]\n",
    "\n",
    "model_download_path = snapshot_download(\n",
    "    repo_id=model_name,\n",
    "    cache_dir=local_model_path,\n",
    "    allow_patterns=allow_patterns,\n",
    ")"
   ]
  },
  {
   "cell_type": "code",
   "execution_count": null,
   "id": "35557674-e49f-41aa-8a0e-21b56bea5915",
   "metadata": {
    "tags": []
   },
   "outputs": [],
   "source": [
    "print(f\"Model download path (Falcon 40B) : {model_download_path}\")"
   ]
  },
  {
   "cell_type": "code",
   "execution_count": null,
   "id": "b020bdbc-6bd5-4ef5-a16b-aaa2c7db2083",
   "metadata": {
    "tags": []
   },
   "outputs": [],
   "source": [
    "s3_model_prefix = \"llm/falcon/model\"  # folder where model checkpoint will go"
   ]
  },
  {
   "cell_type": "code",
   "execution_count": null,
   "id": "86d7f99c-4a00-49b5-9309-4edce99daefb",
   "metadata": {
    "tags": []
   },
   "outputs": [],
   "source": [
    "# base_model_s3 = f\"{s3_model_prefix}/falcon-40b\"\n",
    "base_model_s3 = f\"{s3_model_prefix}/falcon-40b-instruct\""
   ]
  },
  {
   "cell_type": "code",
   "execution_count": null,
   "id": "cf196db1-7df2-469b-8037-21bdab47d6f2",
   "metadata": {},
   "outputs": [],
   "source": [
    "# Run only wants to upload model files\n",
    "s3_model_artifact = sagemaker_session.upload_data(path=model_download_path, key_prefix=base_model_s3)"
   ]
  },
  {
   "cell_type": "code",
   "execution_count": null,
   "id": "2f4283a5-dfe5-454a-9a71-6463a9f1869c",
   "metadata": {
    "tags": []
   },
   "outputs": [],
   "source": [
    "default_bucket = sagemaker_session.default_bucket()\n",
    "try:\n",
    "    print(f\"Model s3 uri : {s3_model_artifact}\")\n",
    "except:\n",
    "    s3_model_artifact = f\"s3://{default_bucket}/{base_model_s3}\"\n",
    "    \n",
    "print(s3_model_artifact)"
   ]
  },
  {
   "cell_type": "code",
   "execution_count": null,
   "id": "046b3650-b260-4108-8f21-8305487e4f64",
   "metadata": {
    "tags": []
   },
   "outputs": [],
   "source": [
    "framework_name = f\"djl-deepspeed\"\n",
    "inference_image_uri = image_uris.retrieve(\n",
    "    framework=framework_name, region=sagemaker_session.boto_session.region_name, version=\"0.22.1\"\n",
    ")\n",
    "\n",
    "print(f\"Inference container uri: {inference_image_uri}\")"
   ]
  },
  {
   "cell_type": "code",
   "execution_count": null,
   "id": "69dec815-04e5-4f3e-9afe-b42dae0b46f1",
   "metadata": {
    "tags": []
   },
   "outputs": [],
   "source": [
    "# Accelerate version\n",
    "src_dir_name = f\"falcon-40b-src\"\n",
    "\n",
    "# # DeepSpeed version\n",
    "# src_dir_name = f\"falcon-40b-ds-src\"\n",
    "\n",
    "s3_target = f\"s3://{sagemaker_session.default_bucket()}/llm/falcon-40b/code/\""
   ]
  },
  {
   "cell_type": "code",
   "execution_count": null,
   "id": "cfc1db7f-4da7-4607-8898-82b0a01b7e4f",
   "metadata": {
    "tags": []
   },
   "outputs": [],
   "source": [
    "!rm -rf {src_dir_name}.tar.gz\n",
    "!tar zcvf {src_dir_name}.tar.gz {src_dir_name} --exclude \".ipynb_checkpoints\" --exclude \"__pycache__\"\n",
    "!aws s3 cp {src_dir_name}.tar.gz {s3_target}"
   ]
  },
  {
   "cell_type": "code",
   "execution_count": null,
   "id": "d2fbb342-cdde-4489-802a-6b580cb30ccf",
   "metadata": {
    "tags": []
   },
   "outputs": [],
   "source": [
    "model_uri = f\"{s3_target}{src_dir_name}.tar.gz\"\n",
    "print(model_uri)"
   ]
  },
  {
   "cell_type": "code",
   "execution_count": null,
   "id": "ff4b49a2-a5f2-40aa-a380-ec4d815f92ad",
   "metadata": {
    "tags": []
   },
   "outputs": [],
   "source": [
    "model_name = name_from_base(f\"falcon-40b-djl\")\n",
    "print(model_name)\n",
    "\n",
    "create_model_response = sm_client.create_model(\n",
    "    ModelName=model_name,\n",
    "    ExecutionRoleArn=role,\n",
    "    PrimaryContainer={\"Image\": inference_image_uri, \"ModelDataUrl\": model_uri},\n",
    ")\n",
    "model_arn = create_model_response[\"ModelArn\"]\n",
    "\n",
    "print(f\"Created Model: {model_arn}\")"
   ]
  },
  {
   "cell_type": "code",
   "execution_count": null,
   "id": "5b6c4964-7b43-4241-8255-abdc1c9d608e",
   "metadata": {
    "tags": []
   },
   "outputs": [],
   "source": [
    "instance_type = \"ml.g5.12xlarge\"\n",
    "\n",
    "endpoint_config_name = f\"{model_name}-config\"\n",
    "endpoint_name = f\"{model_name}-endpoint\"\n",
    "\n",
    "endpoint_config_response = sm_client.create_endpoint_config(\n",
    "    EndpointConfigName=endpoint_config_name,\n",
    "    ProductionVariants=[\n",
    "        {\n",
    "            \"VariantName\": \"variant1\",\n",
    "            \"ModelName\": model_name,\n",
    "            \"InstanceType\": instance_type,\n",
    "            \"InitialInstanceCount\": 1,\n",
    "            \"ContainerStartupHealthCheckTimeoutInSeconds\": 1200,\n",
    "        },\n",
    "    ],\n",
    ")\n",
    "print(endpoint_config_response)"
   ]
  },
  {
   "cell_type": "code",
   "execution_count": null,
   "id": "38e72d06-9eea-421c-840e-bf8ff0882b8e",
   "metadata": {
    "tags": []
   },
   "outputs": [],
   "source": [
    "create_endpoint_response = sm_client.create_endpoint(\n",
    "    EndpointName=f\"{endpoint_name}\", EndpointConfigName=endpoint_config_name\n",
    ")\n",
    "print(f\"Created Endpoint: {create_endpoint_response['EndpointArn']}\")"
   ]
  },
  {
   "cell_type": "code",
   "execution_count": null,
   "id": "fa3b8faf-6934-468b-9445-b1819faa9bef",
   "metadata": {
    "tags": []
   },
   "outputs": [],
   "source": [
    "import time\n",
    "\n",
    "resp = sm_client.describe_endpoint(EndpointName=endpoint_name)\n",
    "status = resp[\"EndpointStatus\"]\n",
    "print(\"Status: \" + status)\n",
    "\n",
    "while status == \"Creating\":\n",
    "    time.sleep(60)\n",
    "    resp = sm_client.describe_endpoint(EndpointName=endpoint_name)\n",
    "    status = resp[\"EndpointStatus\"]\n",
    "    print(\"Status: \" + status)\n",
    "\n",
    "print(\"Arn: \" + resp[\"EndpointArn\"])\n",
    "print(\"Status: \" + status)"
   ]
  },
  {
   "cell_type": "code",
   "execution_count": null,
   "id": "7a993b20-25af-4fb2-b03f-a7e284eed8c0",
   "metadata": {
    "tags": []
   },
   "outputs": [],
   "source": [
    "user_utter = \"What is the best way to buy some gopro in pakistan?\"\n",
    "\n",
    "prompt = f\"\"\"You are an helpful Assistant, called Falcon.\n",
    "\n",
    "User: {user_utter}\n",
    "Falcon:\"\"\""
   ]
  },
  {
   "cell_type": "code",
   "execution_count": null,
   "id": "13d60ae6-a499-4bd6-92bd-e154e495bc3c",
   "metadata": {
    "tags": []
   },
   "outputs": [],
   "source": [
    "%%time\n",
    "\n",
    "response_model = sm_runtime_client.invoke_endpoint(\n",
    "    EndpointName=endpoint_name,\n",
    "    Body=json.dumps({\"text\": prompt, \"text_length\": 150}),\n",
    "    ContentType=\"application/json\",\n",
    ")\n"
   ]
  },
  {
   "cell_type": "code",
   "execution_count": null,
   "id": "608da955-f468-48a9-9606-cae2c554d9e6",
   "metadata": {
    "tags": []
   },
   "outputs": [],
   "source": [
    "raw_output = response_model[\"Body\"].read().decode(\"utf8\")"
   ]
  },
  {
   "cell_type": "code",
   "execution_count": null,
   "id": "0278e870-3502-4a1d-9400-a39a83651a4d",
   "metadata": {
    "tags": []
   },
   "outputs": [],
   "source": []
  },
  {
   "cell_type": "code",
   "execution_count": null,
   "id": "790d82fc-9f8f-4221-bc53-3b25d8ccdd5d",
   "metadata": {
    "tags": []
   },
   "outputs": [],
   "source": [
    "output = json.loads(raw_output)[\"outputs\"][0][\"generated_text\"][len(prompt):]"
   ]
  },
  {
   "cell_type": "code",
   "execution_count": null,
   "id": "00fdfdff-feca-40f7-a0ae-55863ee768c0",
   "metadata": {
    "tags": []
   },
   "outputs": [],
   "source": [
    "print(output)"
   ]
  },
  {
   "cell_type": "code",
   "execution_count": null,
   "id": "a6d01277-bff7-46a8-8c55-bcea7eb2d230",
   "metadata": {},
   "outputs": [],
   "source": []
  },
  {
   "cell_type": "code",
   "execution_count": null,
   "id": "9ba0ddfc-f3cd-4bc5-ab81-216a25eea3d6",
   "metadata": {},
   "outputs": [],
   "source": []
  }
 ],
 "metadata": {
  "kernelspec": {
   "display_name": "conda_pytorch_p310",
   "language": "python",
   "name": "conda_pytorch_p310"
  },
  "language_info": {
   "codemirror_mode": {
    "name": "ipython",
    "version": 3
   },
   "file_extension": ".py",
   "mimetype": "text/x-python",
   "name": "python",
   "nbconvert_exporter": "python",
   "pygments_lexer": "ipython3",
   "version": "3.10.10"
  }
 },
 "nbformat": 4,
 "nbformat_minor": 5
}
