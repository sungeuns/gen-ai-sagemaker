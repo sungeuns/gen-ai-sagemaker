{
 "cells": [
  {
   "cell_type": "markdown",
   "id": "63fe77d3-bda4-433d-9b64-2feeab9d7c5b",
   "metadata": {
    "tags": []
   },
   "source": [
    "## Testing Qwen 1.5\n",
    "\n",
    "- Qwen1.5 14B AWQ example : https://huggingface.co/Qwen/Qwen1.5-14B-Chat-AWQ?text=%EB%82%B4%EC%9D%BC+%EA%B8%88%EC%9A%94%EC%9D%BC%EC%9D%B8%EB%8D%B0+%EC%A0%80%EB%85%81%EC%8B%9D%EC%82%AC%EB%A1%9C+%ED%95%A0+%EB%A7%8C%ED%95%9C+%EA%B2%83%EC%A2%80+%EC%B6%94%EC%B2%9C%ED%95%B4%EC%A4%98\n",
    "\n"
   ]
  },
  {
   "cell_type": "code",
   "execution_count": 1,
   "id": "29321e57-6a0a-4181-b3ac-0b22f6c44879",
   "metadata": {
    "tags": []
   },
   "outputs": [],
   "source": [
    "# !pip install -q transformers accelerate sentencepiece bitsandbytes tiktoken autoawq"
   ]
  },
  {
   "cell_type": "code",
   "execution_count": null,
   "id": "4e89be53-220f-4d80-abd9-137012728fb7",
   "metadata": {
    "tags": []
   },
   "outputs": [],
   "source": [
    "# autoawq cause error sometimes. install from src\n",
    "# refer to https://github.com/casper-hansen/AutoAWQ/issues/298#issuecomment-1943919894\n",
    "!git clone https://github.com/casper-hansen/AutoAWQ; cd AutoAWQ; pip install -e ."
   ]
  },
  {
   "cell_type": "code",
   "execution_count": 1,
   "id": "276d6754-e307-4593-a486-576d2e299338",
   "metadata": {
    "tags": []
   },
   "outputs": [
    {
     "name": "stdout",
     "output_type": "stream",
     "text": [
      "autoawq                       0.1.8+cu118     /home/ec2-user/SageMaker/efs/aiml/gen-ai-sagemaker/playground/AutoAWQ\n",
      "autoawq_kernels               0.0.4+cu118\n"
     ]
    }
   ],
   "source": [
    "!pip list | grep autoawq"
   ]
  },
  {
   "cell_type": "code",
   "execution_count": 2,
   "id": "5b9b608c-78e7-499d-b459-28572da18905",
   "metadata": {
    "tags": []
   },
   "outputs": [
    {
     "name": "stdout",
     "output_type": "stream",
     "text": [
      "torch                         2.0.1\n",
      "torch-model-archiver          0.8.2b20230828\n",
      "torch-workflow-archiver       0.2.11b20231012\n",
      "torchaudio                    2.0.2\n",
      "torchdata                     0.6.1\n",
      "torchserve                    0.8.2b20230828\n",
      "torchtext                     0.15.2\n",
      "torchvision                   0.15.2\n"
     ]
    }
   ],
   "source": [
    "# !pip list | grep transformers\n",
    "!pip list | grep torch"
   ]
  },
  {
   "cell_type": "code",
   "execution_count": 1,
   "id": "b59e9c25-429b-43e3-8364-7720531250bf",
   "metadata": {
    "tags": []
   },
   "outputs": [
    {
     "name": "stdout",
     "output_type": "stream",
     "text": [
      "sagemaker.config INFO - Not applying SDK defaults from location: /etc/xdg/sagemaker/config.yaml\n",
      "sagemaker.config INFO - Not applying SDK defaults from location: /home/ec2-user/.config/sagemaker/config.yaml\n",
      "2.207.1\n",
      "4.37.2\n"
     ]
    }
   ],
   "source": [
    "import sagemaker\n",
    "import transformers\n",
    "print(sagemaker.__version__)\n",
    "print(transformers.__version__)"
   ]
  },
  {
   "cell_type": "code",
   "execution_count": 2,
   "id": "29dac64b-1c80-4f6f-b85b-771107742751",
   "metadata": {
    "tags": []
   },
   "outputs": [
    {
     "data": {
      "application/vnd.jupyter.widget-view+json": {
       "model_id": "2f7e198299354ce5a2381a1c22c2a35f",
       "version_major": 2,
       "version_minor": 0
      },
      "text/plain": [
       "Fetching 11 files:   0%|          | 0/11 [00:00<?, ?it/s]"
      ]
     },
     "metadata": {},
     "output_type": "display_data"
    }
   ],
   "source": [
    "from huggingface_hub import snapshot_download\n",
    "from pathlib import Path\n",
    "import os\n",
    "\n",
    "local_model_path = Path(\"./pretrained-models\")\n",
    "local_model_path.mkdir(exist_ok=True)\n",
    "model_name = \"Qwen/Qwen1.5-14B-Chat-AWQ\"\n",
    "allow_patterns = [\"*.json\", \"*.pt\", \"*.bin\", \"*.txt\", \"*.model\", \"*.py\", \"*.safetensors\"]\n",
    "\n",
    "model_download_path = snapshot_download(\n",
    "    repo_id=model_name,\n",
    "    cache_dir=local_model_path,\n",
    "    allow_patterns=allow_patterns,\n",
    ")"
   ]
  },
  {
   "cell_type": "code",
   "execution_count": 3,
   "id": "0ff1e979-8259-44b5-88f5-d08568876409",
   "metadata": {
    "tags": []
   },
   "outputs": [
    {
     "name": "stdout",
     "output_type": "stream",
     "text": [
      "Local model download path: pretrained-models/models--Qwen--Qwen1.5-14B-Chat-AWQ/snapshots/e1da15d0ab8fcca8d19269b0279eed02598daa91\n"
     ]
    }
   ],
   "source": [
    "print(f\"Local model download path: {model_download_path}\")"
   ]
  },
  {
   "cell_type": "code",
   "execution_count": 4,
   "id": "d45445cc-ad15-4bc4-afdc-46b12b197b2a",
   "metadata": {
    "tags": []
   },
   "outputs": [],
   "source": [
    "s3_model_prefix = \"llm/qwen1.5/model\"  # folder where model checkpoint will go"
   ]
  },
  {
   "cell_type": "code",
   "execution_count": 5,
   "id": "c2cd2a1e-2b0b-4b24-8783-a4674037a5ee",
   "metadata": {
    "tags": []
   },
   "outputs": [],
   "source": [
    "base_model_s3 = f\"{s3_model_prefix}/qwen1.5-14b-awq\""
   ]
  },
  {
   "cell_type": "code",
   "execution_count": 6,
   "id": "d8441855-87b0-4c54-91d0-4c2a58b56fc6",
   "metadata": {
    "tags": []
   },
   "outputs": [],
   "source": [
    "sagemaker_session = sagemaker.Session()\n",
    "# s3_model_artifact = sagemaker_session.upload_data(path=model_download_path, key_prefix=base_model_s3)"
   ]
  },
  {
   "cell_type": "code",
   "execution_count": 7,
   "id": "814054a5-76b6-4205-8e9c-93d13cbadb79",
   "metadata": {
    "tags": []
   },
   "outputs": [],
   "source": [
    "# print(f\"Model s3 uri : {s3_model_artifact}\")"
   ]
  },
  {
   "cell_type": "markdown",
   "id": "cb2df63e-6306-4dad-9880-bbba23dfcb7f",
   "metadata": {},
   "source": [
    "### Testing model in local\n",
    "\n",
    "- Note that AWQ model needs autoawq"
   ]
  },
  {
   "cell_type": "code",
   "execution_count": 8,
   "id": "3f3a5d91-e2f5-4490-8e9d-521952483e3f",
   "metadata": {
    "tags": []
   },
   "outputs": [],
   "source": [
    "import torch\n",
    "from transformers import AutoTokenizer, AutoModelForCausalLM"
   ]
  },
  {
   "cell_type": "code",
   "execution_count": 9,
   "id": "23234a1e-532a-4d16-bd45-25aafaa4a8d8",
   "metadata": {
    "tags": []
   },
   "outputs": [
    {
     "name": "stderr",
     "output_type": "stream",
     "text": [
      "Special tokens have been added in the vocabulary, make sure the associated word embeddings are fine-tuned or trained.\n"
     ]
    },
    {
     "data": {
      "application/vnd.jupyter.widget-view+json": {
       "model_id": "3411a745e87a45ceb0e8e0d3e42fdb08",
       "version_major": 2,
       "version_minor": 0
      },
      "text/plain": [
       "Loading checkpoint shards:   0%|          | 0/3 [00:00<?, ?it/s]"
      ]
     },
     "metadata": {},
     "output_type": "display_data"
    }
   ],
   "source": [
    "tokenizer = AutoTokenizer.from_pretrained(model_download_path)\n",
    "model = AutoModelForCausalLM.from_pretrained(\n",
    "    model_download_path,\n",
    "    device_map='auto'\n",
    ")"
   ]
  },
  {
   "cell_type": "code",
   "execution_count": 46,
   "id": "e8aa4b35-b092-40d9-b841-afed5a3f5d22",
   "metadata": {
    "tags": []
   },
   "outputs": [],
   "source": [
    "character = \"flying cat and cute puppy\"\n",
    "prompt = f\"Tell me a creative fairy tale for children. The main character are {character}\""
   ]
  },
  {
   "cell_type": "code",
   "execution_count": null,
   "id": "0dc5578a-fae4-49ad-a2b2-e739afbe9e7b",
   "metadata": {
    "tags": []
   },
   "outputs": [],
   "source": []
  },
  {
   "cell_type": "code",
   "execution_count": 47,
   "id": "9e94a294-7190-4af5-ba94-6b564a2d00c1",
   "metadata": {
    "tags": []
   },
   "outputs": [],
   "source": [
    "\n",
    "instruction = \"\"\"\n",
    "You are a story teller for kids. Please make a story for kids\n",
    "- The story should start with \\\"Title:\\\"\n",
    "- The end of story should finished by \\\"The end.\\\" and stop to make story.\n",
    "- Please break out the sentences appropriately.\n",
    "- Make the story as long as possible.\n",
    "\"\"\"\n",
    "\n",
    "messages = [\n",
    "    {\"role\": \"system\", \"content\": instruction},\n",
    "    {\"role\": \"user\", \"content\": prompt}\n",
    "]\n",
    "\n",
    "text = tokenizer.apply_chat_template(\n",
    "    messages,\n",
    "    tokenize=False,\n",
    "    add_generation_prompt=True\n",
    ")\n"
   ]
  },
  {
   "cell_type": "code",
   "execution_count": 48,
   "id": "668d432e-76d0-4fb2-8e2e-c74750227d21",
   "metadata": {
    "tags": []
   },
   "outputs": [
    {
     "name": "stdout",
     "output_type": "stream",
     "text": [
      "<|im_start|>system\n",
      "\n",
      "You are a story teller for kids. Please make a story for kids to Korean\n",
      "- The story should start with \"Title:\"\n",
      "- The end of story should finished by \"The end.\" and stop to make story.\n",
      "- Please break out the sentences appropriately.\n",
      "- Make the story as long as possible.\n",
      "<|im_end|>\n",
      "<|im_start|>user\n",
      "Tell me a creative fairy tale for children. The main character are flying cat and cute puppy<|im_end|>\n",
      "<|im_start|>assistant\n",
      "\n"
     ]
    }
   ],
   "source": [
    "print(text)"
   ]
  },
  {
   "cell_type": "code",
   "execution_count": 52,
   "id": "2c6b8ebb-65ae-431f-bddd-10d945be2cbd",
   "metadata": {
    "tags": []
   },
   "outputs": [],
   "source": [
    "params = {\n",
    "    \"max_new_tokens\": 4096,\n",
    "    \"temperature\": 0.9,\n",
    "    \"top_p\": 0.9,\n",
    "}"
   ]
  },
  {
   "cell_type": "code",
   "execution_count": 53,
   "id": "b3342cc6-d01f-44e9-8988-698f6c346b02",
   "metadata": {
    "tags": []
   },
   "outputs": [
    {
     "name": "stderr",
     "output_type": "stream",
     "text": [
      "The attention mask and the pad token id were not set. As a consequence, you may observe unexpected behavior. Please pass your input's `attention_mask` to obtain reliable results.\n",
      "Setting `pad_token_id` to `eos_token_id`:151645 for open-end generation.\n"
     ]
    },
    {
     "name": "stdout",
     "output_type": "stream",
     "text": [
      "CPU times: user 35.2 s, sys: 79.1 ms, total: 35.3 s\n",
      "Wall time: 35.2 s\n"
     ]
    }
   ],
   "source": [
    "%%time\n",
    "\n",
    "model_inputs = tokenizer([text], return_tensors=\"pt\").to(\"cuda\")\n",
    "\n",
    "generated_ids = model.generate(\n",
    "    model_inputs.input_ids,\n",
    "    **params\n",
    ")\n",
    "generated_ids = [\n",
    "    output_ids[len(input_ids):] for input_ids, output_ids in zip(model_inputs.input_ids, generated_ids)\n",
    "]\n",
    "\n",
    "response = tokenizer.batch_decode(generated_ids, skip_special_tokens=True)[0]"
   ]
  },
  {
   "cell_type": "code",
   "execution_count": 54,
   "id": "be5060bf-63bd-4c82-95d0-d23f4f170a73",
   "metadata": {
    "tags": []
   },
   "outputs": [
    {
     "name": "stdout",
     "output_type": "stream",
     "text": [
      "Title: The Flying Cat and the Loyal Puppy\n",
      "\n",
      "Once upon a time, in a magical land called Cloudland, there lived a little flying cat named Fluffy. Fluffy was a special cat with soft, fluffy fur and bright green eyes. She had wings that allowed her to soar through the sky like a feathered angel. One day, Fluffy met a cute little puppy named Sparky. Sparky was a tiny, happy dog with a wagging tail and a big smile.\n",
      "\n",
      "Fluffy and Sparky became the best of friends. They lived in a beautiful forest filled with vibrant flowers and tall trees. Together, they explored the world, sharing adventures and playing together. \n",
      "\n",
      "One day, while they were playing, Fluffy found a magic amulet in a hidden cave. The amulet was glowing with a bright light and had the power to grant wishes. Excitedly, she wished for a magical adventure for both of them. Suddenly, they were whisked away to a mysterious island called Dreamland.\n",
      "\n",
      "On the island, they discovered a magical garden where every flower bloomed with a different color and the trees sang songs. They met a kind-hearted fairy named Fairy, who showed them how to use the amulet to wish for something they truly wanted. \n",
      "\n",
      "Fluffy wished for a magical castle, while Sparky wanted a big, delicious ice cream. The amulet granted their wishes, and a magnificent castle appeared before them. It had sparkling towers, a sparkling pond, and colorful flowers. As they explored the castle, they met a friendly dragon named Drizzle who lived in the castle. Drizzle taught them how to fly and play games with magical creatures.\n",
      "\n",
      "In the castle, Fluffy and Sparky met a wise old owl named Wise, who shared stories of ancient times. They also met a mischievous squirrel named Speedy, who loved to play pranks on others. Together, they learned that kindness and friendship were the true magic of Cloudland.\n",
      "\n",
      "Fluffy and Sparky decided to help others too, using their new abilities. Fluffy used her flying skills to deliver food to hungry animals, while Sparky brought joy with his wagging tail. They became the island's heroes, spreading happiness wherever they went.\n",
      "\n",
      "One day, they stumbled upon a secret garden, where a sad little bird was crying. Fluffy and Sparky understood that the bird's feathers had been stolen by a wicked witch. They decided to help the bird find its feathers, showing how teamwork and kindness can overcome any challenge.\n",
      "\n",
      "Together, they searched the island, asking every creature they met for clues. They found a hidden cave filled with magical feathers. With the amulet's help, they collected all the feathers, and the bird regained its wings, soaring high in the sky.\n",
      "\n",
      "The end.\n"
     ]
    }
   ],
   "source": [
    "print(response)"
   ]
  },
  {
   "cell_type": "markdown",
   "id": "c75211fa-52be-4da1-b891-5e433aa0121e",
   "metadata": {},
   "source": [
    "### Note\n",
    "\n",
    "- Qwen 1.5 is good to generate creative story\n",
    "- 14B AWQ model works well on `g4dn.xlarge` and speed is acceptable\n",
    "- But understanding/generating korean is not good\n",
    "\n",
    "\n",
    "### Test DJL deployment\n",
    "\n",
    "- Deploy Qwen with DJL\n",
    "- Note that `autoawq` is not stable and LMI DJL have different version (recent autoawq installation from pip using cuda 12.1 but DeepSpeed LMI DJL uses cuda 11.8) need to find correct version from [release](https://github.com/casper-hansen/AutoAWQ/releases) page.\n",
    "- check the `qwen15-14b-src/requirements.txt` for details\n"
   ]
  },
  {
   "cell_type": "code",
   "execution_count": 2,
   "id": "4179c45d-b669-435e-a91d-aec2d5c1b609",
   "metadata": {
    "tags": []
   },
   "outputs": [],
   "source": [
    "from sagemaker.utils import name_from_base\n",
    "from sagemaker import image_uris"
   ]
  },
  {
   "cell_type": "code",
   "execution_count": 3,
   "id": "e8a02b55-d674-434b-9c6d-b700c6cd211b",
   "metadata": {
    "tags": []
   },
   "outputs": [],
   "source": [
    "sagemaker_session = sagemaker.Session()\n",
    "role = sagemaker.get_execution_role()\n",
    "sm_client = sagemaker_session.sagemaker_client\n",
    "sm_runtime_client = sagemaker_session.sagemaker_runtime_client\n",
    "default_bucket = sagemaker_session.default_bucket()"
   ]
  },
  {
   "cell_type": "code",
   "execution_count": 4,
   "id": "4a0081bd-c2bd-4851-b191-cd18aedd7121",
   "metadata": {
    "tags": []
   },
   "outputs": [],
   "source": [
    "llm_engine = \"deepspeed\"\n",
    "# llm_engine = \"fastertransformer\""
   ]
  },
  {
   "cell_type": "code",
   "execution_count": 5,
   "id": "42ecde61-a16b-48fb-9bba-9189a192906f",
   "metadata": {
    "tags": []
   },
   "outputs": [
    {
     "name": "stdout",
     "output_type": "stream",
     "text": [
      "Inference container uri: 763104351884.dkr.ecr.us-west-2.amazonaws.com/djl-inference:0.25.0-deepspeed0.11.0-cu118\n"
     ]
    }
   ],
   "source": [
    "framework_name = f\"djl-{llm_engine}\"\n",
    "inference_image_uri = image_uris.retrieve(\n",
    "    framework=framework_name, region=sagemaker_session.boto_session.region_name, version=\"0.25.0\"\n",
    ")\n",
    "print(f\"Inference container uri: {inference_image_uri}\")"
   ]
  },
  {
   "cell_type": "code",
   "execution_count": 6,
   "id": "5b131fa5-8a8b-4bef-b0d2-17b46b10778e",
   "metadata": {
    "tags": []
   },
   "outputs": [],
   "source": [
    "src_dir_name = f\"qwen15-14b-src\"\n",
    "s3_target = f\"s3://{sagemaker_session.default_bucket()}/llm/qwen1.5/code/\""
   ]
  },
  {
   "cell_type": "code",
   "execution_count": 7,
   "id": "16ee9e33-a2d3-4e6f-933d-db23571a537d",
   "metadata": {
    "tags": []
   },
   "outputs": [
    {
     "name": "stdout",
     "output_type": "stream",
     "text": [
      "qwen15-14b-src/\n",
      "qwen15-14b-src/model.py\n",
      "qwen15-14b-src/requirements.txt\n",
      "qwen15-14b-src/serving.properties\n",
      "upload: ./qwen15-14b-src.tar.gz to s3://sagemaker-us-west-2-723597067299/llm/qwen1.5/code/qwen15-14b-src.tar.gz\n"
     ]
    }
   ],
   "source": [
    "!rm -rf {src_dir_name}.tar.gz\n",
    "!tar zcvf {src_dir_name}.tar.gz {src_dir_name} --exclude \".ipynb_checkpoints\" --exclude \"__pycache__\"\n",
    "!aws s3 cp {src_dir_name}.tar.gz {s3_target}"
   ]
  },
  {
   "cell_type": "code",
   "execution_count": 8,
   "id": "4bf914e6-0f75-442f-84f3-f7f9c013bc8d",
   "metadata": {
    "tags": []
   },
   "outputs": [
    {
     "name": "stdout",
     "output_type": "stream",
     "text": [
      "s3://sagemaker-us-west-2-723597067299/llm/qwen1.5/code/qwen15-14b-src.tar.gz\n"
     ]
    }
   ],
   "source": [
    "model_uri = f\"{s3_target}{src_dir_name}.tar.gz\"\n",
    "print(model_uri)"
   ]
  },
  {
   "cell_type": "code",
   "execution_count": 9,
   "id": "867fbd0e-06e3-4875-9cd9-44804c1e94f6",
   "metadata": {
    "tags": []
   },
   "outputs": [
    {
     "name": "stdout",
     "output_type": "stream",
     "text": [
      "qwen15-14b-djl-2024-02-15-16-24-07-731\n",
      "Created Model: arn:aws:sagemaker:us-west-2:723597067299:model/qwen15-14b-djl-2024-02-15-16-24-07-731\n"
     ]
    }
   ],
   "source": [
    "model_name = name_from_base(f\"qwen15-14b-djl\")\n",
    "print(model_name)\n",
    "\n",
    "create_model_response = sm_client.create_model(\n",
    "    ModelName=model_name,\n",
    "    ExecutionRoleArn=role,\n",
    "    PrimaryContainer={\"Image\": inference_image_uri, \"ModelDataUrl\": model_uri},\n",
    ")\n",
    "model_arn = create_model_response[\"ModelArn\"]\n",
    "\n",
    "print(f\"Created Model: {model_arn}\")"
   ]
  },
  {
   "cell_type": "code",
   "execution_count": 10,
   "id": "1ae861a8-c227-4d0a-b01c-34fc27811a73",
   "metadata": {
    "tags": []
   },
   "outputs": [
    {
     "name": "stdout",
     "output_type": "stream",
     "text": [
      "{'EndpointConfigArn': 'arn:aws:sagemaker:us-west-2:723597067299:endpoint-config/qwen15-14b-djl-2024-02-15-16-24-07-731-config', 'ResponseMetadata': {'RequestId': '970a626b-7286-4bab-a62c-85351a84acef', 'HTTPStatusCode': 200, 'HTTPHeaders': {'x-amzn-requestid': '970a626b-7286-4bab-a62c-85351a84acef', 'content-type': 'application/x-amz-json-1.1', 'content-length': '126', 'date': 'Thu, 15 Feb 2024 16:24:08 GMT'}, 'RetryAttempts': 0}}\n"
     ]
    }
   ],
   "source": [
    "instance_type = \"ml.g4dn.xlarge\"\n",
    "\n",
    "endpoint_config_name = f\"{model_name}-config\"\n",
    "endpoint_name = f\"{model_name}-endpoint\"\n",
    "\n",
    "endpoint_config_response = sm_client.create_endpoint_config(\n",
    "    EndpointConfigName=endpoint_config_name,\n",
    "    ProductionVariants=[\n",
    "        {\n",
    "            \"VariantName\": \"variant1\",\n",
    "            \"ModelName\": model_name,\n",
    "            \"InstanceType\": instance_type,\n",
    "            \"InitialInstanceCount\": 1,\n",
    "            \"ContainerStartupHealthCheckTimeoutInSeconds\": 600,\n",
    "        },\n",
    "    ],\n",
    ")\n",
    "print(endpoint_config_response)"
   ]
  },
  {
   "cell_type": "code",
   "execution_count": 11,
   "id": "6067aa39-9989-4d48-910d-2e3f46e45e0a",
   "metadata": {
    "tags": []
   },
   "outputs": [
    {
     "name": "stdout",
     "output_type": "stream",
     "text": [
      "Created Endpoint: arn:aws:sagemaker:us-west-2:723597067299:endpoint/qwen15-14b-djl-2024-02-15-16-24-07-731-endpoint\n"
     ]
    }
   ],
   "source": [
    "create_endpoint_response = sm_client.create_endpoint(\n",
    "    EndpointName=f\"{endpoint_name}\", EndpointConfigName=endpoint_config_name\n",
    ")\n",
    "print(f\"Created Endpoint: {create_endpoint_response['EndpointArn']}\")"
   ]
  },
  {
   "cell_type": "code",
   "execution_count": 12,
   "id": "5e1fd2ba-1415-4084-918a-de71b65789fd",
   "metadata": {
    "tags": []
   },
   "outputs": [
    {
     "name": "stdout",
     "output_type": "stream",
     "text": [
      "Status: Creating\n",
      "Status: Creating\n",
      "Status: Creating\n",
      "Status: Creating\n",
      "Status: Creating\n",
      "Status: Creating\n",
      "Status: InService\n",
      "Arn: arn:aws:sagemaker:us-west-2:723597067299:endpoint/qwen15-14b-djl-2024-02-15-16-24-07-731-endpoint\n",
      "Status: InService\n"
     ]
    }
   ],
   "source": [
    "import time\n",
    "\n",
    "resp = sm_client.describe_endpoint(EndpointName=endpoint_name)\n",
    "status = resp[\"EndpointStatus\"]\n",
    "print(\"Status: \" + status)\n",
    "\n",
    "while status == \"Creating\":\n",
    "    time.sleep(60)\n",
    "    resp = sm_client.describe_endpoint(EndpointName=endpoint_name)\n",
    "    status = resp[\"EndpointStatus\"]\n",
    "    print(\"Status: \" + status)\n",
    "\n",
    "print(\"Arn: \" + resp[\"EndpointArn\"])\n",
    "print(\"Status: \" + status)"
   ]
  },
  {
   "cell_type": "code",
   "execution_count": 13,
   "id": "b498eed0-e99d-49dc-b6bc-4df6aa810158",
   "metadata": {},
   "outputs": [],
   "source": [
    "import json"
   ]
  },
  {
   "cell_type": "code",
   "execution_count": 21,
   "id": "18c5ab60-c0a1-47c5-b54f-4f08364f34b2",
   "metadata": {},
   "outputs": [
    {
     "name": "stdout",
     "output_type": "stream",
     "text": [
      "Tell me a creative fairy tale for children. The main character are flying cat and cute puppy\n"
     ]
    }
   ],
   "source": [
    "character = \"flying cat and cute puppy\"\n",
    "prompt = f\"Tell me a creative fairy tale for children. The main character are {character}\"\n",
    "print(prompt)"
   ]
  },
  {
   "cell_type": "code",
   "execution_count": 22,
   "id": "51deab16-53dd-4e49-b700-87564b8da0c4",
   "metadata": {},
   "outputs": [
    {
     "name": "stdout",
     "output_type": "stream",
     "text": [
      "CPU times: user 4.2 ms, sys: 693 µs, total: 4.89 ms\n",
      "Wall time: 34 s\n"
     ]
    }
   ],
   "source": [
    "%%time\n",
    "# prompts = [prompt]\n",
    "\n",
    "instruction = \"\"\"\n",
    "You are a story teller for kids. Please make a story for kids in english\n",
    "- The story should start with \\\"Title:\\\"\n",
    "- The end of story should finished by \\\"The end.\\\" and stop to make story.\n",
    "- Please break out the sentences appropriately.\n",
    "- Make the story as long as possible.\n",
    "\"\"\"\n",
    "\n",
    "response_model = sm_runtime_client.invoke_endpoint(\n",
    "    EndpointName=endpoint_name,\n",
    "    Body=json.dumps(\n",
    "        {\n",
    "            \"input_text\": prompt,\n",
    "            \"instruction\": instruction,\n",
    "            \"parameters\": {\n",
    "                \"max_new_tokens\": 4096,\n",
    "                \"temperature\": 0.9,\n",
    "                \"top_p\": 0.9,\n",
    "            },\n",
    "        }\n",
    "    ),\n",
    "    ContentType=\"application/json\",\n",
    ")"
   ]
  },
  {
   "cell_type": "code",
   "execution_count": 23,
   "id": "c791b5b9-6a20-4fa9-9174-c28a76790a2d",
   "metadata": {},
   "outputs": [
    {
     "name": "stdout",
     "output_type": "stream",
     "text": [
      "Title: The Magical Flight of Feline and Pup\n",
      "\n",
      "Once upon a time, in a magical forest called Whimsywood, there lived a curious flying cat named Felix, who had soft fur the color of sunshine and enormous ears that allowed him to hear the whispers of the wind. His best friend was a cheerful little puppy named Paws, who had a fluffy coat as white as snow and a wagging tail that could light up even the darkest nights.\n",
      "\n",
      "Felix and Paws were inseparable, spending their days exploring the enchanted trees and talking to the friendly forest creatures. One sunny afternoon, while they were playing near a sparkling pond, they discovered an ancient, enchanted amulet. It glimmered under the sunlight, and as they touched it, a warm glow spread across them.\n",
      "\n",
      "Suddenly, Paws transformed into a talking dog, his barks turned into sentences, and he was filled with boundless energy. Felix, now a magnificent feline superhero, leaped higher than ever before, feeling the power of the amulet within him. They were overjoyed, knowing their friendship had just grown even stronger.\n",
      "\n",
      "Together, Felix and Paws decided to use their newfound abilities to help those in need throughout Whimsywood. They flew through the forest, rescuing butterflies from tall trees, helping squirrels find lost nuts, and making the flowers bloom brighter.\n",
      "\n",
      "One day, they heard about a mischievous fairy named Twinkle, who had stolen the forest's magic lantern. Without the lantern, the forest's moon would lose its brightness, causing the plants to wither and the animals to feel sad. Determined to save their beloved home, Felix and Pups set off on a quest to retrieve the lantern.\n",
      "\n",
      "They followed a winding path under a rainbow bridge, past a waterfall that played a lullaby, and finally arrived at a castle made entirely of candy. Twinkle, a playful fairy with sparkling wings, lived inside, but she hadn't realized the importance of the lantern. Seeing the genuine concern on Felix and Paws' faces, she felt a tug in her heart and decided to return it.\n",
      "\n",
      "With the magic lantern back in place, the forest came alive with a dazzling glow. The animals celebrated, and even Twinkle learned the value of sharing joy. Felix and Paws were hailed as heroes, and their friendship grew even deeper.\n",
      "\n",
      "As the sun began to set, the amulet's power started to fade, and Felix turned back into his regular feline self, while Paws reverted to his adorable puppy form. But they knew that their adventure together had been extraordinary, and they continued to explore Whimsywood, side by side, always ready for new adventures.\n",
      "\n",
      "The end.\n"
     ]
    }
   ],
   "source": [
    "output = str(response_model[\"Body\"].read(), \"utf-8\")\n",
    "print(output)"
   ]
  },
  {
   "cell_type": "code",
   "execution_count": null,
   "id": "9111ee86-1264-413a-82db-9d722bd7ea62",
   "metadata": {},
   "outputs": [],
   "source": []
  },
  {
   "cell_type": "code",
   "execution_count": null,
   "id": "4387dc07-2d4c-4153-85ed-604d1c9087e8",
   "metadata": {},
   "outputs": [],
   "source": []
  },
  {
   "cell_type": "code",
   "execution_count": null,
   "id": "eb8955f6-3915-4ef8-b042-6b7aef32f0a2",
   "metadata": {},
   "outputs": [],
   "source": []
  },
  {
   "cell_type": "code",
   "execution_count": null,
   "id": "967de976-41b9-4cb3-8f3a-43fea026c6e3",
   "metadata": {},
   "outputs": [],
   "source": []
  },
  {
   "cell_type": "code",
   "execution_count": null,
   "id": "94979f8d-96b6-4cdf-ba21-736c9ec55c96",
   "metadata": {},
   "outputs": [],
   "source": []
  },
  {
   "cell_type": "code",
   "execution_count": null,
   "id": "6717cec2-7f9a-48d9-ade2-0b285ce60f6b",
   "metadata": {},
   "outputs": [],
   "source": []
  }
 ],
 "metadata": {
  "kernelspec": {
   "display_name": "conda_pytorch_p310",
   "language": "python",
   "name": "conda_pytorch_p310"
  },
  "language_info": {
   "codemirror_mode": {
    "name": "ipython",
    "version": 3
   },
   "file_extension": ".py",
   "mimetype": "text/x-python",
   "name": "python",
   "nbconvert_exporter": "python",
   "pygments_lexer": "ipython3",
   "version": "3.10.13"
  }
 },
 "nbformat": 4,
 "nbformat_minor": 5
}
