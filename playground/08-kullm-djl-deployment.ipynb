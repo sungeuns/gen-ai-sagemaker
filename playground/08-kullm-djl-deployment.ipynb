{
 "cells": [
  {
   "cell_type": "markdown",
   "id": "d8bab938-3e51-4d8f-a11b-0a373dd7ec6e",
   "metadata": {},
   "source": [
    "## Kullm 모델을 DJL로 배포하기"
   ]
  },
  {
   "cell_type": "code",
   "execution_count": null,
   "id": "e82f1c5c-e960-4933-bfe6-6f2cb49604ea",
   "metadata": {},
   "outputs": [],
   "source": []
  },
  {
   "cell_type": "code",
   "execution_count": null,
   "id": "4817a73a-d3cb-46af-98df-21282179e448",
   "metadata": {},
   "outputs": [],
   "source": []
  },
  {
   "cell_type": "code",
   "execution_count": null,
   "id": "b29cefb3-10cf-481e-aa5e-e7f60fd51bfb",
   "metadata": {},
   "outputs": [],
   "source": []
  },
  {
   "cell_type": "code",
   "execution_count": null,
   "id": "52e8a755-7736-4532-a056-93d11b149526",
   "metadata": {
    "tags": []
   },
   "outputs": [],
   "source": [
    "!pip install -q transformers accelerate sentencepiece bitsandbytes"
   ]
  },
  {
   "cell_type": "code",
   "execution_count": null,
   "id": "ab9e7466-f598-4c28-82b7-fa8b83e7db4f",
   "metadata": {
    "tags": []
   },
   "outputs": [],
   "source": [
    "import boto3\n",
    "import sagemaker\n",
    "from sagemaker.utils import name_from_base\n",
    "from sagemaker import image_uris"
   ]
  },
  {
   "cell_type": "code",
   "execution_count": null,
   "id": "8e9232d8-1097-4f47-9500-7d3d2d2adbbc",
   "metadata": {
    "tags": []
   },
   "outputs": [],
   "source": [
    "sagemaker_session = sagemaker.Session()\n",
    "role = sagemaker.get_execution_role()\n",
    "sm_client = sagemaker_session.sagemaker_client\n",
    "sm_runtime_client = sagemaker_session.sagemaker_runtime_client\n",
    "default_bucket = sagemaker_session.default_bucket()"
   ]
  },
  {
   "cell_type": "code",
   "execution_count": null,
   "id": "e8e36224-d3df-4526-aa2d-2b68529d3013",
   "metadata": {
    "tags": []
   },
   "outputs": [],
   "source": [
    "from huggingface_hub import snapshot_download\n",
    "from pathlib import Path\n",
    "import os\n",
    "\n",
    "local_model_path = Path(\"./pretrained-models\")\n",
    "local_model_path.mkdir(exist_ok=True)\n",
    "model_name = \"nlpai-lab/kullm-polyglot-12.8b-v2\"\n",
    "# model_name = \"nlpai-lab/kullm-polyglot-5.8b-v2\"\n",
    "allow_patterns = [\"*.json\", \"*.pt\", \"*.bin\", \"*.txt\", \"*.model\", \"*.py\"]\n",
    "\n",
    "model_download_path = snapshot_download(\n",
    "    repo_id=model_name,\n",
    "    cache_dir=local_model_path,\n",
    "    allow_patterns=allow_patterns,\n",
    ")"
   ]
  },
  {
   "cell_type": "code",
   "execution_count": null,
   "id": "cf60c3cc-3935-479a-adc9-87e2c58f7526",
   "metadata": {
    "tags": []
   },
   "outputs": [],
   "source": [
    "s3_model_prefix = \"llm/kullm/model\"  # folder where model checkpoint will go"
   ]
  },
  {
   "cell_type": "code",
   "execution_count": null,
   "id": "5e9b3185-7e6f-4158-82d9-1cd59cbcd6cc",
   "metadata": {
    "tags": []
   },
   "outputs": [],
   "source": [
    "base_model_s3 = f\"{s3_model_prefix}/kullm-13b\""
   ]
  },
  {
   "cell_type": "code",
   "execution_count": null,
   "id": "2d230f0d-368e-4319-891d-ecb816aa13ec",
   "metadata": {
    "tags": []
   },
   "outputs": [],
   "source": [
    "sagemaker_session = sagemaker.Session()\n",
    "s3_model_artifact = sagemaker_session.upload_data(path=model_download_path, key_prefix=base_model_s3)"
   ]
  },
  {
   "cell_type": "code",
   "execution_count": null,
   "id": "4c2750ac-3740-43fc-824e-1f601e7460f2",
   "metadata": {
    "tags": []
   },
   "outputs": [],
   "source": [
    "print(f\"Model s3 uri : {s3_model_artifact}\")"
   ]
  },
  {
   "cell_type": "code",
   "execution_count": null,
   "id": "bd59fe2b-60f5-453f-a2e8-dce341811f91",
   "metadata": {
    "tags": []
   },
   "outputs": [],
   "source": [
    "# llm_engine = \"deepspeed\"\n",
    "llm_engine = \"fastertransformer\""
   ]
  },
  {
   "cell_type": "code",
   "execution_count": null,
   "id": "2329e25b-24e1-4923-9cac-0ae2c7dd9bd7",
   "metadata": {
    "tags": []
   },
   "outputs": [],
   "source": [
    "framework_name = f\"djl-{llm_engine}\"\n",
    "# inference_image_uri = image_uris.retrieve(\n",
    "#     framework=framework_name, region=sagemaker_session.boto_session.region_name, version=\"0.21.0\"\n",
    "# )\n",
    "\n",
    "inference_image_uri = image_uris.retrieve(\n",
    "    framework=framework_name, region=sagemaker_session.boto_session.region_name, version=\"0.22.1\"\n",
    ")\n",
    "\n",
    "print(f\"Inference container uri: {inference_image_uri}\")"
   ]
  },
  {
   "cell_type": "code",
   "execution_count": null,
   "id": "323c0fc8-df0a-45cc-93ec-c9bbd53d98dc",
   "metadata": {
    "tags": []
   },
   "outputs": [],
   "source": [
    "src_dir_name = f\"kullm-13b-src\"\n",
    "s3_target = f\"s3://{sagemaker_session.default_bucket()}/llm/kullm/code/\""
   ]
  },
  {
   "cell_type": "code",
   "execution_count": null,
   "id": "aa8912b3-0b6b-4d6b-8e14-57ad9512970d",
   "metadata": {
    "tags": []
   },
   "outputs": [],
   "source": [
    "!rm -rf {src_dir_name}.tar.gz\n",
    "!tar zcvf {src_dir_name}.tar.gz {src_dir_name} --exclude \".ipynb_checkpoints\" --exclude \"__pycache__\"\n",
    "!aws s3 cp {src_dir_name}.tar.gz {s3_target}"
   ]
  },
  {
   "cell_type": "code",
   "execution_count": null,
   "id": "0bf2a3ba-de78-41f1-9696-485990519e2a",
   "metadata": {
    "tags": []
   },
   "outputs": [],
   "source": [
    "model_uri = f\"{s3_target}{src_dir_name}.tar.gz\"\n",
    "print(model_uri)"
   ]
  },
  {
   "cell_type": "code",
   "execution_count": null,
   "id": "2d31dc66-5b2e-4de1-8e2e-579487f47817",
   "metadata": {
    "tags": []
   },
   "outputs": [],
   "source": [
    "model_name = name_from_base(f\"kullm-13b-djl\")\n",
    "print(model_name)\n",
    "\n",
    "create_model_response = sm_client.create_model(\n",
    "    ModelName=model_name,\n",
    "    ExecutionRoleArn=role,\n",
    "    PrimaryContainer={\"Image\": inference_image_uri, \"ModelDataUrl\": model_uri},\n",
    ")\n",
    "model_arn = create_model_response[\"ModelArn\"]\n",
    "\n",
    "print(f\"Created Model: {model_arn}\")"
   ]
  },
  {
   "cell_type": "code",
   "execution_count": null,
   "id": "64da1551-ba7c-438f-9b99-4b6e77b2fc44",
   "metadata": {
    "tags": []
   },
   "outputs": [],
   "source": [
    "instance_type = \"ml.g4dn.xlarge\"\n",
    "# instance_type = \"ml.g4dn.2xlarge\"\n",
    "# instance_type = \"ml.g5.4xlarge\"\n",
    "\n",
    "endpoint_config_name = f\"{model_name}-config\"\n",
    "endpoint_name = f\"{model_name}-endpoint\"\n",
    "\n",
    "endpoint_config_response = sm_client.create_endpoint_config(\n",
    "    EndpointConfigName=endpoint_config_name,\n",
    "    ProductionVariants=[\n",
    "        {\n",
    "            \"VariantName\": \"variant1\",\n",
    "            \"ModelName\": model_name,\n",
    "            \"InstanceType\": instance_type,\n",
    "            \"InitialInstanceCount\": 1,\n",
    "            \"ContainerStartupHealthCheckTimeoutInSeconds\": 600,\n",
    "        },\n",
    "    ],\n",
    ")\n",
    "print(endpoint_config_response)"
   ]
  },
  {
   "cell_type": "code",
   "execution_count": null,
   "id": "e2b08587-d5ad-436e-ba36-5e7dfcdfa3ca",
   "metadata": {
    "tags": []
   },
   "outputs": [],
   "source": [
    "create_endpoint_response = sm_client.create_endpoint(\n",
    "    EndpointName=f\"{endpoint_name}\", EndpointConfigName=endpoint_config_name\n",
    ")\n",
    "print(f\"Created Endpoint: {create_endpoint_response['EndpointArn']}\")"
   ]
  },
  {
   "cell_type": "code",
   "execution_count": null,
   "id": "19272c6b-7589-405c-828a-4416dd79e1fc",
   "metadata": {},
   "outputs": [],
   "source": []
  },
  {
   "cell_type": "code",
   "execution_count": null,
   "id": "8157094e-decd-4c78-be58-2c3c84ca3965",
   "metadata": {
    "tags": []
   },
   "outputs": [],
   "source": [
    "import time\n",
    "\n",
    "resp = sm_client.describe_endpoint(EndpointName=endpoint_name)\n",
    "status = resp[\"EndpointStatus\"]\n",
    "print(\"Status: \" + status)\n",
    "\n",
    "while status == \"Creating\":\n",
    "    time.sleep(60)\n",
    "    resp = sm_client.describe_endpoint(EndpointName=endpoint_name)\n",
    "    status = resp[\"EndpointStatus\"]\n",
    "    print(\"Status: \" + status)\n",
    "\n",
    "print(\"Arn: \" + resp[\"EndpointArn\"])\n",
    "print(\"Status: \" + status)"
   ]
  },
  {
   "cell_type": "code",
   "execution_count": null,
   "id": "b878d890-0cc3-43b3-b16e-3420c4db9eb0",
   "metadata": {},
   "outputs": [],
   "source": [
    "import json"
   ]
  },
  {
   "cell_type": "code",
   "execution_count": null,
   "id": "21a17e77-171e-4a0d-9e8b-0434f369770e",
   "metadata": {},
   "outputs": [],
   "source": [
    "# prompt = \"카자흐스탄과 베트남 중에서 어디가 더 여행하기 좋아?\"\n",
    "# prompt = \"어떻게 하면 부자가 될 수 있을까?\"\n",
    "prompt = \"What is the easiest way to become a rich?\"\n",
    "print(prompt)"
   ]
  },
  {
   "cell_type": "code",
   "execution_count": null,
   "id": "b40f1aa7-97b1-4f85-82c6-ce84d531eec9",
   "metadata": {},
   "outputs": [],
   "source": [
    "%%time\n",
    "prompts = [prompt]\n",
    "\n",
    "response_model = sm_runtime_client.invoke_endpoint(\n",
    "    EndpointName=endpoint_name,\n",
    "    Body=json.dumps(\n",
    "        {\n",
    "            \"input_text\": prompts,\n",
    "            \"instruction\": \"입력된 질문에 대해서 정확하고 자세한 답변을 해 주세요.\",\n",
    "            \"parameters\": {\n",
    "                \"max_new_tokens\": 512,\n",
    "                \"temperature\": 0.7,\n",
    "                \"top_p\": 0.7,\n",
    "            },\n",
    "        }\n",
    "    ),\n",
    "    ContentType=\"application/json\",\n",
    ")"
   ]
  },
  {
   "cell_type": "code",
   "execution_count": null,
   "id": "5c94c469-499d-4fe6-81c6-2de8934181e6",
   "metadata": {},
   "outputs": [],
   "source": [
    "output = str(response_model[\"Body\"].read(), \"utf-8\")\n",
    "print(output)"
   ]
  },
  {
   "cell_type": "markdown",
   "id": "eed398bf-e845-4f4a-a337-bb2b777e3a27",
   "metadata": {},
   "source": [
    "### 테스트 결과 속도면에서 많은 차이는 없지만 예상대로 g5가 좀 더 속도가 빠르다.\n",
    "\n",
    "- g5.4xlarge 사용 시 : 30 sec ~ 50 sec\n",
    "- g4dn.xlarge 사용 시 : 30 sec ~ timeout (시간이 좀 더 오래걸림)\n"
   ]
  },
  {
   "cell_type": "code",
   "execution_count": null,
   "id": "afedc900-fa21-47b7-a745-03f7b43346bd",
   "metadata": {},
   "outputs": [],
   "source": []
  }
 ],
 "metadata": {
  "kernelspec": {
   "display_name": "conda_pytorch_p310",
   "language": "python",
   "name": "conda_pytorch_p310"
  },
  "language_info": {
   "codemirror_mode": {
    "name": "ipython",
    "version": 3
   },
   "file_extension": ".py",
   "mimetype": "text/x-python",
   "name": "python",
   "nbconvert_exporter": "python",
   "pygments_lexer": "ipython3",
   "version": "3.10.10"
  }
 },
 "nbformat": 4,
 "nbformat_minor": 5
}
