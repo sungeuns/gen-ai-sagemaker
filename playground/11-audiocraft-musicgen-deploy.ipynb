{
 "cells": [
  {
   "cell_type": "markdown",
   "id": "488f570a-62e1-464c-8335-e187a1e4541b",
   "metadata": {},
   "source": [
    "## MusicGen\n",
    "\n",
    "- HF model hub : https://huggingface.co/facebook/musicgen-large]\n",
    "- DJL example (deepspeed) : https://github.com/andjsmi/musicgen/blob/main/musicgen.ipynb"
   ]
  },
  {
   "cell_type": "code",
   "execution_count": null,
   "id": "6c008442-69d3-4074-866a-c6ba9b8a7986",
   "metadata": {},
   "outputs": [],
   "source": []
  },
  {
   "cell_type": "code",
   "execution_count": null,
   "id": "e06b40e2-309c-4852-8e3a-91abe25cbaa8",
   "metadata": {
    "tags": []
   },
   "outputs": [],
   "source": [
    "import boto3\n",
    "import json\n",
    "import sagemaker\n",
    "from sagemaker.utils import name_from_base\n",
    "from sagemaker import image_uris"
   ]
  },
  {
   "cell_type": "code",
   "execution_count": null,
   "id": "b78a13e7-4993-4760-8662-89df766119e8",
   "metadata": {
    "tags": []
   },
   "outputs": [],
   "source": [
    "sagemaker_session = sagemaker.Session()\n",
    "role = sagemaker.get_execution_role()\n",
    "sm_client = sagemaker_session.sagemaker_client\n",
    "sm_runtime_client = sagemaker_session.sagemaker_runtime_client\n",
    "s3_client = boto3.client('s3')\n",
    "default_bucket = sagemaker_session.default_bucket()"
   ]
  },
  {
   "cell_type": "code",
   "execution_count": null,
   "id": "4baf9e9b-205c-4fe9-8dfc-fc7039e0ba8d",
   "metadata": {
    "tags": []
   },
   "outputs": [],
   "source": [
    "llm_engine = \"deepspeed\"\n",
    "# llm_engine = \"fastertransformer\""
   ]
  },
  {
   "cell_type": "code",
   "execution_count": null,
   "id": "100a5966-6c9a-4664-b107-5877c9a50059",
   "metadata": {
    "tags": []
   },
   "outputs": [],
   "source": [
    "framework_name = f\"djl-{llm_engine}\"\n",
    "inference_image_uri = image_uris.retrieve(\n",
    "    framework=framework_name, region=sagemaker_session.boto_session.region_name, version=\"0.22.1\"\n",
    ")\n",
    "\n",
    "print(f\"Inference container uri: {inference_image_uri}\")"
   ]
  },
  {
   "cell_type": "code",
   "execution_count": null,
   "id": "350ff394-e277-41c5-ab36-60057352fcdd",
   "metadata": {},
   "outputs": [],
   "source": []
  },
  {
   "cell_type": "code",
   "execution_count": null,
   "id": "e0e33e36-e54e-4463-8a96-f6441794bf2b",
   "metadata": {
    "tags": []
   },
   "outputs": [],
   "source": [
    "s3_target = f\"s3://{sagemaker_session.default_bucket()}/llm/musicgen-large/code/\"\n",
    "print(s3_target)"
   ]
  },
  {
   "cell_type": "code",
   "execution_count": null,
   "id": "49353c13-3a89-40aa-bbf5-f99dfb6a30e0",
   "metadata": {
    "tags": []
   },
   "outputs": [],
   "source": [
    "!rm -rf musicgen-src.tar.gz\n",
    "!tar zcvf musicgen-src.tar.gz musicgen-src --exclude \".ipynb_checkpoints\" --exclude \"__pycache__\"\n",
    "!aws s3 cp musicgen-src.tar.gz {s3_target}"
   ]
  },
  {
   "cell_type": "code",
   "execution_count": null,
   "id": "459b46e7-cf66-4ff0-b4f5-4dcdf330e7ed",
   "metadata": {
    "tags": []
   },
   "outputs": [],
   "source": [
    "model_uri = f\"{s3_target}musicgen-src.tar.gz\"\n",
    "print(model_uri)"
   ]
  },
  {
   "cell_type": "code",
   "execution_count": null,
   "id": "b150986f-1459-448d-9af8-e7bfff7193be",
   "metadata": {
    "tags": []
   },
   "outputs": [],
   "source": [
    "model_name = name_from_base(f\"musicgen-djl\")\n",
    "print(model_name)\n",
    "\n",
    "create_model_response = sm_client.create_model(\n",
    "    ModelName=model_name,\n",
    "    ExecutionRoleArn=role,\n",
    "    PrimaryContainer={\"Image\": inference_image_uri, \"ModelDataUrl\": model_uri},\n",
    ")\n",
    "model_arn = create_model_response[\"ModelArn\"]\n",
    "\n",
    "print(f\"Created Model: {model_arn}\")"
   ]
  },
  {
   "cell_type": "code",
   "execution_count": null,
   "id": "447da392-d47b-4ed7-9239-cf8dd251ff7e",
   "metadata": {
    "tags": []
   },
   "outputs": [],
   "source": [
    "default_bucket = sagemaker_session.default_bucket()\n",
    "async_output_uri = f\"s3://{default_bucket}/llm/outputs/{model_name}/\"\n",
    "print(async_output_uri)"
   ]
  },
  {
   "cell_type": "code",
   "execution_count": null,
   "id": "b8753ab6-8c3b-4f10-b530-41e6917ba174",
   "metadata": {
    "tags": []
   },
   "outputs": [],
   "source": [
    "instance_type = \"ml.g5.2xlarge\"\n",
    "# instance_type = \"ml.g5.xlarge\"\n",
    "# instance_type = \"ml.g4dn.xlarge\"\n",
    "\n",
    "endpoint_config_name = f\"{model_name}-async-config\"\n",
    "endpoint_name = f\"{model_name}-async-endpoint\"\n",
    "\n",
    "endpoint_config_response = sm_client.create_endpoint_config(\n",
    "    EndpointConfigName=endpoint_config_name,\n",
    "    ProductionVariants=[\n",
    "        {\n",
    "            \"VariantName\": \"variant1\",\n",
    "            \"ModelName\": model_name,\n",
    "            \"InstanceType\": instance_type,\n",
    "            \"InitialInstanceCount\": 1,\n",
    "            \"ContainerStartupHealthCheckTimeoutInSeconds\": 600,\n",
    "        },\n",
    "    ],\n",
    "    AsyncInferenceConfig={\n",
    "        \"OutputConfig\": {\n",
    "            \"S3OutputPath\": async_output_uri,\n",
    "        },\n",
    "        \"ClientConfig\": {\n",
    "            \"MaxConcurrentInvocationsPerInstance\": 1\n",
    "        }\n",
    "    }\n",
    ")\n",
    "print(endpoint_config_response)"
   ]
  },
  {
   "cell_type": "code",
   "execution_count": null,
   "id": "b4713497-8309-4c4a-8051-c21e600977c4",
   "metadata": {
    "tags": []
   },
   "outputs": [],
   "source": [
    "create_endpoint_response = sm_client.create_endpoint(\n",
    "    EndpointName=f\"{endpoint_name}\", EndpointConfigName=endpoint_config_name\n",
    ")\n",
    "print(f\"Created Endpoint: {create_endpoint_response['EndpointArn']}\")"
   ]
  },
  {
   "cell_type": "code",
   "execution_count": null,
   "id": "c69edb1e-39e0-488b-9353-15cfc94672ec",
   "metadata": {
    "tags": []
   },
   "outputs": [],
   "source": [
    "import time\n",
    "\n",
    "resp = sm_client.describe_endpoint(EndpointName=endpoint_name)\n",
    "status = resp[\"EndpointStatus\"]\n",
    "print(\"Status: \" + status)\n",
    "\n",
    "while status == \"Creating\":\n",
    "    time.sleep(60)\n",
    "    resp = sm_client.describe_endpoint(EndpointName=endpoint_name)\n",
    "    status = resp[\"EndpointStatus\"]\n",
    "    print(\"Status: \" + status)\n",
    "\n",
    "print(\"Arn: \" + resp[\"EndpointArn\"])\n",
    "print(\"Status: \" + status)"
   ]
  },
  {
   "cell_type": "code",
   "execution_count": null,
   "id": "21f3aada-6daf-416b-b3ec-e3dc0af8a791",
   "metadata": {
    "tags": []
   },
   "outputs": [],
   "source": [
    "import json\n",
    "import uuid"
   ]
  },
  {
   "cell_type": "code",
   "execution_count": null,
   "id": "af67b77b-9c32-4ae1-8935-e68ba8934324",
   "metadata": {
    "tags": []
   },
   "outputs": [],
   "source": [
    "# prompt = \"Sage are playing games with his pet, disney style\"\n",
    "# prompt = \"A man holds a phone with tiger, picasso style, detailed, 8k\"\n",
    "# prompt = \"beautiful, edm style, focusing music for study\"\n",
    "prompt = \"chillstep feels like lay down in the beach, good for focusing\""
   ]
  },
  {
   "cell_type": "code",
   "execution_count": null,
   "id": "29d02549-35a5-4df5-aae6-7672edd265e2",
   "metadata": {
    "tags": []
   },
   "outputs": [],
   "source": [
    "payload = {\n",
    "    \"text\": [prompt],\n",
    "    \"upload_s3_bucket\": sagemaker_session.default_bucket(),\n",
    "}"
   ]
  },
  {
   "cell_type": "code",
   "execution_count": null,
   "id": "e802bbc1-2699-4dd0-a222-b9ecfd72793b",
   "metadata": {
    "tags": []
   },
   "outputs": [],
   "source": [
    "# Upload input data onto the S3\n",
    "s3_uri = f\"llm/inputs/{model_name}/{uuid.uuid4()}.json\"\n",
    "s3_client.put_object(\n",
    "    Bucket=default_bucket,\n",
    "    Key=s3_uri,\n",
    "    Body=json.dumps(payload))\n",
    "\n",
    "input_data_uri = f\"s3://{default_bucket}/{s3_uri}\"\n",
    "input_location = input_data_uri"
   ]
  },
  {
   "cell_type": "code",
   "execution_count": null,
   "id": "025bc023-aca1-4daa-b2a0-de35accb5bea",
   "metadata": {
    "tags": []
   },
   "outputs": [],
   "source": [
    "response = sm_runtime_client.invoke_endpoint_async(\n",
    "    EndpointName=endpoint_name, \n",
    "    InputLocation=input_location,\n",
    "    ContentType=\"application/json\"\n",
    ")\n",
    "output_location = response[\"OutputLocation\"]\n",
    "print(output_location)\n",
    "output_key_uri = \"/\".join(output_location.split(\"/\")[3:])"
   ]
  },
  {
   "cell_type": "code",
   "execution_count": null,
   "id": "b2e35411-4a23-447c-9a82-372ef33f4f37",
   "metadata": {
    "tags": []
   },
   "outputs": [],
   "source": [
    "try:\n",
    "    exists = s3_client.head_object(Bucket=default_bucket, Key=output_key_uri)['ResponseMetadata']['HTTPStatusCode'] == 200\n",
    "    if exists:\n",
    "        text_obj = s3_client.get_object(Bucket=default_bucket, Key=output_key_uri)['Body'].read()\n",
    "        text = text_obj.decode('utf-8')\n",
    "        print(text)\n",
    "        # raw_output = json.loads(text)[0][\"generated_text\"]\n",
    "        # output = raw_output[len(prompt):]\n",
    "        # print(output)\n",
    "except:\n",
    "    print(\"Data is not exist yet. Wait until inference finished or check the CW log\")"
   ]
  },
  {
   "cell_type": "code",
   "execution_count": null,
   "id": "ac742e27-8e4d-4740-9d48-5561f8c1a873",
   "metadata": {
    "tags": []
   },
   "outputs": [],
   "source": [
    "!mkdir -p test-output"
   ]
  },
  {
   "cell_type": "code",
   "execution_count": null,
   "id": "ce79048e-6ba6-4c2a-952e-23e1891d02fc",
   "metadata": {
    "tags": []
   },
   "outputs": [],
   "source": [
    "import os\n",
    "import boto3\n",
    "from IPython.display import Audio\n",
    "\n",
    "s3_client = boto3.client('s3')\n",
    "\n",
    "def get_s3_file(s3_uri):\n",
    "    chunks = s3_uri.split(\"/\")\n",
    "    filename = chunks[-1]\n",
    "    bucket = chunks[2]\n",
    "    object_name = \"/\".join(chunks[3:])\n",
    "    local_path = os.path.join(\"./test-output\", filename)\n",
    "    s3_client.download_file(bucket, object_name, local_path)\n",
    "    return local_path\n"
   ]
  },
  {
   "cell_type": "code",
   "execution_count": null,
   "id": "752e9d29-1626-4ac8-beef-c88eb630ce06",
   "metadata": {
    "tags": []
   },
   "outputs": [],
   "source": [
    "local_path = get_s3_file(text)\n",
    "Audio(local_path)"
   ]
  },
  {
   "cell_type": "code",
   "execution_count": null,
   "id": "fac258a7-fad4-48a2-b4c8-e0e50c6e1193",
   "metadata": {},
   "outputs": [],
   "source": []
  },
  {
   "cell_type": "code",
   "execution_count": null,
   "id": "c0fede4a-da46-4138-8625-0de84408a91b",
   "metadata": {},
   "outputs": [],
   "source": []
  }
 ],
 "metadata": {
  "kernelspec": {
   "display_name": "conda_pytorch_p310",
   "language": "python",
   "name": "conda_pytorch_p310"
  },
  "language_info": {
   "codemirror_mode": {
    "name": "ipython",
    "version": 3
   },
   "file_extension": ".py",
   "mimetype": "text/x-python",
   "name": "python",
   "nbconvert_exporter": "python",
   "pygments_lexer": "ipython3",
   "version": "3.10.10"
  }
 },
 "nbformat": 4,
 "nbformat_minor": 5
}
