{
 "cells": [
  {
   "cell_type": "markdown",
   "id": "cc9842d9-ea37-4b29-b4e8-70e25847b35c",
   "metadata": {},
   "source": [
    "## Boto3 를 활용한 Opensearch domain 생성\n",
    "\n",
    "- Opensearch domain은 console 에서 생성하는 것도 가능하지만, AWS SDK로 CLI를 사용해서 하는 것도 가능하며 boto3 (AWS Python SDK) 를 활용하여 쉽게 생성하는 것도 가능합니다.\n",
    "- 아래는 boto3를 활용하여 생성하는 예시입니다.\n",
    "- 자세한 내용은 [공식 문서 튜토리얼](https://docs.aws.amazon.com/ko_kr/opensearch-service/latest/developerguide/osis-sdk.html) 이나 [API 문서](https://boto3.amazonaws.com/v1/documentation/api/latest/reference/services/opensearch/client/create_domain.html) 를 참고해 주세요."
   ]
  },
  {
   "cell_type": "code",
   "execution_count": null,
   "id": "3ece2412-cfa7-4031-a8ae-e9c795de176c",
   "metadata": {
    "tags": []
   },
   "outputs": [],
   "source": [
    "import boto3\n",
    "import json\n",
    "import sagemaker"
   ]
  },
  {
   "cell_type": "code",
   "execution_count": null,
   "id": "061f4ac4-5f8b-471c-af21-97beb8368f43",
   "metadata": {
    "tags": []
   },
   "outputs": [],
   "source": [
    "client = boto3.client('opensearch')"
   ]
  },
  {
   "cell_type": "code",
   "execution_count": null,
   "id": "eeb2830b-3cb9-441f-ae9c-eded849bf806",
   "metadata": {
    "tags": []
   },
   "outputs": [],
   "source": [
    "domain_name = \"rag-opensearch-03\""
   ]
  },
  {
   "cell_type": "code",
   "execution_count": null,
   "id": "837e0fa9-181f-401c-8f6b-ff02714bb730",
   "metadata": {
    "tags": []
   },
   "outputs": [],
   "source": [
    "sess = sagemaker.session.Session()\n",
    "region = sess._region_name"
   ]
  },
  {
   "cell_type": "code",
   "execution_count": null,
   "id": "66afe079-6913-4b2b-a153-30b3e01114ae",
   "metadata": {
    "tags": []
   },
   "outputs": [],
   "source": [
    "account_id = boto3.client(\"sts\").get_caller_identity()[\"Account\"]\n",
    "print(account_id)\n",
    "\n",
    "access_policy_default = {\n",
    "  \"Version\": \"2012-10-17\",\n",
    "  \"Statement\": [\n",
    "    {\n",
    "      \"Effect\": \"Allow\",\n",
    "      \"Principal\": {\n",
    "        \"AWS\": \"*\"\n",
    "      },\n",
    "      \"Action\": \"es:*\",\n",
    "      \"Resource\": f\"arn:aws:es:{region}:{account_id}:domain/{domain_name}/*\"\n",
    "    }\n",
    "  ]\n",
    "}\n",
    "\n",
    "access_policy = json.dumps(access_policy_default)"
   ]
  },
  {
   "cell_type": "code",
   "execution_count": null,
   "id": "89940673-f22f-4391-a113-9f0643a3bc0e",
   "metadata": {
    "tags": []
   },
   "outputs": [],
   "source": [
    "print(access_policy)"
   ]
  },
  {
   "cell_type": "code",
   "execution_count": null,
   "id": "6f033ead-c5e2-4b3f-a725-58a614525adf",
   "metadata": {
    "tags": []
   },
   "outputs": [],
   "source": [
    "response = client.create_domain(\n",
    "    DomainName=domain_name,\n",
    "    EngineVersion='OpenSearch_2.7',\n",
    "    ClusterConfig={\n",
    "        'InstanceType': 'r6g.large.search',\n",
    "        'InstanceCount': 1,\n",
    "        'DedicatedMasterEnabled': False,  # production에서는 True로 하는것이 좋습니다.\n",
    "    },\n",
    "    EBSOptions={\n",
    "        'EBSEnabled': True,\n",
    "        'VolumeType': 'gp3',\n",
    "        'VolumeSize': 100\n",
    "    },\n",
    "    AdvancedSecurityOptions={\n",
    "        'Enabled': True,\n",
    "        'InternalUserDatabaseEnabled': True,\n",
    "        'MasterUserOptions': {\n",
    "            'MasterUserName': 'raguser',\n",
    "            'MasterUserPassword': 'QWEqwe123!@#'\n",
    "        }\n",
    "    },\n",
    "    AccessPolicies=access_policy,\n",
    "    EncryptionAtRestOptions={\n",
    "        'Enabled': True,\n",
    "    },\n",
    "    NodeToNodeEncryptionOptions={\n",
    "        'Enabled': True\n",
    "    },\n",
    "    DomainEndpointOptions={\n",
    "        'EnforceHTTPS': True,\n",
    "    },\n",
    ")"
   ]
  },
  {
   "cell_type": "code",
   "execution_count": null,
   "id": "d57a5746-c5ac-4337-90ff-b0d41fccd007",
   "metadata": {
    "tags": []
   },
   "outputs": [],
   "source": [
    "print(response)"
   ]
  },
  {
   "cell_type": "code",
   "execution_count": null,
   "id": "a6231fb1-1fd5-4606-a7fb-084b82f4b2b6",
   "metadata": {
    "tags": []
   },
   "outputs": [],
   "source": [
    "response = client.describe_domain(\n",
    "    DomainName=domain_name\n",
    ")"
   ]
  },
  {
   "cell_type": "code",
   "execution_count": null,
   "id": "38fc7e69-921d-44d5-a7d2-0fb5b722494a",
   "metadata": {
    "tags": []
   },
   "outputs": [],
   "source": [
    "opensearch_endpoint = response['DomainStatus']['Endpoint']\n",
    "print(opensearch_endpoint)"
   ]
  },
  {
   "cell_type": "code",
   "execution_count": null,
   "id": "316e96af-7ab7-4dcf-83db-978dbd754d4d",
   "metadata": {},
   "outputs": [],
   "source": []
  },
  {
   "cell_type": "code",
   "execution_count": null,
   "id": "fbe1a612-3eec-4b1a-b44f-12aaa1befc2a",
   "metadata": {},
   "outputs": [],
   "source": []
  }
 ],
 "metadata": {
  "kernelspec": {
   "display_name": "conda_pytorch_p310",
   "language": "python",
   "name": "conda_pytorch_p310"
  },
  "language_info": {
   "codemirror_mode": {
    "name": "ipython",
    "version": 3
   },
   "file_extension": ".py",
   "mimetype": "text/x-python",
   "name": "python",
   "nbconvert_exporter": "python",
   "pygments_lexer": "ipython3",
   "version": "3.10.12"
  }
 },
 "nbformat": 4,
 "nbformat_minor": 5
}
