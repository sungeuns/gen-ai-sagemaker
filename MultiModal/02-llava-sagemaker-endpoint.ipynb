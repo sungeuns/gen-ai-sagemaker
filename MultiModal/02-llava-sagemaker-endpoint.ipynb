{
 "cells": [
  {
   "cell_type": "markdown",
   "id": "86df10b1-7fa9-4898-a492-e61abf818ad5",
   "metadata": {},
   "source": [
    "## LLAVA on SageMaker\n",
    "\n",
    "- LLAVA 모델을 sagemaker에서 async endpoint로 테스트 진행\n",
    "- DeepSpeed나 FasterTransformer 를 사용하고 있지는 않지만, DJL을 활용하도록 함.\n",
    "- S3에 모델 업로드 -> 코드 수정 -> 코드 s3에 업로드 -> SageMaker endpoint 생성 -> 확인\n"
   ]
  },
  {
   "cell_type": "code",
   "execution_count": 9,
   "id": "ba2b89a6-42d5-453d-a0da-cd04f7cb8d61",
   "metadata": {},
   "outputs": [],
   "source": [
    "%store -r"
   ]
  },
  {
   "cell_type": "code",
   "execution_count": 10,
   "id": "d75ad0e6-eaf7-4b03-adc7-9d288b5e6905",
   "metadata": {
    "tags": []
   },
   "outputs": [
    {
     "data": {
      "text/plain": [
       "'s3://sagemaker-us-west-2-723597067299/llm/llava/llava-v15/model'"
      ]
     },
     "execution_count": 10,
     "metadata": {},
     "output_type": "execute_result"
    }
   ],
   "source": [
    "model_artifact"
   ]
  },
  {
   "cell_type": "code",
   "execution_count": 11,
   "id": "f2f1d438-6a6f-40da-a483-99e0ceef3ee7",
   "metadata": {
    "tags": []
   },
   "outputs": [],
   "source": [
    "import boto3\n",
    "import sagemaker\n",
    "from sagemaker.utils import name_from_base\n",
    "from sagemaker import image_uris"
   ]
  },
  {
   "cell_type": "code",
   "execution_count": 12,
   "id": "ef006a5d-3f64-46b5-afa7-b82446ae4d9b",
   "metadata": {
    "tags": []
   },
   "outputs": [],
   "source": [
    "llm_engine = \"deepspeed\"\n",
    "# llm_engine = \"fastertransformer\""
   ]
  },
  {
   "cell_type": "code",
   "execution_count": 29,
   "id": "0dab8318-ca7e-4ea6-bc45-62a0a1f97496",
   "metadata": {
    "tags": []
   },
   "outputs": [
    {
     "name": "stdout",
     "output_type": "stream",
     "text": [
      "sagemaker.config INFO - Not applying SDK defaults from location: /etc/xdg/sagemaker/config.yaml\n",
      "sagemaker.config INFO - Not applying SDK defaults from location: /home/ec2-user/.config/sagemaker/config.yaml\n",
      "sagemaker.config INFO - Not applying SDK defaults from location: /etc/xdg/sagemaker/config.yaml\n",
      "sagemaker.config INFO - Not applying SDK defaults from location: /home/ec2-user/.config/sagemaker/config.yaml\n"
     ]
    }
   ],
   "source": [
    "sagemaker_session = sagemaker.Session()\n",
    "role = sagemaker.get_execution_role()\n",
    "sm_client = sagemaker_session.sagemaker_client\n",
    "sm_runtime_client = sagemaker_session.sagemaker_runtime_client\n",
    "s3_client = boto3.client('s3')\n",
    "default_bucket = sagemaker_session.default_bucket()"
   ]
  },
  {
   "cell_type": "code",
   "execution_count": 14,
   "id": "7bdb9057-32b1-4b9c-8da1-8972701afb0e",
   "metadata": {
    "tags": []
   },
   "outputs": [
    {
     "name": "stdout",
     "output_type": "stream",
     "text": [
      "Inference container uri: 763104351884.dkr.ecr.us-west-2.amazonaws.com/djl-inference:0.23.0-deepspeed0.9.5-cu118\n"
     ]
    }
   ],
   "source": [
    "framework_name = f\"djl-{llm_engine}\"\n",
    "inference_image_uri = image_uris.retrieve(\n",
    "    framework=framework_name, region=sagemaker_session.boto_session.region_name, version=\"0.23.0\"\n",
    ")\n",
    "\n",
    "print(f\"Inference container uri: {inference_image_uri}\")"
   ]
  },
  {
   "cell_type": "code",
   "execution_count": 15,
   "id": "7e0aa96a-28d9-4dce-8d81-9c31e856f756",
   "metadata": {
    "tags": []
   },
   "outputs": [
    {
     "name": "stdout",
     "output_type": "stream",
     "text": [
      "s3://sagemaker-us-west-2-723597067299/llm/llava/llava-v15/code/\n"
     ]
    }
   ],
   "source": [
    "s3_target = f\"s3://{sagemaker_session.default_bucket()}/llm/llava/llava-v15/code/\"\n",
    "print(s3_target)"
   ]
  },
  {
   "cell_type": "code",
   "execution_count": 16,
   "id": "d8683db7-bbf8-4012-ac7e-cac38f204616",
   "metadata": {
    "tags": []
   },
   "outputs": [
    {
     "name": "stdout",
     "output_type": "stream",
     "text": [
      "rm: cannot remove ‘llava-src.tar.gz’: No such file or directory\n",
      "llava-src/\n",
      "llava-src/model.py\n",
      "llava-src/requirements.txt\n",
      "llava-src/serving.properties\n",
      "llava-src/run_llava_local.py\n",
      "upload: ./llava-src.tar.gz to s3://sagemaker-us-west-2-723597067299/llm/llava/llava-v15/code/llava-src.tar.gz\n"
     ]
    }
   ],
   "source": [
    "!rm llava-src.tar.gz\n",
    "!tar zcvf llava-src.tar.gz llava-src --exclude \".ipynb_checkpoints\" --exclude \"__pycache__\"\n",
    "!aws s3 cp llava-src.tar.gz {s3_target}"
   ]
  },
  {
   "cell_type": "code",
   "execution_count": 17,
   "id": "e1690e5d-613f-48f6-bc52-262ad5c23ed7",
   "metadata": {
    "tags": []
   },
   "outputs": [
    {
     "name": "stdout",
     "output_type": "stream",
     "text": [
      "s3://sagemaker-us-west-2-723597067299/llm/llava/llava-v15/code/llava-src.tar.gz\n"
     ]
    }
   ],
   "source": [
    "model_uri = f\"{s3_target}llava-src.tar.gz\"\n",
    "print(model_uri)"
   ]
  },
  {
   "cell_type": "markdown",
   "id": "514933f7-7fa7-402d-8cb4-7f6fff71f1bb",
   "metadata": {},
   "source": [
    "### SageMaker endpoint 활용한 배포\n",
    "\n",
    "- Async Endpoint로 배포를 진행함."
   ]
  },
  {
   "cell_type": "code",
   "execution_count": 18,
   "id": "2093376b-7a6f-41de-bf97-b031c2f69035",
   "metadata": {
    "tags": []
   },
   "outputs": [
    {
     "name": "stdout",
     "output_type": "stream",
     "text": [
      "llava-djl-2023-10-27-09-18-01-391\n",
      "Created Model: arn:aws:sagemaker:us-west-2:723597067299:model/llava-djl-2023-10-27-09-18-01-391\n"
     ]
    }
   ],
   "source": [
    "model_name = name_from_base(f\"llava-djl\")\n",
    "print(model_name)\n",
    "\n",
    "create_model_response = sm_client.create_model(\n",
    "    ModelName=model_name,\n",
    "    ExecutionRoleArn=role,\n",
    "    PrimaryContainer={\"Image\": inference_image_uri, \"ModelDataUrl\": model_uri},\n",
    ")\n",
    "model_arn = create_model_response[\"ModelArn\"]\n",
    "\n",
    "print(f\"Created Model: {model_arn}\")"
   ]
  },
  {
   "cell_type": "code",
   "execution_count": 19,
   "id": "de613b4c-e9ea-4510-8dcf-5a8db6e2f97d",
   "metadata": {
    "tags": []
   },
   "outputs": [
    {
     "name": "stdout",
     "output_type": "stream",
     "text": [
      "s3://sagemaker-us-west-2-723597067299/llm/outputs/llava-djl-2023-10-27-09-18-01-391/\n"
     ]
    }
   ],
   "source": [
    "default_bucket = sagemaker_session.default_bucket()\n",
    "async_output_uri = f\"s3://{default_bucket}/llm/outputs/{model_name}/\"\n",
    "print(async_output_uri)"
   ]
  },
  {
   "cell_type": "code",
   "execution_count": 20,
   "id": "8d3f8ac4-4f99-4766-830f-c6fb7cf72b76",
   "metadata": {
    "tags": []
   },
   "outputs": [
    {
     "name": "stdout",
     "output_type": "stream",
     "text": [
      "{'EndpointConfigArn': 'arn:aws:sagemaker:us-west-2:723597067299:endpoint-config/llava-djl-2023-10-27-09-18-01-391-async-config', 'ResponseMetadata': {'RequestId': 'cfe2e969-71de-4617-91fc-03444fc3d180', 'HTTPStatusCode': 200, 'HTTPHeaders': {'x-amzn-requestid': 'cfe2e969-71de-4617-91fc-03444fc3d180', 'content-type': 'application/x-amz-json-1.1', 'content-length': '127', 'date': 'Fri, 27 Oct 2023 09:18:11 GMT'}, 'RetryAttempts': 0}}\n"
     ]
    }
   ],
   "source": [
    "instance_type = \"ml.g5.2xlarge\"\n",
    "# instance_type = \"ml.g5.xlarge\"\n",
    "# instance_type = \"ml.g4dn.xlarge\"\n",
    "\n",
    "endpoint_config_name = f\"{model_name}-async-config\"\n",
    "endpoint_name = f\"{model_name}-async-endpoint\"\n",
    "\n",
    "endpoint_config_response = sm_client.create_endpoint_config(\n",
    "    EndpointConfigName=endpoint_config_name,\n",
    "    ProductionVariants=[\n",
    "        {\n",
    "            \"VariantName\": \"variant1\",\n",
    "            \"ModelName\": model_name,\n",
    "            \"InstanceType\": instance_type,\n",
    "            \"InitialInstanceCount\": 1,\n",
    "            \"ContainerStartupHealthCheckTimeoutInSeconds\": 600,\n",
    "        },\n",
    "    ],\n",
    "    AsyncInferenceConfig={\n",
    "        \"OutputConfig\": {\n",
    "            \"S3OutputPath\": async_output_uri,\n",
    "        },\n",
    "        \"ClientConfig\": {\n",
    "            \"MaxConcurrentInvocationsPerInstance\": 1\n",
    "        }\n",
    "    }\n",
    ")\n",
    "print(endpoint_config_response)"
   ]
  },
  {
   "cell_type": "code",
   "execution_count": 21,
   "id": "869fdd61-4ffb-42f7-96ee-5b5aba8944c2",
   "metadata": {
    "tags": []
   },
   "outputs": [
    {
     "name": "stdout",
     "output_type": "stream",
     "text": [
      "Created Endpoint: arn:aws:sagemaker:us-west-2:723597067299:endpoint/llava-djl-2023-10-27-09-18-01-391-async-endpoint\n"
     ]
    }
   ],
   "source": [
    "create_endpoint_response = sm_client.create_endpoint(\n",
    "    EndpointName=f\"{endpoint_name}\", EndpointConfigName=endpoint_config_name\n",
    ")\n",
    "print(f\"Created Endpoint: {create_endpoint_response['EndpointArn']}\")"
   ]
  },
  {
   "cell_type": "code",
   "execution_count": 24,
   "id": "7b1dd348-9b25-4552-9dd5-95cc4cf9e98d",
   "metadata": {
    "tags": []
   },
   "outputs": [
    {
     "name": "stdout",
     "output_type": "stream",
     "text": [
      "Status: InService\n",
      "Arn: arn:aws:sagemaker:us-west-2:723597067299:endpoint/llava-djl-2023-10-27-09-18-01-391-async-endpoint\n",
      "Status: InService\n"
     ]
    }
   ],
   "source": [
    "import time\n",
    "\n",
    "resp = sm_client.describe_endpoint(EndpointName=endpoint_name)\n",
    "status = resp[\"EndpointStatus\"]\n",
    "print(\"Status: \" + status)\n",
    "\n",
    "while status == \"Creating\":\n",
    "    time.sleep(60)\n",
    "    resp = sm_client.describe_endpoint(EndpointName=endpoint_name)\n",
    "    status = resp[\"EndpointStatus\"]\n",
    "    print(\"Status: \" + status)\n",
    "\n",
    "print(\"Arn: \" + resp[\"EndpointArn\"])\n",
    "print(\"Status: \" + status)"
   ]
  },
  {
   "cell_type": "code",
   "execution_count": null,
   "id": "4151ad72-95ea-4214-889b-8b340af21fe6",
   "metadata": {},
   "outputs": [],
   "source": []
  },
  {
   "cell_type": "code",
   "execution_count": 30,
   "id": "dce95cdb-0b10-4b12-b3c4-780bded85306",
   "metadata": {},
   "outputs": [],
   "source": [
    "import json\n",
    "import uuid"
   ]
  },
  {
   "cell_type": "code",
   "execution_count": 37,
   "id": "9a964f2e-3ee8-4a75-8f21-bdedc5e8afeb",
   "metadata": {},
   "outputs": [],
   "source": [
    "prompt = \"where is the 25 exist in the matrix table?\""
   ]
  },
  {
   "cell_type": "code",
   "execution_count": 38,
   "id": "80b64505-8ba4-424c-96f8-f77cb16f2676",
   "metadata": {},
   "outputs": [],
   "source": [
    "payload = {\n",
    "    \"text\": [prompt],\n",
    "    \"input_image_s3\": \"s3://sagemaker-us-west-2-723597067299/llm/llava/input-samples/test_01.jpg\",\n",
    "}"
   ]
  },
  {
   "cell_type": "code",
   "execution_count": 39,
   "id": "eb25a5c2-1724-4a6d-90a5-cb2ecbb31483",
   "metadata": {},
   "outputs": [],
   "source": [
    "# Upload input data onto the S3\n",
    "s3_uri = f\"llm/inputs/{model_name}/{uuid.uuid4()}.json\"\n",
    "s3_client.put_object(\n",
    "    Bucket=default_bucket,\n",
    "    Key=s3_uri,\n",
    "    Body=json.dumps(payload))\n",
    "\n",
    "input_data_uri = f\"s3://{default_bucket}/{s3_uri}\"\n",
    "input_location = input_data_uri"
   ]
  },
  {
   "cell_type": "code",
   "execution_count": 40,
   "id": "cb0716d7-b0f6-4bab-8469-ccb3aee6bcfe",
   "metadata": {},
   "outputs": [
    {
     "name": "stdout",
     "output_type": "stream",
     "text": [
      "s3://sagemaker-us-west-2-723597067299/llm/outputs/llava-djl-2023-10-27-09-18-01-391/4eb045e7-5999-4aff-93d4-5d6d390ee843.out\n"
     ]
    }
   ],
   "source": [
    "response = sm_runtime_client.invoke_endpoint_async(\n",
    "    EndpointName=endpoint_name, \n",
    "    InputLocation=input_location,\n",
    "    ContentType=\"application/json\"\n",
    ")\n",
    "output_location = response[\"OutputLocation\"]\n",
    "print(output_location)\n",
    "output_key_uri = \"/\".join(output_location.split(\"/\")[3:])"
   ]
  },
  {
   "cell_type": "code",
   "execution_count": 43,
   "id": "1863840f-4e34-4761-ae62-b40c892c89d4",
   "metadata": {},
   "outputs": [
    {
     "name": "stdout",
     "output_type": "stream",
     "text": [
      "The 25 exists in the matrix table in the middle row, specifically in the third column.</s>\n"
     ]
    }
   ],
   "source": [
    "try:\n",
    "    exists = s3_client.head_object(Bucket=default_bucket, Key=output_key_uri)['ResponseMetadata']['HTTPStatusCode'] == 200\n",
    "    if exists:\n",
    "        text_obj = s3_client.get_object(Bucket=default_bucket, Key=output_key_uri)['Body'].read()\n",
    "        text = text_obj.decode('utf-8')\n",
    "        print(text)\n",
    "except:\n",
    "    print(\"Data is not exist yet. Wait until inference finished or check the CW log\")"
   ]
  },
  {
   "cell_type": "code",
   "execution_count": 44,
   "id": "de1a9187-3fbf-45be-9025-6e09ee04c2b1",
   "metadata": {},
   "outputs": [
    {
     "name": "stdout",
     "output_type": "stream",
     "text": [
      "The 25 exists in the matrix table in the middle row, specifically in the third column.\n"
     ]
    }
   ],
   "source": [
    "output = text.split(\"</s>\")[0]\n",
    "print(output)"
   ]
  },
  {
   "cell_type": "code",
   "execution_count": null,
   "id": "9c7c8828-15b0-4332-a62c-c8baf5ac8c8c",
   "metadata": {},
   "outputs": [],
   "source": []
  }
 ],
 "metadata": {
  "kernelspec": {
   "display_name": "conda_pytorch_p310",
   "language": "python",
   "name": "conda_pytorch_p310"
  },
  "language_info": {
   "codemirror_mode": {
    "name": "ipython",
    "version": 3
   },
   "file_extension": ".py",
   "mimetype": "text/x-python",
   "name": "python",
   "nbconvert_exporter": "python",
   "pygments_lexer": "ipython3",
   "version": "3.10.12"
  }
 },
 "nbformat": 4,
 "nbformat_minor": 5
}
