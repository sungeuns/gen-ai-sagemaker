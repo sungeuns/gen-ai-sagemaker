{
 "cells": [
  {
   "cell_type": "markdown",
   "id": "0b200a4d-6c4e-4957-85bb-63e378f96a0f",
   "metadata": {},
   "source": [
    "## Stable Diffusion Model download with local mode testing\n",
    "\n",
    "Stable Diffusion on HuggingFace\n",
    "  - 2.1 version : https://huggingface.co/stabilityai/stable-diffusion-2-1\n",
    "  - 2.1 unclip version : https://huggingface.co/stabilityai/stable-diffusion-2-1-unclip\n",
    "  \n",
    "  \n",
    "  \n",
    "### Tested version\n",
    "\n",
    "Tested on `Python 3.9.15`\n",
    "\n",
    "```\n",
    "sagemaker: 2.146.0\n",
    "transformers: 4.29.2\n",
    "torch: 1.13.1\n",
    "scipy: 1.8.1\n",
    "safetensors: 0.3.1\n",
    "diffusers: 0.16.1\n",
    "```"
   ]
  },
  {
   "cell_type": "code",
   "execution_count": null,
   "id": "86ef6d6e-42b7-4900-acc7-102fa94eb82c",
   "metadata": {
    "tags": []
   },
   "outputs": [],
   "source": [
    "# To test Stable Diffusion as a local mode\n",
    "!pip install -q diffusers transformers accelerate scipy safetensors"
   ]
  },
  {
   "cell_type": "code",
   "execution_count": null,
   "id": "3c943fd0-183a-45c2-868a-d54c17a9a758",
   "metadata": {
    "tags": []
   },
   "outputs": [],
   "source": [
    "import sagemaker\n",
    "import transformers\n",
    "import torch\n",
    "import accelerate\n",
    "print(sagemaker.__version__)\n",
    "print(transformers.__version__)\n",
    "print(torch.__version__)\n",
    "print(accelerate.__version__)"
   ]
  },
  {
   "cell_type": "code",
   "execution_count": null,
   "id": "fa7e8a5a-6fdb-42d2-b8b8-4166abf7d11e",
   "metadata": {
    "tags": []
   },
   "outputs": [],
   "source": [
    "sagemaker_session = sagemaker.Session()"
   ]
  },
  {
   "cell_type": "code",
   "execution_count": null,
   "id": "1d8afd8f-b206-4106-a37d-31f81557beed",
   "metadata": {
    "tags": []
   },
   "outputs": [],
   "source": [
    "from huggingface_hub import snapshot_download\n",
    "from pathlib import Path\n",
    "import os\n",
    "\n",
    "local_model_path = Path(\"./pretrained-models\")\n",
    "local_model_path.mkdir(exist_ok=True)\n",
    "\n",
    "unclip_model_name = \"stabilityai/stable-diffusion-2-1-unclip\"\n",
    "sd21_unclip_model_path = snapshot_download(\n",
    "    repo_id=unclip_model_name,\n",
    "    cache_dir=local_model_path,\n",
    ")"
   ]
  },
  {
   "cell_type": "code",
   "execution_count": null,
   "id": "2e14c0e0-c31b-4af6-825d-d32a379203ea",
   "metadata": {
    "tags": []
   },
   "outputs": [],
   "source": [
    "basic_model_name = \"stabilityai/stable-diffusion-2-1\"\n",
    "sd21_basic_model_path = snapshot_download(\n",
    "    repo_id=basic_model_name,\n",
    "    cache_dir=local_model_path\n",
    ")"
   ]
  },
  {
   "cell_type": "code",
   "execution_count": null,
   "id": "2558d8ea-c4ea-4b43-b2a2-de445c474cf4",
   "metadata": {
    "tags": []
   },
   "outputs": [],
   "source": [
    "sd20_model_name = \"stabilityai/stable-diffusion-2\"\n",
    "sd20_basic_model_path = snapshot_download(\n",
    "    repo_id=sd20_model_name,\n",
    "    cache_dir=local_model_path\n",
    ")"
   ]
  },
  {
   "cell_type": "code",
   "execution_count": null,
   "id": "d2261d01-86a0-4c49-8b01-a8805c8e9e50",
   "metadata": {
    "tags": []
   },
   "outputs": [],
   "source": [
    "print(f\"Basic Model downloaded: {sd21_basic_model_path}\")\n",
    "print(f\"Unclip Model downloaded: {sd21_unclip_model_path}\")\n",
    "print(f\"SD20 model downloaded: {sd20_basic_model_path}\")"
   ]
  },
  {
   "cell_type": "code",
   "execution_count": null,
   "id": "857b1ee8-a931-4fae-9a6c-5a69cbc1b621",
   "metadata": {
    "tags": []
   },
   "outputs": [],
   "source": [
    "s3_model_prefix = \"llm/stable-diffusion/model\"  # folder where model checkpoint will go"
   ]
  },
  {
   "cell_type": "code",
   "execution_count": null,
   "id": "b888e8ed-8304-4330-b52b-b3fc971bf799",
   "metadata": {
    "tags": []
   },
   "outputs": [],
   "source": [
    "basic_model_s3 = f\"{s3_model_prefix}/sd21\"\n",
    "unclip_model_s3 = f\"{s3_model_prefix}/sd21-unclip\"\n",
    "s20_model_s3 = f\"{s3_model_prefix}/sd20\""
   ]
  },
  {
   "cell_type": "code",
   "execution_count": null,
   "id": "5d6bc850-039e-4791-b3a1-5be75a0884f2",
   "metadata": {
    "tags": []
   },
   "outputs": [],
   "source": [
    "from diffusers import StableDiffusionPipeline, DPMSolverMultistepScheduler\n",
    "\n",
    "# model_path = sd21_basic_model_path\n",
    "model_path = sd20_basic_model_path\n",
    "\n",
    "# Use the DPMSolverMultistepScheduler (DPM-Solver++) scheduler here instead\n",
    "pipe = StableDiffusionPipeline.from_pretrained(model_path, torch_dtype=torch.float16)\n",
    "pipe.scheduler = DPMSolverMultistepScheduler.from_config(pipe.scheduler.config)\n",
    "pipe = pipe.to(\"cuda\")\n"
   ]
  },
  {
   "cell_type": "code",
   "execution_count": null,
   "id": "cbffce92-769c-45bb-80b0-c0b0bab61fad",
   "metadata": {
    "tags": []
   },
   "outputs": [],
   "source": [
    "import os\n",
    "import uuid\n",
    "from IPython.display import Image\n",
    "\n",
    "def generate_image(prompt):\n",
    "    image = pipe(prompt).images[0]\n",
    "    local_output = Path(\"./test-output\")\n",
    "    local_output.mkdir(exist_ok=True)\n",
    "    img_path = os.path.join(local_output, str(uuid.uuid4()) + \".png\")\n",
    "    image.save(img_path)\n",
    "    display(Image(filename=img_path))"
   ]
  },
  {
   "cell_type": "code",
   "execution_count": null,
   "id": "9e54e675-e2dd-4b9b-b986-e77839c8d3fc",
   "metadata": {
    "tags": []
   },
   "outputs": [],
   "source": [
    "prompt = \"A painting which makes me smile, detail and fine art style\"\n",
    "generate_image(prompt)"
   ]
  },
  {
   "cell_type": "markdown",
   "id": "b25fc55d-8a1e-4545-a109-4385bb0e21c9",
   "metadata": {},
   "source": [
    "### Upload model to s3\n",
    "\n",
    "- If models works well on local mode, upload model files to s3\n",
    "- It will be used for deployment. Directly downloading models from HF model hub can be slow and not for stable for production service, I will use S3 for model registry.\n",
    "\n",
    "### To reduce data upload/download speed\n",
    "\n",
    "- StableDiffusion provide two type of models (ema, nonema) for the normal checkpoint and safetensor format. To reduce data upload time and download time for deployment, just choose what you need.\n"
   ]
  },
  {
   "cell_type": "code",
   "execution_count": null,
   "id": "2c462ba0-917d-4ccc-8ff0-121d52b1339a",
   "metadata": {},
   "outputs": [],
   "source": [
    "sd21_model_artifact = sagemaker_session.upload_data(path=sd21_basic_model_path, key_prefix=basic_model_s3)\n",
    "print(sd21_model_artifact)"
   ]
  },
  {
   "cell_type": "code",
   "execution_count": null,
   "id": "de3afc2b-bd1a-4efd-a723-06bab439fbb9",
   "metadata": {},
   "outputs": [],
   "source": [
    "sd21_unclip_model_artifact = sagemaker_session.upload_data(path=sd21_unclip_model_path, key_prefix=unclip_model_s3)\n",
    "print(sd21_unclip_model_artifact)"
   ]
  },
  {
   "cell_type": "code",
   "execution_count": null,
   "id": "abb76fe9-0edb-40b8-a159-d29f2a69333d",
   "metadata": {
    "tags": []
   },
   "outputs": [],
   "source": [
    "sd20_model_artifact = sagemaker_session.upload_data(path=sd20_basic_model_path, key_prefix=s20_model_s3)\n",
    "print(sd20_model_artifact)"
   ]
  },
  {
   "cell_type": "code",
   "execution_count": null,
   "id": "5160c337-1f1c-4e49-bcf4-daeb082f81ff",
   "metadata": {
    "tags": []
   },
   "outputs": [],
   "source": [
    "%store sd21_basic_model_path\n",
    "%store sd21_unclip_model_path\n",
    "%store sd21_model_artifact\n",
    "%store sd21_unclip_model_artifact"
   ]
  },
  {
   "cell_type": "code",
   "execution_count": null,
   "id": "b953d226-4b29-4c21-b62d-a16a32d61a68",
   "metadata": {},
   "outputs": [],
   "source": [
    "%store sd20_model_artifact\n",
    "%store sd20_basic_model_path"
   ]
  },
  {
   "cell_type": "code",
   "execution_count": null,
   "id": "e6675142-e8fc-490a-84c8-5c03989e7b6b",
   "metadata": {},
   "outputs": [],
   "source": []
  }
 ],
 "metadata": {
  "kernelspec": {
   "display_name": "conda_pytorch_p310",
   "language": "python",
   "name": "conda_pytorch_p310"
  },
  "language_info": {
   "codemirror_mode": {
    "name": "ipython",
    "version": 3
   },
   "file_extension": ".py",
   "mimetype": "text/x-python",
   "name": "python",
   "nbconvert_exporter": "python",
   "pygments_lexer": "ipython3",
   "version": "3.10.10"
  }
 },
 "nbformat": 4,
 "nbformat_minor": 5
}
