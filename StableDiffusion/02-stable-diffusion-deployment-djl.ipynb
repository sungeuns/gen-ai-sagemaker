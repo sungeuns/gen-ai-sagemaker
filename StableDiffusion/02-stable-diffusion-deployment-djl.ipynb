{
 "cells": [
  {
   "cell_type": "markdown",
   "id": "ca0532b8-b9a1-43fc-8ea8-e4e409c73de9",
   "metadata": {},
   "source": [
    "## Stable Diffusion deployment\n",
    "\n",
    "How to use DJL\n",
    "- DJL container list : https://docs.aws.amazon.com/sagemaker/latest/dg/large-model-inference-dlc.html\n",
    "- DJL config list : https://docs.aws.amazon.com/sagemaker/latest/dg/large-model-inference-configuration.html\n",
    "- DJL tutorial : https://docs.aws.amazon.com/sagemaker/latest/dg/large-model-inference-tutorials.html\n",
    "- DJL default Stable diffusion infernece script : https://github.com/deepjavalibrary/djl-serving/blob/master/engines/python/setup/djl_python/stable-diffusion.py\n",
    "\n",
    "### Additional optimization\n",
    "Stable diffusion w/ DeepSpeed (1.4)\n",
    "- https://www.philschmid.de/stable-diffusion-deepspeed-inference\n",
    "\n",
    "Few ways to make it faster (It uses not diffusers)\n",
    "- https://lightning.ai/pages/community/serve-stable-diffusion-three-times-faster/\n",
    "\n",
    "\n",
    "### Container that used for deployment\n",
    "- deepspeed: `763104351884.dkr.ecr.us-west-2.amazonaws.com/djl-inference:0.21.0-deepspeed0.8.0-cu117`\n",
    "- fastertransformer: `763104351884.dkr.ecr.us-west-2.amazonaws.com/djl-inference:0.21.0-fastertransformer5.3.0-cu117`"
   ]
  },
  {
   "cell_type": "code",
   "execution_count": null,
   "id": "75cc5871-55fb-4978-8c5a-201fffcd7720",
   "metadata": {
    "tags": []
   },
   "outputs": [],
   "source": [
    "%store -r"
   ]
  },
  {
   "cell_type": "code",
   "execution_count": null,
   "id": "fc8cb273-ae40-473e-b038-a2fe54eacfc4",
   "metadata": {
    "tags": []
   },
   "outputs": [],
   "source": [
    "# sd20_basic_model_path\n",
    "sd21_basic_model_path"
   ]
  },
  {
   "cell_type": "code",
   "execution_count": null,
   "id": "3cbc5d9f-dbe3-409e-acf6-8dc3423bda23",
   "metadata": {
    "tags": []
   },
   "outputs": [],
   "source": [
    "# sd20_model_artifact\n",
    "sd21_model_artifact"
   ]
  },
  {
   "cell_type": "code",
   "execution_count": null,
   "id": "38088856-84aa-44d8-a85a-a27d63186e3d",
   "metadata": {
    "tags": []
   },
   "outputs": [],
   "source": [
    "import boto3\n",
    "import sagemaker\n",
    "from sagemaker.utils import name_from_base\n",
    "from sagemaker import image_uris"
   ]
  },
  {
   "cell_type": "code",
   "execution_count": null,
   "id": "65b769ad-3d32-4c2e-a2d1-411f8a0885f7",
   "metadata": {
    "tags": []
   },
   "outputs": [],
   "source": [
    "llm_engine = \"deepspeed\"\n",
    "# llm_engine = \"fastertransformer\""
   ]
  },
  {
   "cell_type": "code",
   "execution_count": null,
   "id": "ea01e301-9fd3-4ee7-86b5-7bd574d84047",
   "metadata": {
    "tags": []
   },
   "outputs": [],
   "source": [
    "sagemaker_session = sagemaker.Session()\n",
    "role = sagemaker.get_execution_role()\n",
    "sm_client = sagemaker_session.sagemaker_client\n",
    "sm_runtime_client = sagemaker_session.sagemaker_runtime_client"
   ]
  },
  {
   "cell_type": "code",
   "execution_count": null,
   "id": "548ce617-0807-4adf-a635-96271d404d85",
   "metadata": {
    "tags": []
   },
   "outputs": [],
   "source": [
    "framework_name = f\"djl-{llm_engine}\"\n",
    "inference_image_uri = image_uris.retrieve(\n",
    "    framework=framework_name, region=sagemaker_session.boto_session.region_name, version=\"0.21.0\"\n",
    ")\n",
    "\n",
    "print(f\"Inference container uri: {inference_image_uri}\")"
   ]
  },
  {
   "cell_type": "code",
   "execution_count": null,
   "id": "4cfc56f8-aa55-4c6b-9506-b581c9efceb2",
   "metadata": {
    "tags": []
   },
   "outputs": [],
   "source": [
    "s3_target = f\"s3://{sagemaker_session.default_bucket()}/llm/stable-diffusion/code/\"\n",
    "print(s3_target)"
   ]
  },
  {
   "cell_type": "code",
   "execution_count": null,
   "id": "9512c89f-4bf2-4930-a909-e2d22a0ac569",
   "metadata": {
    "tags": []
   },
   "outputs": [],
   "source": [
    "!rm -rf sd21-src.tar.gz\n",
    "!tar zcvf sd21-src.tar.gz sd21-src --exclude \".ipynb_checkpoints\" --exclude \"__pycache__\"\n",
    "!aws s3 cp sd21-src.tar.gz {s3_target}"
   ]
  },
  {
   "cell_type": "code",
   "execution_count": null,
   "id": "8ee0f192-1284-49d6-a382-9db51d7a7408",
   "metadata": {
    "tags": []
   },
   "outputs": [],
   "source": [
    "model_uri = f\"{s3_target}sd21-src.tar.gz\"\n",
    "print(model_uri)"
   ]
  },
  {
   "cell_type": "code",
   "execution_count": null,
   "id": "badc0806-a928-4822-a73e-ca0329f1ccaa",
   "metadata": {
    "tags": []
   },
   "outputs": [],
   "source": [
    "# model_name = name_from_base(f\"sd20-djl\")\n",
    "model_name = name_from_base(f\"sd21-djl\")\n",
    "print(model_name)\n",
    "\n",
    "create_model_response = sm_client.create_model(\n",
    "    ModelName=model_name,\n",
    "    ExecutionRoleArn=role,\n",
    "    PrimaryContainer={\"Image\": inference_image_uri, \"ModelDataUrl\": model_uri},\n",
    ")\n",
    "model_arn = create_model_response[\"ModelArn\"]\n",
    "\n",
    "print(f\"Created Model: {model_arn}\")"
   ]
  },
  {
   "cell_type": "code",
   "execution_count": null,
   "id": "cbb41dae-22d2-4a7e-a3d1-89dee311a2fd",
   "metadata": {
    "tags": []
   },
   "outputs": [],
   "source": [
    "# instance_type = \"ml.g5.2xlarge\"\n",
    "# instance_type = \"ml.g5.xlarge\"\n",
    "instance_type = \"ml.g4dn.xlarge\"\n",
    "\n",
    "endpoint_config_name = f\"{model_name}-config\"\n",
    "endpoint_name = f\"{model_name}-endpoint\"\n",
    "\n",
    "endpoint_config_response = sm_client.create_endpoint_config(\n",
    "    EndpointConfigName=endpoint_config_name,\n",
    "    ProductionVariants=[\n",
    "        {\n",
    "            \"VariantName\": \"variant1\",\n",
    "            \"ModelName\": model_name,\n",
    "            \"InstanceType\": instance_type,\n",
    "            \"InitialInstanceCount\": 1,\n",
    "            \"ContainerStartupHealthCheckTimeoutInSeconds\": 600,\n",
    "        },\n",
    "    ],\n",
    ")\n",
    "print(endpoint_config_response)"
   ]
  },
  {
   "cell_type": "code",
   "execution_count": null,
   "id": "2743cde3-a200-4c10-9f1b-1bb5684fe264",
   "metadata": {
    "tags": []
   },
   "outputs": [],
   "source": [
    "create_endpoint_response = sm_client.create_endpoint(\n",
    "    EndpointName=f\"{endpoint_name}\", EndpointConfigName=endpoint_config_name\n",
    ")\n",
    "print(f\"Created Endpoint: {create_endpoint_response['EndpointArn']}\")"
   ]
  },
  {
   "cell_type": "code",
   "execution_count": null,
   "id": "706da8b0-c528-4afd-b3e3-480660877a6d",
   "metadata": {
    "tags": []
   },
   "outputs": [],
   "source": [
    "import time\n",
    "\n",
    "resp = sm_client.describe_endpoint(EndpointName=endpoint_name)\n",
    "status = resp[\"EndpointStatus\"]\n",
    "print(\"Status: \" + status)\n",
    "\n",
    "while status == \"Creating\":\n",
    "    time.sleep(60)\n",
    "    resp = sm_client.describe_endpoint(EndpointName=endpoint_name)\n",
    "    status = resp[\"EndpointStatus\"]\n",
    "    print(\"Status: \" + status)\n",
    "\n",
    "print(\"Arn: \" + resp[\"EndpointArn\"])\n",
    "print(\"Status: \" + status)"
   ]
  },
  {
   "cell_type": "code",
   "execution_count": null,
   "id": "3c576d21-bc3d-481e-903a-c64b185e9126",
   "metadata": {},
   "outputs": [],
   "source": []
  },
  {
   "cell_type": "code",
   "execution_count": null,
   "id": "57f0bb31-e9b6-40c2-8df9-ec829c072595",
   "metadata": {
    "tags": []
   },
   "outputs": [],
   "source": [
    "import json"
   ]
  },
  {
   "cell_type": "code",
   "execution_count": null,
   "id": "225075bc-43b2-484b-b625-fe7c045a3c0a",
   "metadata": {
    "tags": []
   },
   "outputs": [],
   "source": [
    "# prompt = \"Sage are playing games with his pet, disney style\"\n",
    "prompt = \"John snow from game of throne, disney style\""
   ]
  },
  {
   "cell_type": "code",
   "execution_count": null,
   "id": "32da9f38-8cdd-43d8-a62b-c767c9d72296",
   "metadata": {
    "tags": []
   },
   "outputs": [],
   "source": [
    "%%time\n",
    "prompts = [prompt]\n",
    "response_model = sm_runtime_client.invoke_endpoint(\n",
    "    EndpointName=endpoint_name,\n",
    "    Body=json.dumps(\n",
    "        {\n",
    "            \"text\": prompts,\n",
    "            \"upload_s3_bucket\": sagemaker_session.default_bucket(),\n",
    "            \"prompt\": prompt\n",
    "        }\n",
    "    ),\n",
    "    ContentType=\"application/json\",\n",
    ")"
   ]
  },
  {
   "cell_type": "code",
   "execution_count": null,
   "id": "f419951c-8df9-4b59-8f97-f4201b928be9",
   "metadata": {
    "tags": []
   },
   "outputs": [],
   "source": [
    "# # Direct return of image\n",
    "# import io\n",
    "# from PIL import Image\n",
    "# img_output = response_model[\"Body\"].read()\n",
    "# data_io = io.BytesIO(img_output)\n",
    "# img = Image.open(data_io)\n",
    "# img"
   ]
  },
  {
   "cell_type": "code",
   "execution_count": null,
   "id": "be63a0ce-5646-4fd2-acfe-262c660302b8",
   "metadata": {
    "tags": []
   },
   "outputs": [],
   "source": []
  },
  {
   "cell_type": "code",
   "execution_count": null,
   "id": "bccda1aa-4e1a-4c84-9210-2911aae14e2c",
   "metadata": {
    "tags": []
   },
   "outputs": [],
   "source": [
    "output = str(response_model[\"Body\"].read(), \"utf-8\")"
   ]
  },
  {
   "cell_type": "code",
   "execution_count": null,
   "id": "9762b01b-8a6c-46cc-97bb-7c4254115db5",
   "metadata": {
    "tags": []
   },
   "outputs": [],
   "source": [
    "output"
   ]
  },
  {
   "cell_type": "code",
   "execution_count": null,
   "id": "c33528f1-597e-4fad-b411-8210da9b6166",
   "metadata": {
    "tags": []
   },
   "outputs": [],
   "source": [
    "import os\n",
    "import boto3\n",
    "from IPython.display import Image\n",
    "\n",
    "s3_client = boto3.client('s3')\n",
    "\n",
    "def view_s3_file(s3_uri):\n",
    "    chunks = s3_uri.split(\"/\")\n",
    "    filename = chunks[-1]\n",
    "    bucket = chunks[2]\n",
    "    object_name = \"/\".join(chunks[3:])\n",
    "    local_path = os.path.join(\"./test-output\", filename)\n",
    "    s3_client.download_file(bucket, object_name, local_path)\n",
    "    display(Image(filename=local_path))\n",
    "    \n"
   ]
  },
  {
   "cell_type": "code",
   "execution_count": null,
   "id": "6311332a-58a2-48b7-b235-ae0ead051513",
   "metadata": {
    "tags": []
   },
   "outputs": [],
   "source": [
    "view_s3_file(output)"
   ]
  },
  {
   "cell_type": "code",
   "execution_count": null,
   "id": "a6ccb72d-da6d-4993-83ec-43ca9d5010f4",
   "metadata": {},
   "outputs": [],
   "source": []
  },
  {
   "cell_type": "code",
   "execution_count": null,
   "id": "d336fa7a-d332-4286-b9af-ec9866b73adf",
   "metadata": {},
   "outputs": [],
   "source": []
  },
  {
   "cell_type": "code",
   "execution_count": null,
   "id": "75262aeb-6f1e-4180-a570-6793e177997e",
   "metadata": {},
   "outputs": [],
   "source": []
  }
 ],
 "metadata": {
  "kernelspec": {
   "display_name": "conda_pytorch_p310",
   "language": "python",
   "name": "conda_pytorch_p310"
  },
  "language_info": {
   "codemirror_mode": {
    "name": "ipython",
    "version": 3
   },
   "file_extension": ".py",
   "mimetype": "text/x-python",
   "name": "python",
   "nbconvert_exporter": "python",
   "pygments_lexer": "ipython3",
   "version": "3.10.10"
  }
 },
 "nbformat": 4,
 "nbformat_minor": 5
}
