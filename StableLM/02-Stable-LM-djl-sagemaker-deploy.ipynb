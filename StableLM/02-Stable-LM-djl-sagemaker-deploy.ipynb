{
 "cells": [
  {
   "cell_type": "markdown",
   "id": "49a856fb-5f00-418f-947e-a42918a9411e",
   "metadata": {},
   "source": [
    "## Deploy LLM using DJL\n",
    "\n",
    "- Reference doc : https://docs.aws.amazon.com/sagemaker/latest/dg/realtime-endpoints-large-model-tutorials-fastertransformer.html\n",
    "- Reference blog : https://aws.amazon.com/ko/blogs/machine-learning/deploy-large-models-at-high-performance-using-fastertransformer-on-amazon-sagemaker/\n",
    "- DJL container list : https://docs.aws.amazon.com/sagemaker/latest/dg/realtime-endpoints-large-model-dlc.html\n",
    "- Code example : https://github.com/aws/amazon-sagemaker-examples/blob/main/inference/generativeai/llm-workshop/lab4-openchatkit/deploy_openchatkit_on_sagemaker_deepspeed.ipynb\n",
    "\n",
    "\n",
    "### Why use DJL\n",
    "\n",
    "- DJL is effective for deploying LLM. Normal inference object such as `PyTorchModel` or `HuggingFaceModel` aren't good to deploy LLM."
   ]
  },
  {
   "cell_type": "code",
   "execution_count": null,
   "id": "b8ca0136-707f-4e0f-a32e-acbd8d39efb4",
   "metadata": {
    "tags": []
   },
   "outputs": [],
   "source": [
    "%store -r"
   ]
  },
  {
   "cell_type": "code",
   "execution_count": null,
   "id": "c7d2ffdd-3cda-4fef-a9e3-53d3800c2b69",
   "metadata": {
    "tags": []
   },
   "outputs": [],
   "source": [
    "# model_download_path"
   ]
  },
  {
   "cell_type": "code",
   "execution_count": null,
   "id": "7f10e4c5-4e50-49d1-a6f2-77afe28d4bac",
   "metadata": {
    "tags": []
   },
   "outputs": [],
   "source": [
    "stablelm_model_artifact = \"s3://sagemaker-us-west-2-723597067299/llm/stablelm/model/base-7b\""
   ]
  },
  {
   "cell_type": "code",
   "execution_count": null,
   "id": "503cd029-de9e-4002-9148-6fb0fcc79d75",
   "metadata": {
    "tags": []
   },
   "outputs": [],
   "source": [
    "import boto3\n",
    "import sagemaker\n",
    "from sagemaker.utils import name_from_base\n",
    "from sagemaker import image_uris"
   ]
  },
  {
   "cell_type": "code",
   "execution_count": null,
   "id": "c705c200-32ad-4067-99ad-b93eb900088d",
   "metadata": {
    "tags": []
   },
   "outputs": [],
   "source": [
    "sagemaker_session = sagemaker.Session()\n",
    "role = sagemaker.get_execution_role()\n",
    "sm_client = sagemaker_session.sagemaker_client\n",
    "sm_runtime_client = sagemaker_session.sagemaker_runtime_client"
   ]
  },
  {
   "cell_type": "code",
   "execution_count": null,
   "id": "2429532c-92e9-4667-b26f-fa9e1620eecd",
   "metadata": {
    "tags": []
   },
   "outputs": [],
   "source": [
    "llm_engine = \"deepspeed\"\n",
    "# llm_engine = \"fastertransformer\""
   ]
  },
  {
   "cell_type": "code",
   "execution_count": null,
   "id": "dd75fcdc-8dd3-46d5-91e7-44ee08b080a1",
   "metadata": {
    "tags": []
   },
   "outputs": [],
   "source": [
    "framework_name = f\"djl-{llm_engine}\"\n",
    "inference_image_uri = image_uris.retrieve(\n",
    "    framework=framework_name, region=sagemaker_session.boto_session.region_name, version=\"0.21.0\"\n",
    ")\n",
    "\n",
    "print(f\"Inference container uri: {inference_image_uri}\")"
   ]
  },
  {
   "cell_type": "code",
   "execution_count": null,
   "id": "7ad2917b-d708-4ff7-ad0b-3c20c45e4ab3",
   "metadata": {
    "tags": []
   },
   "outputs": [],
   "source": [
    "src_dir_name = f\"djl-{llm_engine}-src\""
   ]
  },
  {
   "cell_type": "code",
   "execution_count": null,
   "id": "9925796d-b37c-4659-9686-bef8b6f08f78",
   "metadata": {
    "tags": []
   },
   "outputs": [],
   "source": [
    "s3_target = f\"s3://{sagemaker_session.default_bucket()}/llm/stable-lm/code/\""
   ]
  },
  {
   "cell_type": "code",
   "execution_count": null,
   "id": "0d58d0b7-6845-47d6-a881-394ac202ddc2",
   "metadata": {
    "tags": []
   },
   "outputs": [],
   "source": [
    "!rm -rf {src_dir_name}.tar.gz\n",
    "!tar zcvf {src_dir_name}.tar.gz {src_dir_name} --exclude \".ipynb_checkpoints\" --exclude \"__pycache__\"\n",
    "!aws s3 cp {src_dir_name}.tar.gz {s3_target}"
   ]
  },
  {
   "cell_type": "code",
   "execution_count": null,
   "id": "0841a46c-8fe3-4645-97d8-b173a4842db9",
   "metadata": {
    "tags": []
   },
   "outputs": [],
   "source": [
    "model_uri = f\"{s3_target}{src_dir_name}.tar.gz\"\n",
    "print(model_uri)"
   ]
  },
  {
   "cell_type": "code",
   "execution_count": null,
   "id": "ffaba395-ce9f-42ab-925e-0d9faeaa22e2",
   "metadata": {
    "tags": []
   },
   "outputs": [],
   "source": []
  },
  {
   "cell_type": "code",
   "execution_count": null,
   "id": "0a0e092a-d1f2-4e1e-82ec-5f0c149bc961",
   "metadata": {
    "tags": []
   },
   "outputs": [],
   "source": [
    "model_name = name_from_base(f\"stable-lm-7b-djl\")\n",
    "print(model_name)\n",
    "\n",
    "create_model_response = sm_client.create_model(\n",
    "    ModelName=model_name,\n",
    "    ExecutionRoleArn=role,\n",
    "    PrimaryContainer={\"Image\": inference_image_uri, \"ModelDataUrl\": model_uri},\n",
    ")\n",
    "model_arn = create_model_response[\"ModelArn\"]\n",
    "\n",
    "print(f\"Created Model: {model_arn}\")"
   ]
  },
  {
   "cell_type": "code",
   "execution_count": null,
   "id": "341e0c51-b9e8-4c7e-9a42-b2020fd65c0c",
   "metadata": {
    "tags": []
   },
   "outputs": [],
   "source": [
    "# instance_type = \"ml.g4dn.xlarge\"\n",
    "instance_type = \"ml.g5.4xlarge\"\n",
    "\n",
    "endpoint_config_name = f\"{model_name}-config\"\n",
    "endpoint_name = f\"{model_name}-endpoint\"\n",
    "\n",
    "endpoint_config_response = sm_client.create_endpoint_config(\n",
    "    EndpointConfigName=endpoint_config_name,\n",
    "    ProductionVariants=[\n",
    "        {\n",
    "            \"VariantName\": \"variant1\",\n",
    "            \"ModelName\": model_name,\n",
    "            \"InstanceType\": instance_type,\n",
    "            \"InitialInstanceCount\": 1,\n",
    "            \"ContainerStartupHealthCheckTimeoutInSeconds\": 600,\n",
    "        },\n",
    "    ],\n",
    ")\n",
    "print(endpoint_config_response)"
   ]
  },
  {
   "cell_type": "code",
   "execution_count": null,
   "id": "ba504359-0082-43ec-9040-747dea8da9a9",
   "metadata": {
    "tags": []
   },
   "outputs": [],
   "source": [
    "create_endpoint_response = sm_client.create_endpoint(\n",
    "    EndpointName=f\"{endpoint_name}\", EndpointConfigName=endpoint_config_name\n",
    ")\n",
    "print(f\"Created Endpoint: {create_endpoint_response['EndpointArn']}\")"
   ]
  },
  {
   "cell_type": "code",
   "execution_count": null,
   "id": "e757ab2d-8081-460d-8cc5-4ec682d91b23",
   "metadata": {
    "tags": []
   },
   "outputs": [],
   "source": [
    "import time\n",
    "\n",
    "resp = sm_client.describe_endpoint(EndpointName=endpoint_name)\n",
    "status = resp[\"EndpointStatus\"]\n",
    "print(\"Status: \" + status)\n",
    "\n",
    "while status == \"Creating\":\n",
    "    time.sleep(60)\n",
    "    resp = sm_client.describe_endpoint(EndpointName=endpoint_name)\n",
    "    status = resp[\"EndpointStatus\"]\n",
    "    print(\"Status: \" + status)\n",
    "\n",
    "print(\"Arn: \" + resp[\"EndpointArn\"])\n",
    "print(\"Status: \" + status)"
   ]
  },
  {
   "cell_type": "code",
   "execution_count": null,
   "id": "ba401615-5514-4ac5-be52-b9d5a8cc82c7",
   "metadata": {
    "tags": []
   },
   "outputs": [],
   "source": [
    "import json"
   ]
  },
  {
   "cell_type": "code",
   "execution_count": null,
   "id": "1cf704bf-c3c9-4c68-8a81-70e2aa44e43e",
   "metadata": {
    "tags": []
   },
   "outputs": [],
   "source": [
    "# system_prompt = \"\"\"<|SYSTEM|># StableLM Tuned (Alpha version)\n",
    "# - StableLM is a helpful and harmless open-source AI language model developed by StabilityAI.\n",
    "# - StableLM is excited to be able to help the user, but will refuse to do anything that could be considered harmful to the user.\n",
    "# - StableLM is more than just an information source, StableLM is also able to write poetry, short stories, and make jokes.\n",
    "# - StableLM will refuse to participate in anything that could harm a human.\n",
    "# \"\"\"\n",
    "\n",
    "# prompt = f\"{system_prompt}<|USER|>What kind of animals can I adopt?\\n<|ASSISTANT|>\""
   ]
  },
  {
   "cell_type": "code",
   "execution_count": null,
   "id": "f4360c09-701f-408b-89f7-ef1586d90ff4",
   "metadata": {
    "tags": []
   },
   "outputs": [],
   "source": [
    "prompt = \"How can I buy some great phone in vietnam?\""
   ]
  },
  {
   "cell_type": "code",
   "execution_count": null,
   "id": "5aef9d0d-9e9f-48fb-8ae5-4b290d4509b3",
   "metadata": {
    "tags": []
   },
   "outputs": [],
   "source": [
    "%%time\n",
    "prompts = [prompt]\n",
    "\n",
    "response_model = sm_runtime_client.invoke_endpoint(\n",
    "    EndpointName=endpoint_name,\n",
    "    Body=json.dumps(\n",
    "        {\n",
    "            \"text\": prompts,\n",
    "            \"parameters\": {\n",
    "                \"max_new_tokens\": 512,\n",
    "                \"temperature\": 0.7,\n",
    "            },\n",
    "        }\n",
    "    ),\n",
    "    ContentType=\"application/json\",\n",
    ")"
   ]
  },
  {
   "cell_type": "code",
   "execution_count": null,
   "id": "62bc3ea0-a139-43cd-b5bb-425ab799f468",
   "metadata": {
    "tags": []
   },
   "outputs": [],
   "source": [
    "output = str(response_model[\"Body\"].read(), \"utf-8\")"
   ]
  },
  {
   "cell_type": "code",
   "execution_count": null,
   "id": "8ae43498-bf46-459f-927f-04bbb7eca525",
   "metadata": {
    "tags": []
   },
   "outputs": [],
   "source": [
    "print(output)"
   ]
  },
  {
   "cell_type": "code",
   "execution_count": null,
   "id": "14dda994-26bc-412e-bc85-00b4b16ac7c4",
   "metadata": {},
   "outputs": [],
   "source": []
  },
  {
   "cell_type": "code",
   "execution_count": null,
   "id": "9ebf6597-01d6-41f8-9af8-3c3cf30e94d0",
   "metadata": {},
   "outputs": [],
   "source": []
  }
 ],
 "metadata": {
  "kernelspec": {
   "display_name": "conda_pytorch_p39",
   "language": "python",
   "name": "conda_pytorch_p39"
  },
  "language_info": {
   "codemirror_mode": {
    "name": "ipython",
    "version": 3
   },
   "file_extension": ".py",
   "mimetype": "text/x-python",
   "name": "python",
   "nbconvert_exporter": "python",
   "pygments_lexer": "ipython3",
   "version": "3.9.15"
  }
 },
 "nbformat": 4,
 "nbformat_minor": 5
}
