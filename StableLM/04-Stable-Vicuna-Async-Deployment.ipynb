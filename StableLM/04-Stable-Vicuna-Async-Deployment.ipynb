{
 "cells": [
  {
   "cell_type": "markdown",
   "id": "7d8415c5-e395-485b-bb52-d8b085ae774c",
   "metadata": {},
   "source": [
    "## Deploy StableVicuna 13B\n",
    "\n",
    "- In this example, we deploy 13B model on g4dn.2xlage using 8bit quantization with DJL.\n",
    "- Also we uses async inference this time, which is good choice for LLM since inference time is not short.\n",
    "\n",
    "\n",
    "### Container that used for deployment\n",
    "- `763104351884.dkr.ecr.us-west-2.amazonaws.com/djl-inference:0.21.0-fastertransformer5.3.0-cu117`"
   ]
  },
  {
   "cell_type": "code",
   "execution_count": null,
   "id": "b6ef1097-3487-4310-a1bf-946809870e34",
   "metadata": {
    "tags": []
   },
   "outputs": [],
   "source": [
    "import boto3\n",
    "import sagemaker\n",
    "from sagemaker.utils import name_from_base\n",
    "from sagemaker import image_uris"
   ]
  },
  {
   "cell_type": "code",
   "execution_count": null,
   "id": "4a6db18b-955d-400b-8321-1286bd6f4a74",
   "metadata": {
    "tags": []
   },
   "outputs": [],
   "source": [
    "sagemaker_session = sagemaker.Session()\n",
    "role = sagemaker.get_execution_role()\n",
    "sm_client = sagemaker_session.sagemaker_client\n",
    "sm_runtime_client = sagemaker_session.sagemaker_runtime_client\n",
    "s3_client = boto3.client('s3')"
   ]
  },
  {
   "cell_type": "code",
   "execution_count": null,
   "id": "d30b8c0b-e82f-48fe-87c2-3b9cb626a7d7",
   "metadata": {
    "tags": []
   },
   "outputs": [],
   "source": [
    "llm_engine = \"fastertransformer\""
   ]
  },
  {
   "cell_type": "code",
   "execution_count": null,
   "id": "04cbc68f-834e-4329-b2f3-6ab8bd60e33a",
   "metadata": {
    "tags": []
   },
   "outputs": [],
   "source": [
    "framework_name = f\"djl-{llm_engine}\"\n",
    "inference_image_uri = image_uris.retrieve(\n",
    "    framework=framework_name, region=sagemaker_session.boto_session.region_name, version=\"0.21.0\"\n",
    ")\n",
    "\n",
    "print(f\"Inference container uri: {inference_image_uri}\")"
   ]
  },
  {
   "cell_type": "code",
   "execution_count": null,
   "id": "fe789a57-5fff-4917-84ce-1f11458ad84e",
   "metadata": {
    "tags": []
   },
   "outputs": [],
   "source": [
    "src_dir_name = \"stable-vicuna-src\""
   ]
  },
  {
   "cell_type": "code",
   "execution_count": null,
   "id": "b6c68093-9a65-4e6c-a4a7-eee5181270d4",
   "metadata": {
    "tags": []
   },
   "outputs": [],
   "source": [
    "s3_target = f\"s3://{sagemaker_session.default_bucket()}/llm/stable-vicuna/code/\""
   ]
  },
  {
   "cell_type": "code",
   "execution_count": null,
   "id": "84eb6fb9-9772-4a16-8573-98150e137f78",
   "metadata": {
    "tags": []
   },
   "outputs": [],
   "source": [
    "!rm -rf {src_dir_name}.tar.gz\n",
    "!tar zcvf {src_dir_name}.tar.gz {src_dir_name} --exclude \".ipynb_checkpoints\" --exclude \"__pycache__\"\n",
    "!aws s3 cp {src_dir_name}.tar.gz {s3_target}"
   ]
  },
  {
   "cell_type": "code",
   "execution_count": null,
   "id": "61309560-51fb-410d-941a-8194d0ed9dd1",
   "metadata": {
    "tags": []
   },
   "outputs": [],
   "source": [
    "model_uri = f\"{s3_target}{src_dir_name}.tar.gz\"\n",
    "print(model_uri)"
   ]
  },
  {
   "cell_type": "code",
   "execution_count": null,
   "id": "bad511be-44cd-496e-9384-dbfccfb5472c",
   "metadata": {
    "tags": []
   },
   "outputs": [],
   "source": [
    "model_name = name_from_base(f\"stable-vicuna-13b-djl\")\n",
    "print(model_name)\n",
    "\n",
    "create_model_response = sm_client.create_model(\n",
    "    ModelName=model_name,\n",
    "    ExecutionRoleArn=role,\n",
    "    PrimaryContainer={\"Image\": inference_image_uri, \"ModelDataUrl\": model_uri},\n",
    ")\n",
    "model_arn = create_model_response[\"ModelArn\"]\n",
    "\n",
    "print(f\"Created Model: {model_arn}\")"
   ]
  },
  {
   "cell_type": "code",
   "execution_count": null,
   "id": "eaa99547-d45d-4d9e-b55c-7468aa700962",
   "metadata": {},
   "outputs": [],
   "source": [
    "async_output_uri = f\"s3://{sagemaker_session.default_bucket()}/llm/outputs/{model_name}/\"\n",
    "print(async_output_uri)"
   ]
  },
  {
   "cell_type": "code",
   "execution_count": null,
   "id": "a312b26e-227a-43c0-80bd-a0d67c68c831",
   "metadata": {
    "tags": []
   },
   "outputs": [],
   "source": [
    "instance_type = \"ml.g4dn.2xlarge\"\n",
    "\n",
    "endpoint_config_name = f\"{model_name}-config\"\n",
    "endpoint_name = f\"{model_name}-endpoint\"\n",
    "\n",
    "endpoint_config_response = sm_client.create_endpoint_config(\n",
    "    EndpointConfigName=endpoint_config_name,\n",
    "    ProductionVariants=[\n",
    "        {\n",
    "            \"VariantName\": \"variant1\",\n",
    "            \"ModelName\": model_name,\n",
    "            \"InstanceType\": instance_type,\n",
    "            \"InitialInstanceCount\": 1,\n",
    "            \"ContainerStartupHealthCheckTimeoutInSeconds\": 600,\n",
    "        },\n",
    "    ],\n",
    "    AsyncInferenceConfig={\n",
    "        \"OutputConfig\": {\n",
    "            \"S3OutputPath\": async_output_uri,\n",
    "        },\n",
    "        \"ClientConfig\": {\n",
    "            \"MaxConcurrentInvocationsPerInstance\": 1\n",
    "        }\n",
    "    }\n",
    ")\n",
    "print(endpoint_config_response)"
   ]
  },
  {
   "cell_type": "code",
   "execution_count": null,
   "id": "419cc7a5-777a-4bb1-b203-bde48a207ac0",
   "metadata": {
    "tags": []
   },
   "outputs": [],
   "source": [
    "create_endpoint_response = sm_client.create_endpoint(\n",
    "    EndpointName=f\"{endpoint_name}\", EndpointConfigName=endpoint_config_name\n",
    ")\n",
    "print(f\"Created Endpoint: {create_endpoint_response['EndpointArn']}\")"
   ]
  },
  {
   "cell_type": "code",
   "execution_count": null,
   "id": "0ebdc470-919d-44c2-bb54-35fce454dbfd",
   "metadata": {
    "tags": []
   },
   "outputs": [],
   "source": [
    "import time\n",
    "\n",
    "resp = sm_client.describe_endpoint(EndpointName=endpoint_name)\n",
    "status = resp[\"EndpointStatus\"]\n",
    "print(\"Status: \" + status)\n",
    "\n",
    "while status == \"Creating\":\n",
    "    time.sleep(60)\n",
    "    resp = sm_client.describe_endpoint(EndpointName=endpoint_name)\n",
    "    status = resp[\"EndpointStatus\"]\n",
    "    print(\"Status: \" + status)\n",
    "\n",
    "print(\"Arn: \" + resp[\"EndpointArn\"])\n",
    "print(\"Status: \" + status)"
   ]
  },
  {
   "cell_type": "code",
   "execution_count": null,
   "id": "aa9b4e82-0143-4d57-9f4c-6ce899ac75fe",
   "metadata": {},
   "outputs": [],
   "source": [
    "import json\n",
    "import uuid"
   ]
  },
  {
   "cell_type": "code",
   "execution_count": null,
   "id": "6c00d316-ec73-4a30-a359-90b10b82f077",
   "metadata": {},
   "outputs": [],
   "source": [
    "# prompt = \"How to upload json text to S3 without saving to local, in python?\"\n",
    "# prompt = \"Can you draw a picture which contains pigs flying in the sky?\"\n",
    "prompt = \"\"\"\\\n",
    "### Human: How to upload json text to S3 without saving to local file system in python?\n",
    "### Assistant:\\\n",
    "\"\"\""
   ]
  },
  {
   "cell_type": "code",
   "execution_count": null,
   "id": "df34e899-1b81-4c22-b298-25796f068685",
   "metadata": {},
   "outputs": [],
   "source": [
    "prompts = [prompt]\n",
    "\n",
    "input_data = {\n",
    "    \"text\": prompts,\n",
    "    \"parameters\": {\n",
    "        \"max_new_tokens\": 256,\n",
    "        \"temperature\": 0.5,\n",
    "        \"top_p\": 0.5\n",
    "    },\n",
    "}\n",
    "\n",
    "print(input_data)"
   ]
  },
  {
   "cell_type": "code",
   "execution_count": null,
   "id": "a45e753d-b31e-410f-b31e-a3d004fa54d1",
   "metadata": {},
   "outputs": [],
   "source": [
    "default_bucket = sagemaker_session.default_bucket()"
   ]
  },
  {
   "cell_type": "code",
   "execution_count": null,
   "id": "15c47434-3bd0-4170-91b9-70469f04dc9d",
   "metadata": {
    "tags": []
   },
   "outputs": [],
   "source": [
    "# Upload input data onto the S3\n",
    "s3_uri = f\"llm/inputs/{model_name}/{uuid.uuid4()}.json\"\n",
    "s3_client.put_object(\n",
    "    Bucket=default_bucket,\n",
    "    Key=s3_uri,\n",
    "    Body=json.dumps(input_data))\n",
    "\n",
    "input_data_uri = f\"s3://{default_bucket}/{s3_uri}\""
   ]
  },
  {
   "cell_type": "code",
   "execution_count": null,
   "id": "293e0471-2f66-4841-9b44-0bd08cab8199",
   "metadata": {
    "tags": []
   },
   "outputs": [],
   "source": [
    "input_location = input_data_uri"
   ]
  },
  {
   "cell_type": "code",
   "execution_count": null,
   "id": "cfd5648a-f4e8-4eb2-8f6a-f1dbf4c6a926",
   "metadata": {},
   "outputs": [],
   "source": [
    "%%time\n",
    "response = sm_runtime_client.invoke_endpoint_async(\n",
    "    EndpointName=endpoint_name, \n",
    "    InputLocation=input_location\n",
    ")\n",
    "output_location = response[\"OutputLocation\"]"
   ]
  },
  {
   "cell_type": "code",
   "execution_count": null,
   "id": "18bbaded-f48b-4c0d-8ded-7d8b6453d505",
   "metadata": {},
   "outputs": [],
   "source": [
    "print(output_location)\n",
    "output_key_uri = \"/\".join(output_location.split(\"/\")[3:])"
   ]
  },
  {
   "cell_type": "markdown",
   "id": "89a79c07-b352-490d-b2c4-c10222d99bfa",
   "metadata": {},
   "source": [
    "### Check the result\n",
    "\n",
    "- This is async inference, therefore you need to check s3 output is exist.\n",
    "- In real service architecture, output s3 will trigger Lambda or other event using SNS, SQS, EventBridge, ..."
   ]
  },
  {
   "cell_type": "code",
   "execution_count": null,
   "id": "17cf5733-142d-4cf1-a530-62a69b2c1ad4",
   "metadata": {},
   "outputs": [],
   "source": [
    "\n",
    "try:\n",
    "    exists = s3_client.head_object(Bucket=default_bucket, Key=output_key_uri)['ResponseMetadata']['HTTPStatusCode'] == 200\n",
    "    if exists:\n",
    "        text_obj = s3_client.get_object(Bucket=default_bucket, Key=output_key_uri)['Body'].read()\n",
    "        text = text_obj.decode('utf-8')\n",
    "        print(text)\n",
    "except:\n",
    "    print(\"Data is not exist yet. Wait until inference finished or check the CW log\")"
   ]
  },
  {
   "cell_type": "code",
   "execution_count": null,
   "id": "21c03a60-640c-4994-95d8-ea46437e4b8f",
   "metadata": {},
   "outputs": [],
   "source": []
  },
  {
   "cell_type": "code",
   "execution_count": null,
   "id": "ef8d7d03-bde3-4948-89b1-c0e0a3e5696f",
   "metadata": {},
   "outputs": [],
   "source": []
  }
 ],
 "metadata": {
  "kernelspec": {
   "display_name": "conda_pytorch_p39",
   "language": "python",
   "name": "conda_pytorch_p39"
  },
  "language_info": {
   "codemirror_mode": {
    "name": "ipython",
    "version": 3
   },
   "file_extension": ".py",
   "mimetype": "text/x-python",
   "name": "python",
   "nbconvert_exporter": "python",
   "pygments_lexer": "ipython3",
   "version": "3.9.15"
  }
 },
 "nbformat": 4,
 "nbformat_minor": 5
}
