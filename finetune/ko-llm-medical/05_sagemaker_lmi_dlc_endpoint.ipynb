{
 "cells": [
  {
   "cell_type": "code",
   "execution_count": null,
   "id": "b5fd0f5e-492a-4392-9238-90adee48635b",
   "metadata": {},
   "outputs": [],
   "source": []
  },
  {
   "cell_type": "code",
   "execution_count": null,
   "id": "b2db1da2-b38d-40cb-ba94-a89680ad8a43",
   "metadata": {},
   "outputs": [],
   "source": [
    "%store -r"
   ]
  },
  {
   "cell_type": "code",
   "execution_count": null,
   "id": "3f1bb6a8-1151-48f4-9e5d-16f04c5a11b4",
   "metadata": {
    "tags": []
   },
   "outputs": [],
   "source": [
    "finetuned_model_uri"
   ]
  },
  {
   "cell_type": "markdown",
   "id": "35f7d80e-3575-4c05-8ea1-b4512e8dea2c",
   "metadata": {},
   "source": [
    "### Test LMI DLC based SageMaker endpoint in local environment\n",
    "\n",
    "- Before deploy endpoint, we can test it local env.\n",
    "- Refer to the `local_lmi_endpoint.sh` file"
   ]
  },
  {
   "cell_type": "code",
   "execution_count": null,
   "id": "f93a9256-97cd-4b87-ac89-e9d43e8a4b57",
   "metadata": {},
   "outputs": [],
   "source": []
  },
  {
   "cell_type": "code",
   "execution_count": null,
   "id": "3c0d24ab-e180-4a5c-a44d-ac9f18ac1df4",
   "metadata": {},
   "outputs": [],
   "source": []
  },
  {
   "cell_type": "code",
   "execution_count": null,
   "id": "2a62964a-16a5-4fba-8d1d-bd60e8117abf",
   "metadata": {},
   "outputs": [],
   "source": [
    "import sagemaker\n",
    "from sagemaker.utils import name_from_base\n",
    "from sagemaker import image_uris"
   ]
  },
  {
   "cell_type": "code",
   "execution_count": null,
   "id": "54dd72cd-7840-410a-997c-e60b892042d6",
   "metadata": {},
   "outputs": [],
   "source": [
    "sagemaker_session = sagemaker.Session()\n",
    "role = sagemaker.get_execution_role()\n",
    "sm_client = sagemaker_session.sagemaker_client\n",
    "sm_runtime_client = sagemaker_session.sagemaker_runtime_client\n",
    "default_bucket = sagemaker_session.default_bucket()"
   ]
  },
  {
   "cell_type": "code",
   "execution_count": null,
   "id": "6944c5d7-9fc0-4322-badb-55796c0049bf",
   "metadata": {},
   "outputs": [],
   "source": [
    "llm_engine = \"deepspeed\"\n",
    "# llm_engine = \"fastertransformer\""
   ]
  },
  {
   "cell_type": "code",
   "execution_count": null,
   "id": "02607616-a9c6-43d5-b485-0a3461762ee8",
   "metadata": {},
   "outputs": [],
   "source": [
    "framework_name = f\"djl-{llm_engine}\"\n",
    "inference_image_uri = image_uris.retrieve(\n",
    "    framework=framework_name, region=sagemaker_session.boto_session.region_name, version=\"0.25.0\"\n",
    ")\n",
    "print(f\"Inference container uri: {inference_image_uri}\")"
   ]
  },
  {
   "cell_type": "code",
   "execution_count": null,
   "id": "b233e69e-f020-461a-b187-7f0313a6cacf",
   "metadata": {},
   "outputs": [],
   "source": [
    "src_dir_name = f\"ko-llm-med-src\"\n",
    "s3_target = f\"s3://{default_bucket}/llm/med-finetune/code/\""
   ]
  },
  {
   "cell_type": "code",
   "execution_count": null,
   "id": "63935a52-a8b4-4f9f-a516-fd3634f082e8",
   "metadata": {},
   "outputs": [],
   "source": [
    "!rm -rf {src_dir_name}.tar.gz\n",
    "!tar zcvf {src_dir_name}.tar.gz {src_dir_name} --exclude \".ipynb_checkpoints\" --exclude \"__pycache__\"\n",
    "!aws s3 cp {src_dir_name}.tar.gz {s3_target}"
   ]
  },
  {
   "cell_type": "code",
   "execution_count": null,
   "id": "52eb15ad-c730-4532-8b94-9f7efeb9b76a",
   "metadata": {},
   "outputs": [],
   "source": [
    "model_uri = f\"{s3_target}{src_dir_name}.tar.gz\"\n",
    "print(model_uri)"
   ]
  },
  {
   "cell_type": "code",
   "execution_count": null,
   "id": "17939aed-225e-4590-a2cf-63c9b1683ade",
   "metadata": {},
   "outputs": [],
   "source": [
    "model_name = name_from_base(f\"ko-med-lmidlc\")\n",
    "print(model_name)\n",
    "\n",
    "create_model_response = sm_client.create_model(\n",
    "    ModelName=model_name,\n",
    "    ExecutionRoleArn=role,\n",
    "    PrimaryContainer={\"Image\": inference_image_uri, \"ModelDataUrl\": model_uri},\n",
    ")\n",
    "model_arn = create_model_response[\"ModelArn\"]\n",
    "\n",
    "print(f\"Created Model: {model_arn}\")"
   ]
  },
  {
   "cell_type": "code",
   "execution_count": null,
   "id": "4928c3c1-d1af-47d7-8430-7c43d397aee7",
   "metadata": {},
   "outputs": [],
   "source": [
    "instance_type = \"ml.g4dn.xlarge\"\n",
    "\n",
    "endpoint_config_name = f\"{model_name}-config\"\n",
    "endpoint_name = f\"{model_name}-endpoint\"\n",
    "\n",
    "endpoint_config_response = sm_client.create_endpoint_config(\n",
    "    EndpointConfigName=endpoint_config_name,\n",
    "    ProductionVariants=[\n",
    "        {\n",
    "            \"VariantName\": \"variant1\",\n",
    "            \"ModelName\": model_name,\n",
    "            \"InstanceType\": instance_type,\n",
    "            \"InitialInstanceCount\": 1,\n",
    "            \"ContainerStartupHealthCheckTimeoutInSeconds\": 450,\n",
    "        },\n",
    "    ],\n",
    ")\n",
    "print(endpoint_config_response)"
   ]
  },
  {
   "cell_type": "code",
   "execution_count": null,
   "id": "44f6117e-983a-41b5-b46a-63d08d76a8e1",
   "metadata": {},
   "outputs": [],
   "source": [
    "create_endpoint_response = sm_client.create_endpoint(\n",
    "    EndpointName=f\"{endpoint_name}\", EndpointConfigName=endpoint_config_name\n",
    ")\n",
    "print(f\"Created Endpoint: {create_endpoint_response['EndpointArn']}\")"
   ]
  },
  {
   "cell_type": "code",
   "execution_count": null,
   "id": "5cae8a99-22f5-492f-a836-7c6fc3858d89",
   "metadata": {},
   "outputs": [],
   "source": [
    "import time\n",
    "\n",
    "resp = sm_client.describe_endpoint(EndpointName=endpoint_name)\n",
    "status = resp[\"EndpointStatus\"]\n",
    "print(\"Status: \" + status)\n",
    "\n",
    "while status == \"Creating\":\n",
    "    time.sleep(60)\n",
    "    resp = sm_client.describe_endpoint(EndpointName=endpoint_name)\n",
    "    status = resp[\"EndpointStatus\"]\n",
    "    print(\"Status: \" + status)\n",
    "\n",
    "print(\"Arn: \" + resp[\"EndpointArn\"])\n",
    "print(\"Status: \" + status)"
   ]
  },
  {
   "cell_type": "code",
   "execution_count": null,
   "id": "3094e587-08d2-4776-89cd-ab8935840bd5",
   "metadata": {
    "tags": []
   },
   "outputs": [],
   "source": [
    "import json"
   ]
  },
  {
   "cell_type": "code",
   "execution_count": null,
   "id": "d722051d-9980-4e97-862b-b2c98613d721",
   "metadata": {},
   "outputs": [],
   "source": [
    "# prompt = \"초록색 가래가 계속 나오고 기침이 나오는데, 큰 병은 아닐까요?\"\n",
    "# prompt = \"항문압 측정 검사에서 항문 압력이 증가하는 경우는 어떤 경우일까요?\"\n",
    "# prompt = \"55세 남자가 위암으로 위절제술을 받았다. 수술 후 3일째 혈색소가 6.7 g/dL,로 감소하여 농축적혈구 수혈을 시작하였다. 수혈 도중 갑자기 오한과 발열이 발생하였으며, 복부 피부절개 부위에서 혈성 삼출물이 보이고 수혈 주사부위에 통증이 생겼다. 혈압 100/60 mmHg, 맥박 102회/분, 호흡 24회/분, 체온 38.2도 이다. 처치는?\"\n",
    "# prompt = \"감염병 유행 역학조사를 수행하면서 인구학적 특성별, 발생 시기별로 환자발생 점지도(spot map) 를 작성하였다. 이를 통해 알 수 있는 것은?\"\n",
    "# prompt = \"42세 남자가 1개월 전부터 숨이 많이 찬다며 병원에 왔다. 4년 전부터 숨이 찼다고 한다. 1주 전부터는 기침도 하고, 밤에 잘 때 쌕쌕거리는 소리도 난다고 한다. 20갑 ∙ 년의 흡연자이다. 혈압 120/70 mmHg, 맥박 88회/분, 호흡 20회/분, 체온 36.4℃이다. 가슴 청진에서 호흡음은 정상이다. 가슴 X선사진은 정상이다. 폐기능검사 결과는 다음과 같다. 다음 검사는?강제폐활량: 3.0 L (예측치의 92%) 1초간 강제날숨량: 2.7 L (예측치의 90%)\"\n",
    "# prompt = \"1개월 남아가 12시간 전부터 피부색이 창백하고 얼룩덜룩하게 변하여 병원에 왔다. 하루 전부터 많이 보채면서 한 번에 분유를 30 mL도 못 먹었지만 배가 불러보였다고 한다. 어딘지 평소와 다르게 보였고, 집에서 측정한 체온은 35.9℃부터 37.7℃까지 오르내렸다. 임신나이 39주, 출생체중 3,300 g, 질분만으로 태어나서, 아프기 전에는 잘 지내왔었다. 혈압 65/45 mmHg, 맥박 155회/분, 호흡 60회/분, 체온 39.2℃이다. 피부색은 창백하고, 진찰하는 동안에도 많이 처져서 잘 울지 않는다. 검사는?\" \n",
    "# prompt = \"우리나라는 환자의 수도권 집중 방지와 지방의 진료 역량 강화를 위하여 수도권을 제외한 시도에 권역 단위로 전문질환센터를 지정하여 지원하고 있다. 권역 전문질환센터의 설립 취지를 반영하는 병원 관리 평가지표는?\"\n",
    "# prompt = \"65세 이상 노인에게서 인플루엔자 예방접종이 폐렴으로 인한 입원율을 낮추는 효과가 있는지 확인하려고 한다. 일정기간 폐렴으로 인한 입원 환자 수는 접종군 4,000명 중 20명, 비접종군 2,000명 중 40명이다. 인플루엔자 예방접종의 폐렴 입원에 대한 예방효과는?\"\n",
    "# prompt = \"펜션에서 투숙객 3명이 혼수상태로 발견되었다. 특별한 외상은 관찰되지 않았으며, 혈액검사에서 일산화탄소헤모글로빈(COHb) 은 40% 이상이었다. 치료는?\"\n",
    "# prompt = \"미생물연구실에서 실험을 하던 25세 여자가 눈의 충혈, 이물감, 시림, 통증으로 병원에 왔다. 이 여자는 보안경을 착용하지 않은 채 무균실험대 위에서 살균등을 켜고 실험을 하였다. 노출이 의심되는 방사선은?\"\n",
    "# prompt = \"42세 남자가 화를 못 참겠다며 병원에 왔다. 1개월 전에 골육종으로 오른쪽 다리를 절단해야 한다는 진단을 받았다. 상급종합병원에서 다시 한 번 검사를 받았으나 결과는 같았다. 왜 이런 일이 생긴 건지 믿을 수가 없다며 화를 내다가도 아직 7개월밖에 안 된 아들을 생각하면 갑자기 눈물이 나와 멈출 수가 없었다. 직장에서는 사소한 일에도 화가 치밀어 동료들과 다툼이 잦아졌고 업무에도 실수가 많아져 사람이 갑자기 변했다는 소리를 들었다고 한다. 밤에는 미래에 대한 걱정으로 잠을 거의 자지 못했고 식욕이 없어 하루에 한 끼를 겨우 먹었다. 치료는?\"\n",
    "prompt = \"나이가 만 38세 정도 되는데 운동하다가 허리를 삐끗한 것 같습니다. 통증이 계속해서 줄어들지 않는데 어떻게 할까요?\"\n",
    "\n",
    "# prompt = \"python과 javascript와 java는 어떤 점이 다른가요?\"\n",
    "# prompt = \"전주에서 여행할 만한 곳 좀 추천해주세요.\""
   ]
  },
  {
   "cell_type": "code",
   "execution_count": null,
   "id": "be215b91-4542-40dc-bb97-e8b64ac3c3e3",
   "metadata": {
    "tags": []
   },
   "outputs": [],
   "source": [
    "# instruction = \"아래 질문에 대해서 최대한 길고 자세하게 답변해 주세요.\"\n",
    "\n",
    "instruction = \"\"\"\n",
    "당신은 똑똑한 의사입니다. 질문에 대해서 최대한 자세하게 어떤 병인지, 치료법은 무엇인지 환자에게 설명하듯 친절하게 설명해 주세요.\n",
    "\"\"\"\n",
    "\n"
   ]
  },
  {
   "cell_type": "code",
   "execution_count": null,
   "id": "c43fd393-fd01-4685-8e4c-c841965e35f3",
   "metadata": {
    "tags": []
   },
   "outputs": [],
   "source": [
    "payload = {\n",
    "            \"input_text\": prompt,\n",
    "            \"instruction\": instruction,\n",
    "            \"parameters\": {\n",
    "                \"max_new_tokens\": 4096,\n",
    "                \"temperature\": 0.9,\n",
    "                \"top_p\": 0.9,\n",
    "            },\n",
    "        }"
   ]
  },
  {
   "cell_type": "code",
   "execution_count": null,
   "id": "81453c3a-4cf9-4591-97d2-706d095c839f",
   "metadata": {},
   "outputs": [],
   "source": [
    "%%time\n",
    "\n",
    "response_model = sm_runtime_client.invoke_endpoint(\n",
    "    EndpointName=endpoint_name,\n",
    "    Body=json.dumps(payload),\n",
    "    ContentType=\"application/json\",\n",
    ")"
   ]
  },
  {
   "cell_type": "code",
   "execution_count": null,
   "id": "60470f61-df53-48de-8098-185c733ceda0",
   "metadata": {
    "tags": []
   },
   "outputs": [],
   "source": [
    "output = str(response_model[\"Body\"].read(), \"utf-8\")\n",
    "print(output)"
   ]
  },
  {
   "cell_type": "code",
   "execution_count": null,
   "id": "814f0664-5492-4815-8b3c-93855db9fbff",
   "metadata": {},
   "outputs": [],
   "source": []
  },
  {
   "cell_type": "markdown",
   "id": "59b90d92-2ee5-4cf4-9be5-1fe7caef1b58",
   "metadata": {
    "tags": []
   },
   "source": [
    "## 참고\n",
    "\n",
    "- Local LMI DLC 배포 후 테스트하는 경우"
   ]
  },
  {
   "cell_type": "code",
   "execution_count": null,
   "id": "4018eb00-6fd8-438f-b0ad-e12d8df75ba2",
   "metadata": {
    "tags": []
   },
   "outputs": [],
   "source": [
    "import requests\n",
    "\n",
    "endpoint = \"http://127.0.0.1:8080/invocations\"\n",
    "\n",
    "# data = json.dumps(payload)\n",
    "data = payload\n",
    "headers = {\"content-type\": \"application/json\"}\n",
    "\n",
    "response_model = requests.post(\n",
    "    endpoint, headers=headers, json=data)"
   ]
  },
  {
   "cell_type": "code",
   "execution_count": null,
   "id": "7d6af26f-46b0-4844-bf8b-a53c4afab4ad",
   "metadata": {
    "tags": []
   },
   "outputs": [],
   "source": [
    "print(response_model.text)"
   ]
  },
  {
   "cell_type": "code",
   "execution_count": null,
   "id": "8bdbd4f8-5a32-4703-b572-52e70d82d91d",
   "metadata": {
    "tags": []
   },
   "outputs": [],
   "source": []
  },
  {
   "cell_type": "code",
   "execution_count": null,
   "id": "d949ede1-de5a-4904-bcca-4c26c0351da6",
   "metadata": {},
   "outputs": [],
   "source": []
  },
  {
   "cell_type": "code",
   "execution_count": null,
   "id": "914a860e-0531-441a-824c-c1d3a090ee59",
   "metadata": {},
   "outputs": [],
   "source": []
  }
 ],
 "metadata": {
  "kernelspec": {
   "display_name": "conda_pytorch_p310",
   "language": "python",
   "name": "conda_pytorch_p310"
  },
  "language_info": {
   "codemirror_mode": {
    "name": "ipython",
    "version": 3
   },
   "file_extension": ".py",
   "mimetype": "text/x-python",
   "name": "python",
   "nbconvert_exporter": "python",
   "pygments_lexer": "ipython3",
   "version": "3.10.13"
  }
 },
 "nbformat": 4,
 "nbformat_minor": 5
}
