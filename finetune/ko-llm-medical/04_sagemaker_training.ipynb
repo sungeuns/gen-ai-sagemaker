{
 "cells": [
  {
   "cell_type": "code",
   "execution_count": null,
   "id": "9a5148b9-9ee3-4dc6-a364-1a9e789e5858",
   "metadata": {},
   "outputs": [],
   "source": []
  },
  {
   "cell_type": "markdown",
   "id": "ebda6ad9-cd79-4798-b7be-991c36d4b2c0",
   "metadata": {},
   "source": [
    "## SageMaker managed training 테스트\n",
    "\n",
    "- 먼저 모델과 데이터를 s3로 업로드 합니다.\n",
    "- HF transformers의 Trainer 는 HF model hub에서 `model_id`를 통해 모델을 직접 받아서 학습하는 것도 문제 없지만, s3에 올려두고 이를 활용하는 것이 더 효율적입니다.\n"
   ]
  },
  {
   "cell_type": "code",
   "execution_count": null,
   "id": "31cd15f1-9a80-4026-833d-88e9dbd9c735",
   "metadata": {
    "tags": []
   },
   "outputs": [],
   "source": [
    "%store -r"
   ]
  },
  {
   "cell_type": "code",
   "execution_count": null,
   "id": "c226a471-6c47-49b5-82aa-e8780dcff1c4",
   "metadata": {
    "tags": []
   },
   "outputs": [],
   "source": [
    "# model_download_path = \"/home/ec2-user/SageMaker/models/LDCC-SOLAR-10-7B/models--LDCC--LDCC-SOLAR-10.7B/snapshots/1055563879363d9ee2fba1d9fd1628eca6bcbb4e\"\n",
    "print(model_download_path)"
   ]
  },
  {
   "cell_type": "code",
   "execution_count": null,
   "id": "d41962f7-5883-4b6a-b38e-7b2695c0f92e",
   "metadata": {
    "tags": []
   },
   "outputs": [],
   "source": [
    "import time\n",
    "import sagemaker\n",
    "import boto3\n",
    "from sagemaker.utils import name_from_base\n",
    "from sagemaker.inputs import TrainingInput\n",
    "from sagemaker.pytorch import PyTorch\n",
    "from datasets import load_dataset, load_from_disk\n",
    "\n",
    "sess = sagemaker.Session()\n",
    "region = boto3.Session().region_name\n",
    "bucket = sess.default_bucket()\n",
    "role = sagemaker.get_execution_role()"
   ]
  },
  {
   "cell_type": "code",
   "execution_count": null,
   "id": "2ebfde97-8a58-40b2-a670-fbfc599a106c",
   "metadata": {
    "tags": []
   },
   "outputs": [],
   "source": [
    "# %%bash\n",
    "# aws configure set default.s3.max_concurrent_requests 100\n",
    "# aws configure set default.s3.max_queue_size 10000\n",
    "# aws configure set default.s3.multipart_threshold 1GB\n",
    "# aws configure set default.s3.multipart_chunksize 64MB"
   ]
  },
  {
   "cell_type": "code",
   "execution_count": null,
   "id": "7fb7515b-066d-4fd7-bf08-7642299652f8",
   "metadata": {
    "tags": []
   },
   "outputs": [],
   "source": [
    "base_s3_path = f\"llm/med-finetune\"\n",
    "model_s3_path = f\"{base_s3_path}/models\"\n",
    "s3_model_artifact = sess.upload_data(path=model_download_path, key_prefix=model_s3_path)"
   ]
  },
  {
   "cell_type": "code",
   "execution_count": null,
   "id": "50cddb7d-c631-4d12-8d90-a871eb7ca534",
   "metadata": {
    "tags": []
   },
   "outputs": [],
   "source": [
    "# s3_model_artifact = \"s3://sagemaker-us-east-1-934513584979/llm/med-finetune/models\"\n",
    "print(s3_model_artifact)"
   ]
  },
  {
   "cell_type": "code",
   "execution_count": null,
   "id": "47801c95-44c7-4b93-9d4c-067bac369507",
   "metadata": {
    "tags": []
   },
   "outputs": [],
   "source": [
    "data_s3_path = f\"{base_s3_path}/datasets\"\n",
    "s3_data_artifact = sess.upload_data(path=\"./dataset\", key_prefix=data_s3_path)"
   ]
  },
  {
   "cell_type": "code",
   "execution_count": null,
   "id": "7755ead0-2788-4547-9d1f-3cb9d8d16717",
   "metadata": {
    "tags": []
   },
   "outputs": [],
   "source": [
    "# s3_data_artifact = \"s3://sagemaker-us-east-1-934513584979/llm/med-finetune/datasets\"\n",
    "print(s3_data_artifact)"
   ]
  },
  {
   "cell_type": "markdown",
   "id": "db805c97-9076-4601-bf1d-9bc2056714e0",
   "metadata": {},
   "source": [
    "\n",
    "### SageMaker를 활용한 학습\n",
    "\n",
    "- 학습 데이터와 base model 이 준비되면 sagemaker 를 활용하여 학습할 수 있습니다.\n",
    "- 실제 학습과 관련된 코드는 `src` 디렉토리 내에 있습니다.\n",
    "  - SageMaker training이 시작되면, EC2 위에서 docker container가 동작합니다.\n",
    "  - 데이터와 모델을 s3에서 다운받은 후, `./run.sh` 가 실행됩니다.\n",
    "  - `./run.sh` 에서는 `train.py`를 실행하게 됩니다.\n",
    "- 로컬 환경과 sagemaker training 환경에서 다른 점은 `base model의 경로`와 `data 경로`, 학습된 모델이 `저장될 경로`라는 점을 주의깊게 살펴 볼 필요가 있습니다.\n",
    "\n",
    "\n",
    "### 로컬 환경 training 테스트\n",
    "\n",
    "- 만일 로컬 환경에서 먼저 학습이 잘 되는지를 테스트해 보고 싶은 경우 `src/local-run.sh` 을 참고해 주세요.\n",
    "- 이 때 적절하게 base model path를 맞추어 주어야 합니다.\n",
    "\n",
    "```\n",
    "# 패키지 설치 환경으로 설정\n",
    "source /home/ec2-user/anaconda3/bin/activate JupyterSystemEnv\n",
    "conda env list\n",
    "conda activate pytorch_p310\n",
    "\n",
    "# 로컬 학습 테스트 진행\n",
    "cd src\n",
    "./local-run.sh\n",
    "```\n"
   ]
  },
  {
   "cell_type": "code",
   "execution_count": null,
   "id": "9cdfe593-cf90-48e7-acd7-a9cfebe90e83",
   "metadata": {
    "tags": []
   },
   "outputs": [],
   "source": [
    "# instance_type = \"ml.g5.4xlarge\"  # model merge 등을 사용한다면 일정 이상 RAM이 필요합니다.\n",
    "instance_type = \"ml.p3.2xlarge\"  # workshop 에서 quota 부족시 고려\n",
    "\n",
    "if instance_type in ['local', 'local_gpu']:\n",
    "    from sagemaker.local import LocalSession\n",
    "    sm_session = LocalSession()\n",
    "    sm_session.config = {'local': {'local_code': True}}\n",
    "else:\n",
    "    sm_session = sagemaker.session.Session()\n",
    "    \n",
    "print(f\"instance type : {instance_type}\")"
   ]
  },
  {
   "cell_type": "markdown",
   "id": "6495f779-453e-4254-95fd-afd1d03e7a6b",
   "metadata": {},
   "source": [
    "### 학습을 위한 주요 파라미터\n",
    "\n",
    "- hyperparameter와 별개로, 중요한 파라미터를 살펴보는 것이 좋습니다.\n",
    "  - `image_uri` : 여기서는 image uri로 직접 주었지만, torch와 python 버전만 명시하는 방법도 있습니다. [예시](https://sagemaker.readthedocs.io/en/stable/frameworks/pytorch/using_pytorch.html#create-an-estimator) 를 참고해 주세요.\n",
    "  - `source_dir`와 `entry_point` 가 실제 학습될 코드입니다.\n",
    "  - `estimator` 정의 후 `fit()` 함수 호출 시 넣어주는 변수를 주의 깊게 봐야 합니다. 여기서는 base model 과 data path를 넣어주고 있습니다.\n"
   ]
  },
  {
   "cell_type": "code",
   "execution_count": null,
   "id": "1e9b6ba7-910e-4989-97ca-3ff78fb4ff05",
   "metadata": {
    "tags": []
   },
   "outputs": [],
   "source": [
    "\n",
    "# Define Training Job Name \n",
    "job_name = \"ko-medllm-finetune\"\n",
    "#checkpoint_s3_uri = f\"s3://{bucket}/llm/med-finetune/{job_name}/checkpoints\"\n",
    "\n",
    "# See https://github.com/aws/deep-learning-containers/blob/master/available_images.md\n",
    "image_uri = f'763104351884.dkr.ecr.{region}.amazonaws.com/pytorch-training:2.1.0-gpu-py310-cu121-ubuntu20.04-sagemaker'\n",
    "hparams = {}\n",
    "\n",
    "max_run = 60 * 60 * 12 # 12 hrs\n",
    "   \n",
    "use_spot_instances = False\n",
    "if use_spot_instances:\n",
    "    max_wait = 12*60*60 # 12 hours: spot instance waiting + max runtime\n",
    "else:\n",
    "    max_wait = None\n",
    "\n",
    "print(f\"image uri : {image_uri}\")"
   ]
  },
  {
   "cell_type": "code",
   "execution_count": null,
   "id": "32f7ce75-7b3c-4729-b365-3ed2d2a3ea1d",
   "metadata": {
    "tags": []
   },
   "outputs": [],
   "source": [
    "\n",
    "# Create the Estimator\n",
    "estimator = PyTorch(\n",
    "    image_uri=image_uri,\n",
    "    entry_point='run.sh',        # train script\n",
    "    source_dir='src',               # directory which includes all the files needed for training\n",
    "    instance_type=instance_type,    # instances type used for the training job\n",
    "    instance_count=1,               # the number of instances used for training\n",
    "    base_job_name=job_name,         # the name of the training job\n",
    "    role=role,                      # Iam role used in training job to access AWS ressources, e.g. S3\n",
    "    sagemaker_session=sm_session,   # sagemaker session\n",
    "    volume_size=300,                # the size of the EBS volume in GB\n",
    "    hyperparameters=hparams,\n",
    "    debugger_hook_config=False,\n",
    "    disable_profile=True,\n",
    "    use_spot_instances=use_spot_instances,\n",
    "    max_run=max_run,\n",
    "    max_wait=max_wait if use_spot_instances else None,\n",
    "    # checkpoint_s3_uri=checkpoint_s3_uri if instance_type not in ['local', 'local_gpu'] else None,\n",
    "    # checkpoint_local_path='/opt/ml/checkpoints' if instance_type not in ['local', 'local_gpu'] else None,\n",
    ")"
   ]
  },
  {
   "cell_type": "code",
   "execution_count": null,
   "id": "b454451a-7a17-49da-af9b-d36d1cec6af5",
   "metadata": {
    "tags": []
   },
   "outputs": [],
   "source": [
    "LOCAL_MODE = False\n",
    "\n",
    "if LOCAL_MODE:\n",
    "    estimator.fit(\n",
    "        {\n",
    "            \"pretrained\": f'file://../../models/{model_name}', # local mode 사용시 적절하게 변경필요\n",
    "            \"training\": f'file://./dataset'\n",
    "        },\n",
    "        wait=False\n",
    "    )\n",
    "else:\n",
    "    fast_file = lambda x: TrainingInput(x, input_mode=\"FastFile\")\n",
    "    estimator.fit(\n",
    "        {\n",
    "            \"pretrained\": fast_file(s3_model_artifact),\n",
    "            \"training\": fast_file(s3_data_artifact),\n",
    "        },\n",
    "        wait=False\n",
    "    )\n",
    "\n",
    "    from IPython.display import display, HTML\n",
    "\n",
    "    def make_console_link(region, train_job_name, train_task='[Training]'):\n",
    "        train_job_link = f'<b> {train_task} Review <a target=\"blank\" href=\"https://console.aws.amazon.com/sagemaker/home?region={region}#/jobs/{train_job_name}\">Training Job</a></b>'   \n",
    "        cloudwatch_link = f'<b> {train_task} Review <a target=\"blank\" href=\"https://console.aws.amazon.com/cloudwatch/home?region={region}#logStream:group=/aws/sagemaker/TrainingJobs;prefix={train_job_name};streamFilter=typeLogStreamPrefix\">CloudWatch Logs</a></b>'\n",
    "        return train_job_link, cloudwatch_link  \n",
    "\n",
    "    train_job_name = estimator.latest_training_job.job_name\n",
    "    train_job_link, cloudwatch_link = make_console_link(region, train_job_name, '[Fine-tuning]')\n",
    "\n",
    "    display(HTML(train_job_link))\n",
    "    display(HTML(cloudwatch_link))"
   ]
  },
  {
   "cell_type": "code",
   "execution_count": null,
   "id": "efd6aa39-0c8c-468e-911e-c64de74bf2b7",
   "metadata": {
    "tags": []
   },
   "outputs": [],
   "source": [
    "print(f\"Job name: {train_job_name}\")\n"
   ]
  },
  {
   "cell_type": "code",
   "execution_count": null,
   "id": "ee7c2dcc-43f9-4349-895a-15bd7eaf6306",
   "metadata": {
    "tags": []
   },
   "outputs": [],
   "source": [
    "estimator.logs()"
   ]
  },
  {
   "cell_type": "markdown",
   "id": "8a38b7b7-4071-46a4-a41a-0c7d33bc5c91",
   "metadata": {},
   "source": [
    "### 학습 완료 시\n",
    "\n",
    "- 현재 기본 설정으로 학습 완료 후 model merge를 하도록 해 놓았습니다.\n",
    "- 여기서는 merge 된 finetuned model 을 가져와서 로컬로 테스트해 볼 수도 있고, sagemaker endpoint로 배포하기 위해 s3에 추가로 올려 놓을 수도 있습니다."
   ]
  },
  {
   "cell_type": "code",
   "execution_count": null,
   "id": "381af905-0dc5-4113-b490-88af953d274f",
   "metadata": {},
   "outputs": [],
   "source": [
    "finetuned_model_s3_uri = estimator.model_data"
   ]
  },
  {
   "cell_type": "code",
   "execution_count": null,
   "id": "0d6f391c-45b7-4267-9eba-a6942bad633a",
   "metadata": {
    "tags": []
   },
   "outputs": [],
   "source": [
    "# finetuned_model_s3_uri = \"s3://sagemaker-us-east-1-934513584979/ko-medllm-finetune-2024-03-25-04-28-34-336/output/model.tar.gz\"\n",
    "print(finetuned_model_s3_uri)"
   ]
  },
  {
   "cell_type": "code",
   "execution_count": null,
   "id": "e863f639-6bca-44dd-ad6b-13dc042e0bfd",
   "metadata": {},
   "outputs": [],
   "source": [
    "%%bash\n",
    "aws configure set default.s3.max_concurrent_requests 100\n",
    "aws configure set default.s3.max_queue_size 10000\n",
    "aws configure set default.s3.multipart_threshold 1GB\n",
    "aws configure set default.s3.multipart_chunksize 64MB"
   ]
  },
  {
   "cell_type": "code",
   "execution_count": null,
   "id": "9b9f2ddd-e419-4f96-a2b7-efb85e7f19cf",
   "metadata": {},
   "outputs": [],
   "source": [
    "import json, os\n",
    "\n",
    "local_model_dir = 'model_from_sagemaker'\n",
    "\n",
    "if not os.path.exists(local_model_dir):\n",
    "    os.makedirs(local_model_dir)\n",
    "\n",
    "!aws s3 cp {finetuned_model_s3_uri} {local_model_dir}/model.tar.gz\n",
    "!tar -xzf {local_model_dir}/model.tar.gz -C {local_model_dir}\n",
    "!rm {local_model_dir}/model.tar.gz"
   ]
  },
  {
   "cell_type": "code",
   "execution_count": null,
   "id": "9ec5453f-9b02-47ca-8aad-49127f8b35ae",
   "metadata": {
    "tags": []
   },
   "outputs": [],
   "source": [
    "finetuned_model_s3_path = f\"{base_s3_path}/finetuned-model\"\n",
    "finetuned_model_uri = sess.upload_data(path=local_model_dir, key_prefix=finetuned_model_s3_path)"
   ]
  },
  {
   "cell_type": "code",
   "execution_count": null,
   "id": "ce2a9da3-f21e-4380-a5d3-ee71ae6e928f",
   "metadata": {
    "tags": []
   },
   "outputs": [],
   "source": [
    "print(finetuned_model_uri)"
   ]
  },
  {
   "cell_type": "code",
   "execution_count": null,
   "id": "a1c4d2eb-4a36-4630-9f47-d7e98343d1a1",
   "metadata": {},
   "outputs": [],
   "source": [
    "%store finetuned_model_uri"
   ]
  },
  {
   "cell_type": "code",
   "execution_count": null,
   "id": "b5ced2a1-1299-41de-9654-9359f41300a0",
   "metadata": {},
   "outputs": [],
   "source": []
  },
  {
   "cell_type": "code",
   "execution_count": null,
   "id": "1df2314f-cdb0-4833-b3ba-c30f70bb5b29",
   "metadata": {},
   "outputs": [],
   "source": []
  },
  {
   "cell_type": "code",
   "execution_count": null,
   "id": "86eab344-a4ad-47f1-a80d-4d4b7ca6c23f",
   "metadata": {},
   "outputs": [],
   "source": []
  },
  {
   "cell_type": "code",
   "execution_count": null,
   "id": "2ea5803e-7169-463b-b3bf-b459f7eb0729",
   "metadata": {},
   "outputs": [],
   "source": []
  }
 ],
 "metadata": {
  "kernelspec": {
   "display_name": "conda_pytorch_p310",
   "language": "python",
   "name": "conda_pytorch_p310"
  },
  "language_info": {
   "codemirror_mode": {
    "name": "ipython",
    "version": 3
   },
   "file_extension": ".py",
   "mimetype": "text/x-python",
   "name": "python",
   "nbconvert_exporter": "python",
   "pygments_lexer": "ipython3",
   "version": "3.10.13"
  }
 },
 "nbformat": 4,
 "nbformat_minor": 5
}
